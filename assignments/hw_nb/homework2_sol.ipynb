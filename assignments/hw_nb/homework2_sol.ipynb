{
 "cells": [
  {
   "cell_type": "markdown",
   "metadata": {},
   "source": [
    "# Homework 2: Interpolation"
   ]
  },
  {
   "cell_type": "markdown",
   "metadata": {},
   "source": [
    "## Objectives\n",
    "\n",
    "In this homework we will focus on\n",
    "- Trigonometric functions and issues involved with them.  In particular units and difficulties in working with the inverse trigonometric functions.\n",
    "- Using and understanding the behavior of splines as implemented in `scipy.interpolate`."
   ]
  },
  {
   "cell_type": "markdown",
   "metadata": {},
   "source": [
    "## Initialization"
   ]
  },
  {
   "cell_type": "markdown",
   "metadata": {},
   "source": [
    "As always you should add initialization to the top of your notebook. Though not strictly necessary, it is a good habit to include all initialization here."
   ]
  },
  {
   "cell_type": "code",
   "execution_count": 1,
   "metadata": {
    "nbgrader": {
     "grade": true,
     "grade_id": "cell-7984a64835266ae2",
     "locked": false,
     "points": 0,
     "schema_version": 1,
     "solution": true
    }
   },
   "outputs": [],
   "source": [
    "### BEGIN SOLUTION\n",
    "import numpy as np\n",
    "import matplotlib.pyplot as plt\n",
    "%matplotlib inline\n",
    "import scipy.interpolate as interp\n",
    "# Globally fix plot styling\n",
    "import matplotlib as mpl\n",
    "mpl.rc('xtick', direction='in', top=True)\n",
    "mpl.rc('ytick', direction='in', right=True)\n",
    "### END SOLUTION"
   ]
  },
  {
   "cell_type": "markdown",
   "metadata": {},
   "source": [
    "## Trigonometric functions\n",
    "\n",
    "Trigonometric functions in most math libraries accept arguments in radians.  Similarly, the inverse trigonometric functions return values in radians. "
   ]
  },
  {
   "cell_type": "markdown",
   "metadata": {},
   "source": [
    "To verify this is true in `numpy` calculate and print $\\sin(\\pi/2)$ and $\\sin^{-1}(\\sin(\\pi/2))$. Compare the latter result to $\\pi/2$.  Note that you can access the required trigonometric functions in `numpy` as `sin` and `arcsin`."
   ]
  },
  {
   "cell_type": "code",
   "execution_count": 2,
   "metadata": {
    "nbgrader": {
     "grade": true,
     "grade_id": "cell-68919e372e07affc",
     "locked": false,
     "points": 0.5,
     "schema_version": 1,
     "solution": true
    }
   },
   "outputs": [
    {
     "name": "stdout",
     "output_type": "stream",
     "text": [
      "sin(pi/2) = 1.0\n",
      "arcsin(sin(pi/2)) = 1.5707963267948966\n",
      "pi/2 = 1.5707963267948966\n"
     ]
    }
   ],
   "source": [
    "### BEGIN SOLUTION\n",
    "s = np.sin(np.pi/2.)\n",
    "print('sin(pi/2) =', s)\n",
    "print('arcsin(sin(pi/2)) =', np.arcsin(s))\n",
    "print('pi/2 =', np.pi/2)\n",
    "### END SOLUTION"
   ]
  },
  {
   "cell_type": "markdown",
   "metadata": {},
   "source": [
    "We can do the same thing with other trigonometric functions.  Let us try the tangent function.  Calculate and print $\\tan(5\\pi/3)$, $\\tan^{-1}(\\tan(5\\pi/3))$, and compare the result of the latter to $5\\pi/3$.  Here you can use the `numpy` functions `tan` and `arctan`."
   ]
  },
  {
   "cell_type": "code",
   "execution_count": 3,
   "metadata": {
    "nbgrader": {
     "grade": true,
     "grade_id": "cell-82dd8fd4dc5e6b31",
     "locked": false,
     "points": 0.5,
     "schema_version": 1,
     "solution": true
    }
   },
   "outputs": [
    {
     "name": "stdout",
     "output_type": "stream",
     "text": [
      "tan(5pi/3) = -1.732050807568877\n",
      "arctan(tan(5pi/3)) = -1.0471975511965976\n",
      "5pi/3 = 5.235987755982989\n"
     ]
    }
   ],
   "source": [
    "### BEGIN SOLUTION\n",
    "t = np.tan(5*np.pi/3)\n",
    "print('tan(5pi/3) =', t)\n",
    "print('arctan(tan(5pi/3)) =', np.arctan(t))\n",
    "print('5pi/3 =', 5*np.pi/3)\n",
    "### END SOLUTION"
   ]
  },
  {
   "cell_type": "markdown",
   "metadata": {},
   "source": [
    "You should notice that `arctan` **does not appear to work!**  To further explore this behavior, let us make a few plots.\n",
    "\n",
    "The tangent function, like most functions in `numpy`, can accept arrays as an input. Define a range of $\\theta$ values between $-\\pi$ and $\\pi$ in 500 evenly spaced points.  Use this array to plot the tangent function."
   ]
  },
  {
   "cell_type": "code",
   "execution_count": 4,
   "metadata": {
    "nbgrader": {
     "grade": true,
     "grade_id": "cell-bfabaed7c8dd0e1b",
     "locked": false,
     "points": 0.5,
     "schema_version": 1,
     "solution": true
    }
   },
   "outputs": [
    {
     "data": {
      "text/plain": [
       "[<matplotlib.lines.Line2D at 0x1ff8f3802b0>]"
      ]
     },
     "execution_count": 4,
     "metadata": {},
     "output_type": "execute_result"
    },
    {
     "data": {
      "image/png": "[encoded data removed]",
      "text/plain": [
       "<Figure size 432x288 with 1 Axes>"
      ]
     },
     "metadata": {
      "needs_background": "light"
     },
     "output_type": "display_data"
    }
   ],
   "source": [
    "### BEGIN SOLUTION\n",
    "thetas = np.linspace(-np.pi, np.pi, 500)\n",
    "plt.plot(thetas, np.tan(thetas))\n",
    "### END SOLUTION"
   ]
  },
  {
   "cell_type": "markdown",
   "metadata": {},
   "source": [
    "This plot does not look very good!  Not just that it is a \"quick plot\", but also the scaling of the $y$-axis makes this hard to read.\n",
    "\n",
    "In contrast to other software you may have used to make plots, `matplotlib` will plot exactly what you tell it to.  Since the tangent function diverges in the plot range, it tries to show you all the values you asked for rather than trying to cleverly cut off the plot to show you what it thinks you wanted.  This is good and bad.  It is good that it shows you exactly what you asked for and does not hide anything, but bad because it produces a plot that can be harder to read.\n",
    "  \n",
    "Increasing the number of points plotted would not make things better, in fact, it would only make the plot look worse! (You can try this, change the plot to use 5000 values in the range instead of 500.)\n",
    "\n",
    "Although it is good to know that the function we are plotting diverges at certain points, we typically want to see the shape of the curve where it does not diverge, not just see a flat line that looks like zero over most of the range.  To focus on the range of values of interest to us we can set the axis limits by hand.  Not surprisingly we can do this use the `xlim` and `ylim` functions from `pyplot`.  (If you do this using axis objects, recall that you will need to prepend these with `set_`, so we would use `ax.set_ylim` for the limits on the $y$-axis.) Recreate your previous plot showing $y$ from $-7$ to $7$, and $x$ from $-\\pi$ to $\\pi$."
   ]
  },
  {
   "cell_type": "code",
   "execution_count": 5,
   "metadata": {
    "nbgrader": {
     "grade": true,
     "grade_id": "cell-3f9cb0b9e2525df1",
     "locked": false,
     "points": 0.25,
     "schema_version": 1,
     "solution": true
    }
   },
   "outputs": [
    {
     "data": {
      "text/plain": [
       "(-7, 7)"
      ]
     },
     "execution_count": 5,
     "metadata": {},
     "output_type": "execute_result"
    },
    {
     "data": {
      "image/png": "[encoded data removed]",
      "text/plain": [
       "<Figure size 432x288 with 1 Axes>"
      ]
     },
     "metadata": {
      "needs_background": "light"
     },
     "output_type": "display_data"
    }
   ],
   "source": [
    "### BEGIN SOLUTION\n",
    "plt.plot(thetas, np.tan(thetas))\n",
    "plt.xlim(-np.pi, np.pi)\n",
    "plt.ylim(-7, 7) # This produces output, put a ';' at the end to suppress it\n",
    "### END SOLUTION"
   ]
  },
  {
   "cell_type": "markdown",
   "metadata": {},
   "source": [
    "Next, we look at how the inverse tangent behaves by again making a plot.  Using the same $\\theta$ values as above, plot $\\tan^{-1}(\\tan \\theta)$.  We would expect this to just be a plot of $\\theta$ vs $\\theta$, in otherwords, just a diagonal line."
   ]
  },
  {
   "cell_type": "code",
   "execution_count": 6,
   "metadata": {
    "nbgrader": {
     "grade": true,
     "grade_id": "cell-e79ed5f56377a90e",
     "locked": false,
     "points": 0.25,
     "schema_version": 1,
     "solution": true
    }
   },
   "outputs": [
    {
     "data": {
      "text/plain": [
       "[<matplotlib.lines.Line2D at 0x1ff8f49d470>]"
      ]
     },
     "execution_count": 6,
     "metadata": {},
     "output_type": "execute_result"
    },
    {
     "data": {
      "image/png": "[encoded data removed]",
      "text/plain": [
       "<Figure size 432x288 with 1 Axes>"
      ]
     },
     "metadata": {
      "needs_background": "light"
     },
     "output_type": "display_data"
    }
   ],
   "source": [
    "### BEGIN SOLUTION\n",
    "plt.plot(thetas, np.arctan(np.tan(thetas)))\n",
    "### END SOLUTION"
   ]
  },
  {
   "cell_type": "markdown",
   "metadata": {},
   "source": [
    "Unfortunately, it isn't!  Instead it should look more like a sawtooth.  What is going on here?\n",
    "\n",
    "Recall from your high school trigonometry that the value of the arctangent depends on the  quadrant in which you are performing the calculation.  This information is not available to `arctan`.  To see this, for a point a distance $r$ from the origin and an angle $\\theta$ from the $x$-axis\n",
    "$$\\tan(\\theta) = \\frac{y}{x} = \\frac{r\\sin\\theta}{r\\cos\\theta} = \\frac{\\sin\\theta}{\\cos\\theta} .$$\n",
    "\n",
    "Further recall that the signs of the $x$ and $y$ coordinates of our point determine the quadrant in which it is placed.  These signs get \"lost\" when we take the ratio.  To keep this information all math libraries (should, or must) define a new arctangent function that takes two arguments instead of one.  In `numpy` this function is called `arctan2(y,x)`.  Notice the order of the arguments, here `y` represents the numerator and `x` the denominator in the definition of the tangent given above. [Another common name is `atan2`.  *Almost all* libraries I have seen use the same order of the arguments as `numpy`, but sadly not all.  I have encountered cases where they are switched.  You should always check your documentation before blindly using a function.  You have been warned!]\n",
    "\n",
    "Coming back to our example we can choose $y=\\sin\\theta$ and $x=\\cos\\theta$ to specify the quandrant for the test problem we have been working on.  Below, make a plot of $\\tan^{-1}(\\tan \\theta)$ now using `arctan2`."
   ]
  },
  {
   "cell_type": "code",
   "execution_count": 7,
   "metadata": {
    "nbgrader": {
     "grade": true,
     "grade_id": "cell-3c30eca5e3198ebb",
     "locked": false,
     "points": 0.25,
     "schema_version": 1,
     "solution": true
    }
   },
   "outputs": [
    {
     "data": {
      "text/plain": [
       "[<matplotlib.lines.Line2D at 0x1ff8f5070f0>]"
      ]
     },
     "execution_count": 7,
     "metadata": {},
     "output_type": "execute_result"
    },
    {
     "data": {
      "image/png": "[encoded data removed]",
      "text/plain": [
       "<Figure size 432x288 with 1 Axes>"
      ]
     },
     "metadata": {
      "needs_background": "light"
     },
     "output_type": "display_data"
    }
   ],
   "source": [
    "### BEGIN SOLUTION\n",
    "plt.plot(thetas, np.arctan2(np.sin(thetas), np.cos(thetas)))\n",
    "### END SOLUTION"
   ]
  },
  {
   "cell_type": "markdown",
   "metadata": {},
   "source": [
    "This should correctly look like a \"boring\" diagonal line.  If you experiment with the $\\theta$ values used, you will also note that it returns angles in the range $[-\\pi,\\pi)$ rather than $[0,2\\pi)$."
   ]
  },
  {
   "cell_type": "markdown",
   "metadata": {},
   "source": [
    "## Accessing Data\n",
    "\n",
    "When solving actual problems with actual data we need data into a format `numpy` can use.  One way to do this is to read in the data from an existing file.  A simple method for doing this is through the `loadtxt` function.  Here we will just use it to read in a simple data table, in the future we will explore some of its other features.  Since we have the full power of Python behind us there are many ways we can access the file containing our data table.\n",
    "\n",
    "For this problem you will need to use some data located in a table accessible at https://sites.wustl.edu/mertens/files/2021/01/hw2.txt.  We can actually read this table directly from the web without needing to download the file; the following code does that for us.  In this case it will store the data in two arrays. The first column contains a time, which we will refer to as the `time` array, while the second is a `position`.\n",
    "\n",
    "Below is some boiler plate code we can use for reading a data file.  This is the \"pythonic\" way to read a file.  We may work more with this in the future, but for now you can just use this code:"
   ]
  },
  {
   "cell_type": "code",
   "execution_count": 8,
   "metadata": {},
   "outputs": [
    {
     "name": "stdout",
     "output_type": "stream",
     "text": [
      "Values stored in the `time` array:\n",
      "\t [1. 2. 3. 4. 7. 8. 9.]\n",
      "Values stored in the `position` array:\n",
      "\t [-3.4083885 -5.6100975 -5.8256509 -3.9787359  5.3127362  5.9562532\n",
      "  4.4910645]\n"
     ]
    }
   ],
   "source": [
    "import urllib.request\n",
    "url = 'https://sites.wustl.edu/mertens/files/2021/01/hw2.txt'\n",
    "with urllib.request.urlopen(url) as fp :\n",
    "    (time, position) = np.loadtxt(fp, unpack=True)\n",
    "\n",
    "print (\"Values stored in the `time` array:\\n\\t\", time)\n",
    "print (\"Values stored in the `position` array:\\n\\t\", position)"
   ]
  },
  {
   "cell_type": "markdown",
   "metadata": {},
   "source": [
    "To become familiar with new data we can first make a plot of it.  Here we would like to plot the position versus time as points, instead of as a line.  This can be done using `plot`, however a shorthand way to do it is to instead use `scatter`. Create such a plot below."
   ]
  },
  {
   "cell_type": "code",
   "execution_count": 9,
   "metadata": {
    "nbgrader": {
     "grade": true,
     "grade_id": "cell-7c83307f01766a36",
     "locked": false,
     "points": 0.25,
     "schema_version": 1,
     "solution": true
    }
   },
   "outputs": [
    {
     "data": {
      "text/plain": [
       "<matplotlib.collections.PathCollection at 0x1ff8f5973c8>"
      ]
     },
     "execution_count": 9,
     "metadata": {},
     "output_type": "execute_result"
    },
    {
     "data": {
      "image/png": "[encoded data removed]",
      "text/plain": [
       "<Figure size 432x288 with 1 Axes>"
      ]
     },
     "metadata": {
      "needs_background": "light"
     },
     "output_type": "display_data"
    }
   ],
   "source": [
    "### BEGIN SOLUTION\n",
    "# Example using plot\n",
    "# plt.plot(time, position, 'ro')\n",
    "# plt.xlim(0, 10)\n",
    "# plt.ylim(-8, 8)\n",
    "# Example doing the same with scatter\n",
    "plt.scatter(time, position, c='r')\n",
    "### END SOLUTION"
   ]
  },
  {
   "cell_type": "markdown",
   "metadata": {},
   "source": [
    "The goal now is to create a function which interpolates between the data points.  To do this, we will use functions from the `scipy.interpolate` subpackage.  We can import this, giving it a shorthand name `interp`, and look at the docs for a list of available functions as was done in the example notebook this week."
   ]
  },
  {
   "cell_type": "markdown",
   "metadata": {},
   "source": [
    "## Using Splines\n",
    "\n",
    "Import `scipy.interpolate`.  This can be done in the initialization at the top of the notebook or in any cell before it gets used.  The main function we will study here is `InterpolatedUnivariateSpline`.  You should review its documentation.  The interface it provides is not the easiest to understand so we will explore it in more detail.\n",
    "\n",
    "Note: In the documentation of some functions you may see the first argument to the function is called `self`.  In general, you can ignore it; it is **not** an argument you should attempt to pass.  The arguments you provide will begin after it.  The `self` argument is a result of how objects are implemented in Python.  It becomes important if you wish to create your own classes; feel free to look into this and use classes if you like, but you will not be required to this semester.\n",
    "\n",
    "Keeping this in mind, we can create a spline from the data we read in above:"
   ]
  },
  {
   "cell_type": "code",
   "execution_count": 10,
   "metadata": {},
   "outputs": [
    {
     "data": {
      "text/plain": [
       "<scipy.interpolate.fitpack2.InterpolatedUnivariateSpline at 0x1ff8f532ba8>"
      ]
     },
     "execution_count": 10,
     "metadata": {},
     "output_type": "execute_result"
    }
   ],
   "source": [
    "posInterpolation = interp.InterpolatedUnivariateSpline(time, position)\n",
    "posInterpolation"
   ]
  },
  {
   "cell_type": "markdown",
   "metadata": {},
   "source": [
    "Notice that an object is returned.  We should look up documentation for this object and use `Tab` completion to see the functions contained in this object.\n",
    "\n",
    "When reading the documention for the object stored in `posInterpolation` make sure you scroll all the way to the bottom where some important information is contained.  From there we see that `posInterpolation` can be called as a function.  When done so it returns the interpolated values for all the input values.  Further, we can easily access derivatives of the spline as we will see.\n",
    "\n",
    "Interpolation produces a curve that is exact at the data points used to construct the spline.  We can verify this by evaluating the spline at one of the times from our data and comparing it to the given position.  Here we will use the third time in our data.  Note that arrays in `numpy` are indexed starting from zero so the third element has index 2."
   ]
  },
  {
   "cell_type": "code",
   "execution_count": 11,
   "metadata": {},
   "outputs": [
    {
     "name": "stdout",
     "output_type": "stream",
     "text": [
      "-5.825650900000001 -5.8256509\n"
     ]
    }
   ],
   "source": [
    "# These two better be the same!\n",
    "print(posInterpolation(time[2]), position[2])"
   ]
  },
  {
   "cell_type": "markdown",
   "metadata": {},
   "source": [
    "### Derivatives and Integrals\n",
    "\n",
    "A spline is a piecewise polynomial interpolation.  Since it is easy to take derivatives and integrals of polynomials it is also easy to do the same for a spline.  When you look at the list of functions available in our spline, `posInterpolation`, you will see a confusing list available.  There is both `derivative` and `derivatives` along with `integral` and `antiderivative`.  \n",
    "\n",
    "For derivatives there is an even easier way to calculate them.  When we evaluate the spline as we did in the test above there is an optional argument we can include which calculates the derivative.  The basic form is\n",
    "> `posInterpolation(x, nu=0)`\n",
    "\n",
    "where `nu` is the order of the derivative.  The default `nu=0` means to evaluate the function (no derivatives), `nu=1` is the first derivative, *etc*. \n",
    "\n",
    "To explore this more let us calculate the derivative at the time 2.2.  First use `derivatives` for this.  It will produce an array of all the derivatives of the spline at this time."
   ]
  },
  {
   "cell_type": "code",
   "execution_count": 12,
   "metadata": {},
   "outputs": [
    {
     "data": {
      "text/plain": [
       "array([-5.82001912, -0.84769315,  2.03564615,  0.24745275])"
      ]
     },
     "execution_count": 12,
     "metadata": {},
     "output_type": "execute_result"
    }
   ],
   "source": [
    "posInterpolation.derivatives(2.2)"
   ]
  },
  {
   "cell_type": "markdown",
   "metadata": {},
   "source": [
    "You will find there are only a few values, but, this is supposed to be **all** the derivatives.  You should think about why there are only a few. As a hint, what is the order of the piecewise polynomial used in the spline we created?\n",
    "\n",
    "Now use the `nu` argument as discussed above to calculate the derivatives and compare them to the values from the list you just found. (You only need to show one example, but should verify they all work, it is also interesting to see what happens when you use a large value for `nu`.)"
   ]
  },
  {
   "cell_type": "code",
   "execution_count": 13,
   "metadata": {
    "nbgrader": {
     "grade": true,
     "grade_id": "cell-9c4f163614f6ea1b",
     "locked": false,
     "points": 0.25,
     "schema_version": 1,
     "solution": true
    }
   },
   "outputs": [
    {
     "data": {
      "text/plain": [
       "array(-0.84769315)"
      ]
     },
     "execution_count": 13,
     "metadata": {},
     "output_type": "execute_result"
    }
   ],
   "source": [
    "### BEGIN SOLUTION\n",
    "posInterpolation(2.2,1)\n",
    "### END SOLUTION"
   ]
  },
  {
   "cell_type": "markdown",
   "metadata": {},
   "source": [
    "An advantage of using the `nu` argument is that we can calculate the derivative at a given order for an array of values.  Let us put all these ideas together by producing a plot.  Do this by creating a finely spaces array of time values from 0 to 12.  Include lines for the spline and its first derivative on this plot.  Also include the original data as points in the plot."
   ]
  },
  {
   "cell_type": "code",
   "execution_count": 14,
   "metadata": {
    "nbgrader": {
     "grade": true,
     "grade_id": "cell-b74b5e55d29d40b2",
     "locked": false,
     "points": 1,
     "schema_version": 1,
     "solution": true
    }
   },
   "outputs": [
    {
     "data": {
      "text/plain": [
       "<matplotlib.legend.Legend at 0x1ff8f60cf28>"
      ]
     },
     "execution_count": 14,
     "metadata": {},
     "output_type": "execute_result"
    },
    {
     "data": {
      "image/png": "[encoded data removed]",
      "text/plain": [
       "<Figure size 432x288 with 1 Axes>"
      ]
     },
     "metadata": {
      "needs_background": "light"
     },
     "output_type": "display_data"
    }
   ],
   "source": [
    "### BEGIN SOLUTION\n",
    "t = np.linspace(0, 12, 100)\n",
    "plt.scatter(time, position)\n",
    "plt.plot(t, posInterpolation(t), 'k-', label='Spline')\n",
    "plt.plot(t, posInterpolation(t, nu=1), 'r--', label='Derivative')\n",
    "plt.axhline(0, color='k')\n",
    "# To make it look nicer we can do the following\n",
    "plt.minorticks_on()\n",
    "plt.xlabel('Time')\n",
    "plt.ylabel('Position')\n",
    "plt.xlim(0, 12)\n",
    "plt.legend()\n",
    "### END SOLUTION"
   ]
  },
  {
   "cell_type": "markdown",
   "metadata": {},
   "source": [
    "You may also want to see what happens when you compute the second derivative of the spline, 3rd derivative, or higher. What happens? Is this an expected behavior of a spline?"
   ]
  },
  {
   "cell_type": "markdown",
   "metadata": {},
   "source": [
    "## More on interpolation and extrapolation\n",
    "\n",
    "<table style=\"float: right;\">\n",
    "    <tr><th>Year</th><th>Population (Billions)</th></tr>\n",
    "<tr><td>1950</td><td>2.557629</td></tr>\n",
    "<tr><td>1960</td><td>3.043021</td></tr>\n",
    "<tr><td>1970</td><td>3.713423</td></tr>\n",
    "<tr><td>1980</td><td>4.445386</td></tr>\n",
    "<tr><td>1990</td><td>5.286811</td></tr>\n",
    "<tr><td>2000</td><td>6.086149</td></tr>\n",
    "<tr><td>2010</td><td>6.872671</td></tr>\n",
    "<tr><td>2050</td><td>9.488153</td></tr>\n",
    "</table>\n",
    "\n",
    "The world population for a number of years is provided in the table at the\n",
    "right. We will use this data to explore some aspects of\n",
    "interpolation and extrapolation with linear and quadratic\n",
    "polynomials. The Lagrange interpolating polynomial can\n",
    "easily be constructed “by hand” and there are some ad-\n",
    "vantages to doing this, once. Alternatively you may use\n",
    "scipy.interpolate.lagrange if you prefer. Notice that the\n",
    "table includes a population for the year 2050. This value is\n",
    "based on a model which is a very different way of estimating\n",
    "the value than we will employ here.\n",
    "\n",
    "[*Note: I have included\n",
    "all the digits in the population values given in the data base.\n",
    "There the values are quoted in thousands. Does it make sense\n",
    "that the population of the entire world can be determined to\n",
    "within 1000 people? In fact, on what day is the population\n",
    "determined for the year? The website goes into more details about the methodology.\n",
    "For our purposes we can truncate the values to a few significant digits.*]"
   ]
  },
  {
   "cell_type": "markdown",
   "metadata": {},
   "source": [
    "Using the data from 1980 and 2000 linearly interpolate to find an estimate for the\n",
    "population in 1990. Calculate the fractional error between your estimate and the\n",
    "reported value."
   ]
  },
  {
   "cell_type": "code",
   "execution_count": 15,
   "metadata": {},
   "outputs": [
    {
     "name": "stdout",
     "output_type": "stream",
     "text": [
      "Population in 1990 : est 5.264490841 billion, frac error 0.003551241\n"
     ]
    }
   ],
   "source": [
    "# Population in billions.\n",
    "# Corresponds to years 1950, 1970, 1980, 1990, 2000, 2010, 2050\n",
    "pop = np.array([2.557628654, 3.712697742, 4.444496764, 5.283252948, 6.084484918, 6.856615897, 9.374484225 ])\n",
    "\n",
    "### BEGIN SOLUTION\n",
    "\n",
    "i1 = interp.lagrange([1980, 2000], pop[[2,4]])\n",
    "pop1990 = i1(1990)\n",
    "print(\"Population in {} : est {:.9f} billion, frac error {:.9f}\".format(\n",
    "1990, pop1990, np.abs(1-pop1990/pop[3])))\n",
    "\n",
    "### END SOLUTION"
   ]
  },
  {
   "cell_type": "markdown",
   "metadata": {},
   "source": [
    "Using your linear polynomial from the previous part extrapolate it to estimate the\n",
    "populations in 1950 and 2010. Again calculate the fractional errors between your\n",
    "estimates and the reported values."
   ]
  },
  {
   "cell_type": "code",
   "execution_count": 16,
   "metadata": {},
   "outputs": [
    {
     "name": "stdout",
     "output_type": "stream",
     "text": [
      "Population in 1950 : est 1.984514533 billion, frac error 0.224080271\n",
      "Population in 2010 : est 6.904478995 billion, frac error 0.006980572\n"
     ]
    }
   ],
   "source": [
    "### BEGIN SOLUTION\n",
    "\n",
    "pop1950 = i1(1950)\n",
    "print(\"Population in {} : est {:.9f} billion, frac error {:.9f}\".format(\n",
    "1950, pop1950, np.abs(1-pop1950/pop[0])))\n",
    "\n",
    "pop2010 = i1(2010)\n",
    "print(\"Population in {} : est {:.9f} billion, frac error {:.9f}\".format(\n",
    "2010, pop2010, np.abs(1-pop2010/pop[5])))\n",
    "\n",
    "### END SOLUTION"
   ]
  },
  {
   "cell_type": "markdown",
   "metadata": {},
   "source": [
    "Again using your linear polynomial from the previous part extrapolate it to estimate\n",
    "the populations in 2050 and 2100. We will comment on these values below."
   ]
  },
  {
   "cell_type": "code",
   "execution_count": 17,
   "metadata": {},
   "outputs": [
    {
     "name": "stdout",
     "output_type": "stream",
     "text": [
      "Population in 2050 : est 10.184455303 billion\n",
      "Population in 2100 : est 14.284425688 billion\n"
     ]
    }
   ],
   "source": [
    "### BEGIN SOLUTION\n",
    "\n",
    "pop2050 = i1(2050)\n",
    "print(\"Population in {} : est {:.9f} billion\".format(2050, pop2050))\n",
    "\n",
    "pop2100 = i1(2100)\n",
    "print(\"Population in {} : est {:.9f} billion\".format(2100, pop2100))\n",
    "\n",
    "### END SOLUTION"
   ]
  },
  {
   "cell_type": "markdown",
   "metadata": {},
   "source": [
    "Repeat all the previous parts now using a quadratic polynomial and the data from\n",
    "1970, 1980, and 2000."
   ]
  },
  {
   "cell_type": "code",
   "execution_count": 18,
   "metadata": {},
   "outputs": [
    {
     "name": "stdout",
     "output_type": "stream",
     "text": [
      "Population in 1990 : est 5.235092489 billion, frac error 0.009115683\n",
      "Population in 1950 : est 2.425489808 billion, frac error 0.051664594\n",
      "Population in 2010 : est 6.992674050 billion, frac error 0.019843339\n",
      "Population in 2050 : est 11.213397611 billion\n",
      "Population in 2100 : est 17.812227888 billion\n"
     ]
    }
   ],
   "source": [
    "### BEGIN SOLUTION\n",
    "\n",
    "i2 = interp.lagrange([1970, 1980, 2000], pop[[1,2,4]])\n",
    "pop1990 = i2(1990)\n",
    "pop1950 = i2(1950)\n",
    "pop2010 = i2(2010)\n",
    "pop2050 = i2(2050)\n",
    "pop2100 = i2(2100)\n",
    "\n",
    "print(\"Population in {} : est {:.9f} billion, frac error {:.9f}\".format(\n",
    "1990, pop1990, np.abs(1-pop1990/pop[3])))\n",
    "print(\"Population in {} : est {:.9f} billion, frac error {:.9f}\".format(\n",
    "1950, pop1950, np.abs(1-pop1950/pop[0])))\n",
    "print(\"Population in {} : est {:.9f} billion, frac error {:.9f}\".format(\n",
    "2010, pop2010, np.abs(1-pop2010/pop[5])))\n",
    "print(\"Population in {} : est {:.9f} billion\".format(2050, pop2050))\n",
    "print(\"Population in {} : est {:.9f} billion\".format(2100, pop2100))\n",
    "\n",
    "### END SOLUTION"
   ]
  },
  {
   "cell_type": "markdown",
   "metadata": {},
   "source": [
    "In general, extrapolation is dangerous, it can easily give nonsensical results. Based\n",
    "on our results, do we expect linear or quadratic interpolation to give better estimates\n",
    "in 2050 and 2100? Keep in mind that the 2050 value listed in the table is not a\n",
    "true value, it is just a different estimate. Explain your reasoning. Hint: What is\n",
    "the behavior of a quadratic at large values of its argument? Is this a good or bad\n",
    "feature for extrapolating the population?"
   ]
  },
  {
   "cell_type": "markdown",
   "metadata": {},
   "source": [
    "``## YOUR ANSWER HERE``\n",
    "\n",
    "In general we cannot know which interpolation is best. However, by extrapolating we are\n",
    "assuming both the shape of the curve and that it is governed by the last few points (2 for linear\n",
    "interpolation and 3 for quadratic). So the real question is, do we expect the future population\n",
    "growth to be linear or quadratic? Based on the errors in the most recent years we tested, 1990 and\n",
    "2010, we might expect the linear interpolation from part (iii) to be better. But we really do not\n",
    "know!"
   ]
  }
 ],
 "metadata": {
  "anaconda-cloud": {},
  "authors": [
   {
    "name": "Craig J Copi",
    "semester": "Spring 2019"
   }
  ],
  "celltoolbar": "Create Assignment",
  "kernelspec": {
   "display_name": "Python 3",
   "language": "python",
   "name": "python3"
  },
  "language_info": {
   "codemirror_mode": {
    "name": "ipython",
    "version": 3
   },
   "file_extension": ".py",
   "mimetype": "text/x-python",
   "name": "python",
   "nbconvert_exporter": "python",
   "pygments_lexer": "ipython3",
   "version": "3.7.0"
  }
 },
 "nbformat": 4,
 "nbformat_minor": 1
}
