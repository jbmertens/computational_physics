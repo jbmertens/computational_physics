{
 "cells": [
  {
   "cell_type": "markdown",
   "metadata": {},
   "source": [
    "# Homework 5: Lorenz attractor"
   ]
  },
  {
   "cell_type": "markdown",
   "metadata": {},
   "source": [
    "### Objectives\n",
    "\n",
    "This homework is intended to get you more comfortable with the syntax involved in solving ordinary differential equations. We will focus in particular on a convenient way to pass parameters to `scipy.integrate.solve_ivp`, so-called \"lambda functions\"."
   ]
  },
  {
   "cell_type": "markdown",
   "metadata": {},
   "source": [
    "## Initialization\n",
    "\n",
    "As always you should add initialization to the top of your notebook."
   ]
  },
  {
   "cell_type": "code",
   "execution_count": null,
   "metadata": {},
   "outputs": [],
   "source": [
    "# YOUR CODE HERE\n",
    "raise NotImplementedError()"
   ]
  },
  {
   "cell_type": "markdown",
   "metadata": {},
   "source": [
    "## Lambda functions: Extra arguments\n",
    "\n",
    "As we saw above, while odeint supports the `args=()` we have seen in many places, `solve_ivp` does not! What do we do when the function that defines our system of first order differential equation requires extra arguments?\n",
    "\n",
    "There are a number of approaches we can consider (and if you search online you will find some interesting ones). One would be to take the function we define that needs extra arguments, copy it, and hard code in values for the extra arguments, for each set of extra arguments required. However, this is not an idea I recommend. Another approach we can use and is known as lambda functions.\n",
    "\n",
    "If you are familiar with functional programming then lambda functions are something you know. Though Python is a procedural language (like C, FORTRAN, Java, etc.) there are many things that can be done using the functional programming paradigm. Unfortunately we will not explore those here, we will focus on the one thing we need.\n",
    "\n",
    "A simple way to understand them is that a lambda function is a simple function without a name that executes a single line of code and returns a value. We can assign a lambda function to a variable, pass it to another function, etc. Its basic structure is\n",
    "\n",
    "```\n",
    "lambda arg1,arg2 : do something with arg1 and arg2\n",
    "```\n",
    "\n",
    "There can be an arbitrary number of arguments and the \"do something\" is a single statement/expression that uses the arguments and produces a value. Notice that return is not needed and cannot be included.\n",
    "\n",
    "As a simplistic example, suppose I wanted to define a cosine function that accepted angles in degrees instead of radians. I could define this as a lambda function as\n",
    "\n",
    "```\n",
    "cosdeg = lambda theta : np.cos(np.deg2rad(theta))\n",
    "```\n",
    "\n",
    "Now if I do something like\n",
    "\n",
    "```\n",
    "cosdeg(60)\n",
    "```\n",
    "\n",
    "it should return 0.5.\n",
    "\n",
    "We will use this idea below in the conjuction with `solve_ivp` (and in the future for other purposes). Before proceeding let us verify that our simplistic example really does what we claim; run the following cell."
   ]
  },
  {
   "cell_type": "code",
   "execution_count": null,
   "metadata": {},
   "outputs": [],
   "source": [
    "cosdeg = lambda theta : np.cos(np.deg2rad(theta))\n",
    "cosdeg(60)"
   ]
  },
  {
   "cell_type": "markdown",
   "metadata": {},
   "source": [
    "In the in-class example, we looked at the following equation,\n",
    "$$\n",
    "\\frac{dy}{dt} = \\cos(y)\n",
    "$$\n",
    "and used the following code,\n",
    "\n",
    "```\n",
    "def A(t, y) :\n",
    "    return np.cos(np.deg2rad(t))\n",
    "\n",
    "sol = integ.solve_ivp( A, (0, 4*360),\n",
    "                       np.array([0.]), vectorized=True, rtol=1.0e-6, atol=1.0e-6 )\n",
    "```\n",
    "\n",
    "We can instead use the following code, where we do not explicitly define a function `A`."
   ]
  },
  {
   "cell_type": "code",
   "execution_count": null,
   "metadata": {},
   "outputs": [],
   "source": [
    "sol = integ.solve_ivp( lambda t,y: np.cos(np.deg2rad(t)), (0, 4*360),\n",
    "                       np.array([0.]), vectorized=True, rtol=1.0e-6, atol=1.0e-6)"
   ]
  },
  {
   "cell_type": "markdown",
   "metadata": {},
   "source": [
    "If we now want to solve an equation with an additional parameter $\\Omega_0$, which is just a constant,\n",
    "\n",
    "$$\n",
    "\\frac{dy}{dt} = \\cos(\\Omega_0 y)\n",
    "$$\n",
    "\n",
    "we can appropriately change the lambda function, or use the lambda function to pass a call. Below are two examples of this. You should read the code below, and make sure you understand how both of these methods work. The latter method is especially useful when solving multiple differential equations, and will be the recommend method for calling `solve_ivp`."
   ]
  },
  {
   "cell_type": "code",
   "execution_count": null,
   "metadata": {},
   "outputs": [],
   "source": [
    "# First method: adjust the lambda function.\n",
    "Omega_0 = 2.0*np.pi # This can be changed to any value of Omega.\n",
    "sol = integ.solve_ivp( lambda t,y: np.cos(Omega_0*np.deg2rad(t)), (0, 4*360),\n",
    "                       np.array([0.]), vectorized=True, rtol=1.0e-6, atol=1.0e-6)"
   ]
  },
  {
   "cell_type": "code",
   "execution_count": null,
   "metadata": {},
   "outputs": [],
   "source": [
    "# Second method: use a lambda function to make an appropriate call to the function A, which we re-define here.\n",
    "def A(t, y, Omega) :\n",
    "    \"\"\"\n",
    "    There is only one function we are integrating, which will be present in y[0].\n",
    "    \"\"\"\n",
    "    dydt = np.zeros_like(y)\n",
    "    dydt[0] = np.cos(Omega*np.deg2rad(t))\n",
    "    return dydt\n",
    "\n",
    "Omega_0 = 2.0*np.pi\n",
    "sol = integ.solve_ivp( lambda t,y: A(t, y, Omega_0), (0, 4*360),\n",
    "                       np.array([0.]), vectorized=True, rtol=1.0e-6, atol=1.0e-6 )"
   ]
  },
  {
   "cell_type": "markdown",
   "metadata": {},
   "source": [
    "## The Lorenz system\n",
    "\n",
    "The Lorenz attractor is a solution to the Lorenz system, a set of ordinary differential equations first studied by Edward Lorenz. It is well-known for generating butterfly-like chaotic patterns, the details of which are highly sensitive to initial conditions. The system of equations is given by\n",
    "\n",
    "$$\n",
    "\\begin{align}\n",
    "\\frac{dx}{dt} & = \\sigma (y-x) \\\\\n",
    "\\frac{dy}{dt} & = x(\\rho-z) -y\\\\\n",
    "\\frac{dz}{dt} & = xy - \\beta z\n",
    "\\end{align}\n",
    "$$\n",
    "\n",
    "for functions $x(t)$, $y(t)$, and $z(t)$, and constant parameters $\\sigma$, $\\rho$, and $\\beta$. Integrate this system of equations for the following choices:\n",
    "1. Use a lambda function to pass parameters $\\sigma=10$, $\\rho=28$, and $\\beta=8/3$.\n",
    "2. Begin integration at the point $(x, y, z)$ = $(1, 1, 1)$.\n",
    "3. Integrate from $t=0$ to $t=50$.\n",
    "\n",
    "Produce a plot of $x(t)$ vs $z(t)$. Feel free to explore the behavior of this system for different parameter choices, and plot different functions. If you are so inclined you may wish to produce a 3d plot. You may also wish to explore how sensitive your solution is to the `rtol` and `atol` parameters."
   ]
  },
  {
   "cell_type": "code",
   "execution_count": null,
   "metadata": {},
   "outputs": [],
   "source": [
    "# YOUR CODE HERE\n",
    "raise NotImplementedError()"
   ]
  }
 ],
 "metadata": {
  "celltoolbar": "Create Assignment",
  "kernelspec": {
   "display_name": "Python 3",
   "language": "python",
   "name": "python3"
  },
  "language_info": {
   "codemirror_mode": {
    "name": "ipython",
    "version": 3
   },
   "file_extension": ".py",
   "mimetype": "text/x-python",
   "name": "python",
   "nbconvert_exporter": "python",
   "pygments_lexer": "ipython3",
   "version": "3.7.0"
  }
 },
 "nbformat": 4,
 "nbformat_minor": 4
}
