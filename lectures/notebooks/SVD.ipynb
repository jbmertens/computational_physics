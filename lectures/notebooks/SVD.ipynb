{
 "cells": [
  {
   "cell_type": "markdown",
   "metadata": {},
   "source": [
    "# Singular Value Decomposition\n",
    "\n",
    "Here we will study various uses for the singular value decomposition (SVD)."
   ]
  },
  {
   "cell_type": "markdown",
   "metadata": {},
   "source": [
    "## Initialization"
   ]
  },
  {
   "cell_type": "code",
   "execution_count": 1,
   "metadata": {},
   "outputs": [],
   "source": [
    "import numpy as np\n",
    "# It is convenient to not have the plots inlined for this example\n",
    "# so you can only see the plots if you run this yourself!\n",
    "%matplotlib inline\n",
    "import matplotlib.pyplot as plt\n",
    "import scipy.linalg as la"
   ]
  },
  {
   "cell_type": "markdown",
   "metadata": {},
   "source": [
    "In the `scipy.linalg` module there are a number of functions for working with or using the singular value decomposition. To perform the decomposition we use `scipy.linalg.svd` (though also see `scipy.linalg.diagsvd` for using the results of the decomposition).  The use of keyword `full_matrices` will be discussed below."
   ]
  },
  {
   "cell_type": "code",
   "execution_count": null,
   "metadata": {},
   "outputs": [],
   "source": [
    "la.svd?"
   ]
  },
  {
   "cell_type": "markdown",
   "metadata": {},
   "source": [
    "There are also two functions or calculating the pseudo-inverse of a matrix, `scipy.linalg.pinv` and `scipy.linalg.pinv2`.  They use different techniques, in particular `pinv2` uses the singular value decomposition."
   ]
  },
  {
   "cell_type": "code",
   "execution_count": null,
   "metadata": {},
   "outputs": [],
   "source": [
    "la.pinv?"
   ]
  },
  {
   "cell_type": "code",
   "execution_count": null,
   "metadata": {},
   "outputs": [],
   "source": [
    "la.pinv2?"
   ]
  },
  {
   "cell_type": "markdown",
   "metadata": {},
   "source": [
    "## Linearly Dependent System of Equations\n",
    "\n",
    "$\\def\\mat#1{\\textsf{#1}}$\n",
    "To being let us consider the linear system of equations\n",
    "\n",
    "$$\\begin{align}\n",
    "3x + y - 6z &= -10, \\\\\n",
    "2x + y - 5z &= -8, \\\\\n",
    "6x - 3y +3z &= 0.\n",
    "\\end{align} $$\n",
    "\n",
    "This system of equations can be written in the matrix form $\\mat A\\vec x=\\vec b$ where\n",
    "\n",
    "$$\n",
    "\\mat A = \\left( \\begin{array}{rrr}\n",
    "3 & 1 & -6 \\\\\n",
    "2 & 1 & -5 \\\\\n",
    "6 & -3 & 3\n",
    "\\end{array} \\right)\n",
    "\\quad\\mathrm{and}\\quad\n",
    "\\vec b = \\left( \\begin{array}{rrr} -10 \\\\ -8 \\\\ 0 \\end{array} \\right).\n",
    "$$\n",
    "\n",
    "Let us first check that the arrays returned by `la.svd` allow us to correctly reconstruct $\\mathsf{A}$."
   ]
  },
  {
   "cell_type": "code",
   "execution_count": 2,
   "metadata": {},
   "outputs": [
    {
     "name": "stdout",
     "output_type": "stream",
     "text": [
      "U =\n",
      " [[-0.74720208  0.22912848 -0.62385029]\n",
      " [-0.61461836  0.11889561  0.77981287]\n",
      " [ 0.2528504   0.96610764  0.05198752]]\n",
      "S =\n",
      " [8.80056246e+00 7.24914480e+00 1.90252980e-16]\n",
      "VT =\n",
      " [[-0.22200179 -0.24093592  0.94480955]\n",
      " [ 0.92725731 -0.35180686  0.12816326]\n",
      " [ 0.30151134  0.90453403  0.30151134]]\n",
      "U S VT =\n",
      " [[ 3.  1. -6.]\n",
      " [ 2.  1. -5.]\n",
      " [ 6. -3.  3.]]\n"
     ]
    }
   ],
   "source": [
    "A = np.array([ [3., 1, -6], [2, 1, -5], [6, -3, 3] ])\n",
    "b = np.array([-10., -8, 0])\n",
    "\n",
    "(U, S, VT) = la.svd(A)\n",
    "\n",
    "print('U =\\n', U)\n",
    "print('S =\\n', S)\n",
    "print('VT =\\n', VT)\n",
    "\n",
    "print('U S VT =\\n', U @ np.diag(S) @ VT)"
   ]
  },
  {
   "cell_type": "markdown",
   "metadata": {},
   "source": [
    "This behaves as expected. Now, note that this system of linear equations is not linearly independent.  This means the matrix $\\mat A$ is singular.  To see this we can look for a zero the determinant, eigenvalue(s), or singular value(s) of the matrix."
   ]
  },
  {
   "cell_type": "code",
   "execution_count": 3,
   "metadata": {},
   "outputs": [
    {
     "name": "stdout",
     "output_type": "stream",
     "text": [
      "Determinant:\n",
      " 2.0816681711721685e-15\n",
      "Eigenvalues:\n",
      " [-2.75114274e-18+0.j          3.50000000e+00+4.66368953j\n",
      "  3.50000000e+00-4.66368953j]\n",
      "Singular values:\n",
      " [8.80056246e+00 7.24914480e+00 1.90252980e-16]\n"
     ]
    }
   ],
   "source": [
    "lam = la.eigvals(A)\n",
    "S = la.svdvals(A)\n",
    "\n",
    "print(\"Determinant:\\n\", la.det(A))\n",
    "print(\"Eigenvalues:\\n\", lam)\n",
    "print(\"Singular values:\\n\", S)"
   ]
  },
  {
   "cell_type": "markdown",
   "metadata": {},
   "source": [
    "We see that numerically the determinant is zero and both one of the eigenvalues and singular values is zero.  This means the matrix is singular so it is not invertible and there is not a unique solution to the system of equations.\n",
    "\n",
    "The complete solution to this system of equations can be found using a singular value decomposition."
   ]
  },
  {
   "cell_type": "markdown",
   "metadata": {},
   "source": [
    "### Particular Solution\n",
    "\n",
    "Let $\\vec x_p$ be a particular solution of the system of linear equations so that $\\mat A\\vec x_p=\\vec b$.  Using the singular value decomposition $\\mat A = \\mat U\\mat S\\mat V^T$ we can rewrite this system of equation as\n",
    "\n",
    "$$\n",
    "\\mat S \\vec x_p' = \\vec b', \\quad\\mathrm{where}\\quad\n",
    "\\begin{cases}\n",
    "      \\vec x_p' = \\mat V^T\\vec x_p,\\\\\n",
    "      \\vec b' = \\mat U^T\\vec b\n",
    "\\end{cases}\n",
    "$$\n",
    "\n",
    "Since $\\mat S$ is diagonal we can easily solve for $\\vec x_p'$ with the extra condition that we set the components of $\\vec x_p'$ to zero where the singular values are zero (or sufficiently small for numerical purposes).  From this we can then find the particular solution as $\\vec x_p = \\mat V\\vec x_p'$."
   ]
  },
  {
   "cell_type": "code",
   "execution_count": 4,
   "metadata": {},
   "outputs": [
    {
     "name": "stdout",
     "output_type": "stream",
     "text": [
      "Particular solution:\n",
      " [0.68030507 4.0409152  2.68030507]\n",
      "A @ xp:\n",
      " [-1.00000000e+01 -8.00000000e+00  3.55271368e-15]\n",
      "b:\n",
      " [-10.  -8.   0.]\n",
      "Actually a solution? True\n"
     ]
    }
   ],
   "source": [
    "(U, S, VT) = la.svd(A)\n",
    "\n",
    "# b' = U^T b\n",
    "bp = U.T @ b\n",
    "\n",
    "# x_p = V S^-1 b\n",
    "xp = VT.T @ (bp / S) # S is just a vector, not the full matrix, so plain division works\n",
    "\n",
    "print(\"Particular solution:\\n\", xp)\n",
    "print(\"A @ xp:\\n\", A @ xp)\n",
    "print(\"b:\\n\", b)\n",
    "print(\"Actually a solution?\", np.allclose(A@xp, b))"
   ]
  },
  {
   "cell_type": "markdown",
   "metadata": {},
   "source": [
    "### Null Vectors\n",
    "\n",
    "For every zero singular value of $\\mat A$ there is a vector, $\\vec z$, for which $\\mat A\\vec z=0$.  This vector, multiplied by any number, can always be added to the particular solution $\\vec x_p$.  These null vectors are contained in the **columns** of $\\mat V$ corresponding to the zero singular values.  Notice that the singular value decomposition produces $\\mat V^T$ so the null vectors will be contained in the **rows** of $\\mat V^T$ that correspond to the singular values.\n",
    "\n",
    "For our system there is a one zero singular value so we will access it directly (in practice we should use the `where` command or Boolean arrays to slice the appropriate rows from `VT`)."
   ]
  },
  {
   "cell_type": "code",
   "execution_count": 5,
   "metadata": {},
   "outputs": [
    {
     "name": "stdout",
     "output_type": "stream",
     "text": [
      "z:\n",
      " [0.30151134 0.90453403 0.30151134]\n",
      "A @ z:\n",
      " [4.44089210e-16 4.44089210e-16 6.66133815e-16]\n",
      "z a null vector? True\n"
     ]
    }
   ],
   "source": [
    "z = VT[-1] # Last row is a null vector for our example\n",
    "print(\"z:\\n\", z)\n",
    "print(\"A @ z:\\n\", np.dot(A,z))\n",
    "print(\"z a null vector?\", np.allclose(A@z, np.zeros(len(z))))"
   ]
  },
  {
   "cell_type": "markdown",
   "metadata": {},
   "source": [
    "### General Solution\n",
    "\n",
    "The general solution is constructed from the above results as\n",
    "$$ \\vec x = \\vec x_p + \\alpha \\vec z, $$\n",
    "where $\\alpha$ is any real number.\n",
    "\n",
    "We will verify this in a couple of cases."
   ]
  },
  {
   "cell_type": "code",
   "execution_count": 6,
   "metadata": {},
   "outputs": [
    {
     "name": "stdout",
     "output_type": "stream",
     "text": [
      "For alpha=2, A @ x = [-1.00000000e+01 -8.00000000e+00  5.32907052e-15]\n",
      "For alpha=-17.290234829708318: A x = [-1.00000000e+01 -8.00000000e+00 -1.33226763e-14]\n"
     ]
    }
   ],
   "source": [
    "alpha = 2 # Simple value\n",
    "x = xp + alpha*z\n",
    "print(\"For alpha={}, A @ x = {}\".format(alpha, A@x))\n",
    "# Try random value of alpha\n",
    "alpha = 10*np.random.randn(1)[0]\n",
    "x = xp + alpha*z\n",
    "print(\"For alpha={}: A x = {}\".format(alpha, A@x))"
   ]
  },
  {
   "cell_type": "markdown",
   "metadata": {},
   "source": [
    "### Pseudo-Inverse\n",
    "\n",
    "The matrix $\\mat A$ is not invertible but we can calculate the pseudo-inverse.  We can do this directly or using the functions `pinv` and `pinv2`.  Let us compare all these methods."
   ]
  },
  {
   "cell_type": "code",
   "execution_count": 7,
   "metadata": {},
   "outputs": [
    {
     "name": "stdout",
     "output_type": "stream",
     "text": [
      "SVD inverse = pinv?  True\n",
      "SVD inverse = pinv2? True\n"
     ]
    }
   ],
   "source": [
    "# Invert S, compare this to how we found the particular solution above.\n",
    "# Here we calculate the inverse carefully to avoid dividing by zero at any point.\n",
    "\n",
    "Sinv = np.zeros_like(S)\n",
    "ind = S > 1e-14*S.max()\n",
    "Sinv[ind]= 1./S[ind]\n",
    "\n",
    "Apinv_svd = np.dot(VT.T, np.dot(np.diag(Sinv), U.T))\n",
    "Apinv = la.pinv(A)\n",
    "Apinv2 = la.pinv2(A)\n",
    "\n",
    "print(\"SVD inverse = pinv? \", np.allclose(Apinv_svd, Apinv))\n",
    "print(\"SVD inverse = pinv2?\", np.allclose(Apinv_svd, Apinv2))"
   ]
  },
  {
   "cell_type": "markdown",
   "metadata": {},
   "source": [
    "We can test the relations for pseudoinverses,\n",
    "$$ \\mat A\\mat A^{-1}\\mat A = \\mat A \\quad\\mathrm{and}\\quad\n",
    "\\mat A^{-1} \\mat A\\mat A^{-1} = \\mat A^{-1}. $$\n",
    "These should be satisfied."
   ]
  },
  {
   "cell_type": "code",
   "execution_count": 8,
   "metadata": {},
   "outputs": [
    {
     "name": "stdout",
     "output_type": "stream",
     "text": [
      "A Ainv A = A?       True\n",
      "Ainv A Ainv = Ainv? True\n"
     ]
    }
   ],
   "source": [
    "print(\"A Ainv A = A?      \", np.allclose(np.dot(A, np.dot(Apinv_svd,A)), A))\n",
    "print(\"Ainv A Ainv = Ainv?\", np.allclose(np.dot(Apinv_svd, np.dot(A, Apinv_svd)), Apinv_svd))"
   ]
  },
  {
   "cell_type": "markdown",
   "metadata": {},
   "source": [
    "## Intersection of Two Planes\n",
    "\n",
    "The problem we solved above is the same as finding the intersection between two planes.  Provided the two planes are not parallel they will intersect along a line and we can use a singular value decomposition to find this line.\n",
    "\n",
    "Consider two planes given by the equations\n",
    "\n",
    "$$ \\begin{align}\n",
    "x - z &= -2, \\\\\n",
    "x - y + 2z &= 2.\n",
    "\\end{align} $$\n",
    "\n",
    "This is in fact the same system studied above.\n",
    "We can write this in the matrix form $\\mat A\\vec x=\\vec b$ where\n",
    "\n",
    "$$\\mat A = \\left( \\begin{array}{rrr}\n",
    "1 & 0 & -1 \\\\\n",
    "1 & -1 & 2\n",
    "\\end{array} \\right)\n",
    "\\quad\\mathrm{and}\\quad\n",
    "\\vec b = \\left( \\begin{array}{r} -2 \\\\ 2 \\end{array} \\right). $$\n",
    "\n",
    "Written this way, clearly there is not a unique solution since there are only two equations for three unknowns. Here we will need to understand the output of SVD routines for matrices that are not square."
   ]
  },
  {
   "cell_type": "markdown",
   "metadata": {},
   "source": [
    "### 3D Plots\n",
    "\n",
    "Matplotlib can handle basic 3d plots so let us generate one showing the planes and their intersection.  Our goal is to find the line that describes the intersection."
   ]
  },
  {
   "cell_type": "code",
   "execution_count": 9,
   "metadata": {},
   "outputs": [
    {
     "data": {
      "text/plain": [
       "Text(0.5,0.92,'Intersecting Planes')"
      ]
     },
     "execution_count": 9,
     "metadata": {},
     "output_type": "execute_result"
    },
    {
     "data": {
      "image/png": "[encoded data removed]",
      "text/plain": [
       "<Figure size 432x288 with 1 Axes>"
      ]
     },
     "metadata": {
      "needs_background": "light"
     },
     "output_type": "display_data"
    }
   ],
   "source": [
    "from mpl_toolkits.mplot3d import Axes3D # To get 3d axes\n",
    "fig = plt.figure(1)\n",
    "fig.clf()\n",
    "ax = fig.add_subplot(111, projection='3d')\n",
    "(X, Y) = np.meshgrid(np.linspace(-10,10,2), np.linspace(-20,20,2))\n",
    "Z = 2 + X\n",
    "ax.plot_surface(X, Y, Z, color='b', alpha=0.2)\n",
    "Z = 1 - X/2 + Y/2\n",
    "ax.plot_surface(X, Y, Z, color='r', alpha=0.2)\n",
    "ax.set_xlabel('$x$')\n",
    "ax.set_ylabel('$y$')\n",
    "ax.set_zlabel('$z$')\n",
    "ax.set_title('Intersecting Planes')"
   ]
  },
  {
   "cell_type": "markdown",
   "metadata": {},
   "source": [
    "### Full Matrices\n",
    "\n",
    "By default if we perform a singular value decomposition using `svd` we get full matrices for $\\mat U$, $\\mat S$, and $\\mat V$."
   ]
  },
  {
   "cell_type": "code",
   "execution_count": 10,
   "metadata": {},
   "outputs": [
    {
     "name": "stdout",
     "output_type": "stream",
     "text": [
      "U =\n",
      " [[-0.22975292  0.97324899]\n",
      " [ 0.97324899  0.22975292]]\n",
      "S =\n",
      " [2.49721204 1.32813103]\n",
      "VT =\n",
      " [[ 0.29773045 -0.38973422  0.87147221]\n",
      " [ 0.90578556 -0.17298965 -0.38681662]\n",
      " [ 0.30151134  0.90453403  0.30151134]]\n"
     ]
    }
   ],
   "source": [
    "A = np.array([[1., 0, -1], [1, -1, 2]])\n",
    "b = np.array([-2., 2])\n",
    "(Ufull, Sfull, VTfull) = la.svd(A)\n",
    "print(\"U =\\n\", Ufull)\n",
    "print(\"S =\\n\", Sfull)\n",
    "print(\"VT =\\n\", VTfull)"
   ]
  },
  {
   "cell_type": "markdown",
   "metadata": {},
   "source": [
    "This may look strange, as there seems to be an extra row in $\\mat V^T$. What is going on?  As we saw in the previous problem the extra row in $\\mat V^T$ is a null vector.  By default `svd` constructs the full matrices by calculating and including the null vectors.  We can prevent this using the `full_matrices=False`."
   ]
  },
  {
   "cell_type": "code",
   "execution_count": 11,
   "metadata": {},
   "outputs": [
    {
     "name": "stdout",
     "output_type": "stream",
     "text": [
      "U =\n",
      " [[-0.22975292  0.97324899]\n",
      " [ 0.97324899  0.22975292]]\n",
      "S =\n",
      " [2.49721204 1.32813103]\n",
      "VT =\n",
      " [[ 0.29773045 -0.38973422  0.87147221]\n",
      " [ 0.90578556 -0.17298965 -0.38681662]]\n",
      "U S VT =\n",
      " [[ 1.00000000e+00  1.11022302e-16 -1.00000000e+00]\n",
      " [ 1.00000000e+00 -1.00000000e+00  2.00000000e+00]]\n"
     ]
    }
   ],
   "source": [
    "(U, S, VT) = la.svd(A, full_matrices=False)\n",
    "print('U =\\n', U)\n",
    "print('S =\\n', S)\n",
    "print('VT =\\n', VT)\n",
    "\n",
    "print('U S VT =\\n', U @ np.diag(S) @ VT)"
   ]
  },
  {
   "cell_type": "markdown",
   "metadata": {},
   "source": [
    "### Particular Solution\n",
    "\n",
    "To obtain the particular solution we can proceed as we did with the previous system of equations.  First we find the particular solution.  Notice that the zero singular value is not included in `S` so we do not need to \"correct\" any elements of $\\vec x_p'$.  Of course now $\\vec x_p'$ only has two components instead of three."
   ]
  },
  {
   "cell_type": "code",
   "execution_count": 12,
   "metadata": {},
   "outputs": [
    {
     "name": "stdout",
     "output_type": "stream",
     "text": [
      "Particular solution = [-0.72727273 -0.18181818  1.27272727]\n"
     ]
    }
   ],
   "source": [
    "bp = np.dot(U.T, b)\n",
    "xp = np.dot(VT.T, bp / S)\n",
    "print('Particular solution =', xp)"
   ]
  },
  {
   "cell_type": "markdown",
   "metadata": {},
   "source": [
    "## Null Vector\n",
    "\n",
    "The null vectors again must be included.  Here we **need** the full matrices since, as noted above, they are precisely the rows added to $\\mat V^T$ to make it a square matrix.  Here the null vector represents the direction along the line."
   ]
  },
  {
   "cell_type": "code",
   "execution_count": 13,
   "metadata": {},
   "outputs": [
    {
     "name": "stdout",
     "output_type": "stream",
     "text": [
      "Null vector = [0.30151134 0.90453403 0.30151134]\n"
     ]
    }
   ],
   "source": [
    "z = VTfull[-1]\n",
    "print('Null vector =', z)"
   ]
  },
  {
   "cell_type": "markdown",
   "metadata": {},
   "source": [
    "### Line of Intersection\n",
    "\n",
    "The line giving the intersection between the two planes is just the general solution\n",
    "$$ \\vec x = \\vec x_p + \\alpha \\vec z. $$\n",
    "\n",
    "Again we can verify this is the solution to the linear system."
   ]
  },
  {
   "cell_type": "code",
   "execution_count": 14,
   "metadata": {},
   "outputs": [
    {
     "name": "stdout",
     "output_type": "stream",
     "text": [
      "Solution? True\n"
     ]
    }
   ],
   "source": [
    "alpha = -3 # arbitrary value\n",
    "print('Solution?', np.allclose(np.dot(A, xp+alpha*z), b))"
   ]
  },
  {
   "cell_type": "markdown",
   "metadata": {},
   "source": [
    "Finally, add the line to the figure.  We should see it runs along the intersection of the planes. (Since I am being \"clever\" this only works when **not** plotting inline.  We could reproduce the full figure with this extra line included, but I will make you run the example yourself to see the full figure)."
   ]
  },
  {
   "cell_type": "code",
   "execution_count": null,
   "metadata": {},
   "outputs": [],
   "source": [
    "alpha = np.linspace(-12, 12, 2)\n",
    "# One use of broadcasting.\n",
    "x = xp[:,None] + alpha[None,:] * z[:,None]\n",
    "ax.plot(x[0], x[1], x[2], 'k-', lw=2)\n",
    "ax.set_xlim(-10,10) # Otherwise x limits change.\n",
    "fig.show()"
   ]
  }
 ],
 "metadata": {
  "anaconda-cloud": {},
  "kernelspec": {
   "display_name": "Python 3",
   "language": "python",
   "name": "python3"
  },
  "language_info": {
   "codemirror_mode": {
    "name": "ipython",
    "version": 3
   },
   "file_extension": ".py",
   "mimetype": "text/x-python",
   "name": "python",
   "nbconvert_exporter": "python",
   "pygments_lexer": "ipython3",
   "version": "3.7.0"
  }
 },
 "nbformat": 4,
 "nbformat_minor": 1
}
