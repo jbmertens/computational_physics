{
 "cells": [
  {
   "cell_type": "markdown",
   "metadata": {},
   "source": [
    "# Periodic Boundary Conditions"
   ]
  },
  {
   "cell_type": "markdown",
   "metadata": {},
   "source": [
    "## Initialization"
   ]
  },
  {
   "cell_type": "code",
   "execution_count": 3,
   "metadata": {},
   "outputs": [],
   "source": [
    "import numpy as np\n",
    "import matplotlib.pyplot as plt\n",
    "%matplotlib inline\n",
    "import matplotlib as mpl\n",
    "mpl.rc('xtick', direction='in', top=True)\n",
    "mpl.rc('ytick', direction='in', right=True)\n",
    "mpl.rc('xtick.minor', visible=True)\n",
    "mpl.rc('ytick.minor', visible=True)"
   ]
  },
  {
   "cell_type": "code",
   "execution_count": 5,
   "metadata": {},
   "outputs": [
    {
     "data": {
      "text/plain": [
       "[<matplotlib.lines.Line2D at 0x21eef331f60>]"
      ]
     },
     "execution_count": 5,
     "metadata": {},
     "output_type": "execute_result"
    },
    {
     "data": {
      "image/png": "[encoded data removed]",
      "text/plain": [
       "<Figure size 432x288 with 1 Axes>"
      ]
     },
     "metadata": {
      "needs_background": "light"
     },
     "output_type": "display_data"
    }
   ],
   "source": [
    "def advect_step(f, c, dx, dt) :\n",
    "    \"\"\"\n",
    "    Function to compute the solution to the advection\n",
    "    equation at the next timestep using Euler's method\n",
    "    and a right-handed finite differencing scheme with\n",
    "    *periodic* boundary conditions.\n",
    "    \n",
    "    Accepts parameters:\n",
    "    f: 1-d array containing function values\n",
    "    c: wave speed\n",
    "    dx: spacing between points of f\n",
    "    dt: size of timestep\n",
    "    \"\"\"\n",
    "    f_new = np.zeros_like(f)\n",
    "    \n",
    "    # Right-handed difference for derivative of f\n",
    "    f_deriv = (f[2:] - f[1:-1]) / dx\n",
    "    \n",
    "    # Forward-Euler time step for all points except the boundaries\n",
    "    f_new[1:-1] = f[1:-1] + dt*c*f_deriv\n",
    "    \n",
    "    # Apply boundary conditions\n",
    "    f_new[0] = f_new[-2]\n",
    "    f_new[-1] = f_new[1]\n",
    "    \n",
    "    return f_new\n",
    "\n",
    "xs = np.linspace(-100, 100, 1000)\n",
    "dx = xs[1] - xs[0]\n",
    "dt = dx/10.\n",
    "t_final = 100 # specify a final time.\n",
    "n_steps = int(t_final / dt)\n",
    "c = 1\n",
    "\n",
    "f_ini = np.exp(-xs**2/20**2)\n",
    "f = f_ini\n",
    "for n in range(n_steps) :\n",
    "    f = advect_step(f, c, dx, dt)\n",
    "    \n",
    "plt.plot(xs, f_ini)\n",
    "plt.plot(xs, f)"
   ]
  },
  {
   "cell_type": "markdown",
   "metadata": {},
   "source": [
    "## The wave equation in 2+1 dimensions\n",
    "\n",
    "Below is an implementation of the wave equation in two spatial dimensions, with Dirichilet boundary conditions. This implementation uses a centered second derivative and Euler's method for timestepping, a method which is not absolutely stable."
   ]
  },
  {
   "cell_type": "code",
   "execution_count": 9,
   "metadata": {},
   "outputs": [
    {
     "data": {
      "text/plain": [
       "<matplotlib.image.AxesImage at 0x21ef16883c8>"
      ]
     },
     "execution_count": 9,
     "metadata": {},
     "output_type": "execute_result"
    },
    {
     "data": {
      "image/png": "[encoded data removed]",
      "text/plain": [
       "<Figure size 432x288 with 2 Axes>"
      ]
     },
     "metadata": {
      "needs_background": "light"
     },
     "output_type": "display_data"
    }
   ],
   "source": [
    "import numpy as np\n",
    "import matplotlib.pyplot as plt\n",
    "import scipy.signal as sig\n",
    "\n",
    "def wave_step(f, g, dx, dt) :\n",
    "    \"\"\"\n",
    "    Function to compute the solution to the 2-d wave\n",
    "    equation at the next timestep using Euler's method,\n",
    "    centered finite differencing, and Periodic\n",
    "    boundary conditions.\n",
    "    \n",
    "    Accepts parameters:\n",
    "    f: 2-d array containing function values\n",
    "    g: 2-d array containing function values, time-derivative of f\n",
    "    dx: spacing between points of f, assuming dx = dy\n",
    "    dt: size of timestep\n",
    "    \"\"\"\n",
    "    f_new = np.zeros_like(f)\n",
    "    g_new = np.zeros_like(g)\n",
    "    \n",
    "    # 2-D Laplacian of f using array slicing, excluding boundaries\n",
    "    # For an N x N array f, f_lap is the N-1 x N-1 array in the \"middle\"\n",
    "    f_lap = (f[2:,1:-1] - 2*f[1:-1,1:-1] + f[:-2,1:-1]) / dx**2\\\n",
    "            + (f[1:-1,2:] - 2*f[1:-1,1:-1] + f[1:-1,:-2]) / dx**2\n",
    "    \n",
    "    # Alternative 2-D Laplacian of f, using a convolution operator.\n",
    "    # ker = np.array([[0, 1, 0], [1, -4, 1], [0, 1, 0]]) / dx**2\n",
    "    # f_lap = sig.convolve(f, ker, mode='valid')\n",
    "    \n",
    "    # Forward-Euler time step for all points except the boundaries\n",
    "    g_new[1:-1,1:-1] = g[1:-1,1:-1] + dt*f_lap\n",
    "    f_new = f + dt*g\n",
    "\n",
    "    # Apply boundary conditions\n",
    "    f_new[:,0] = f_new[:,-2]\n",
    "    f_new[:,-1] = f_new[:,1]\n",
    "    f_new[0,:] = f_new[-2,:]\n",
    "    f_new[-1,:] = f_new[1,:]\n",
    "    g_new[:,0] = g_new[:,-2]\n",
    "    g_new[:,-1] = g_new[:,1]\n",
    "    g_new[0,:] = g_new[-2,:]\n",
    "    g_new[-1,:] = g_new[1,:]\n",
    "\n",
    "    return f_new, g_new\n",
    "\n",
    "xs = np.linspace(-100, 100, 50)\n",
    "dx = xs[1] - xs[0]\n",
    "dt = dx/10.\n",
    "t_final = 130\n",
    "n_steps = int(t_final/dt)\n",
    "\n",
    "f_ini = np.exp(-(xs[np.newaxis,:]**2 + xs[:,np.newaxis]**2)/30**2)\n",
    "f = f_ini\n",
    "g = np.zeros_like(f)\n",
    "for n in range(n_steps) :\n",
    "    f, g = wave_step(f, g, dx, dt)\n",
    "\n",
    "plt.subplot(1, 2, 1)\n",
    "plt.imshow(f_ini, vmin=np.min(f_ini), vmax=np.max(f_ini))\n",
    "plt.subplot(1, 2, 2)\n",
    "plt.imshow(f, vmin=np.min(f_ini), vmax=np.max(f_ini))"
   ]
  }
 ],
 "metadata": {
  "kernelspec": {
   "display_name": "Python 3",
   "language": "python",
   "name": "python3"
  },
  "language_info": {
   "codemirror_mode": {
    "name": "ipython",
    "version": 3
   },
   "file_extension": ".py",
   "mimetype": "text/x-python",
   "name": "python",
   "nbconvert_exporter": "python",
   "pygments_lexer": "ipython3",
   "version": "3.7.0"
  }
 },
 "nbformat": 4,
 "nbformat_minor": 2
}
