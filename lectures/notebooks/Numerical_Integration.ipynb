{
 "cells": [
  {
   "cell_type": "markdown",
   "metadata": {},
   "source": [
    "# Numerical Integration\n",
    "\n",
    "Here we will study numerical integration in Python as provided by routines in `scipy.integrate`.  The main routine is `quad`, but there are many other methods implemented that are useful in some circumstances."
   ]
  },
  {
   "cell_type": "markdown",
   "metadata": {},
   "source": [
    "## Initialization"
   ]
  },
  {
   "cell_type": "code",
   "execution_count": 1,
   "metadata": {},
   "outputs": [],
   "source": [
    "import numpy as np\n",
    "import matplotlib.pyplot as plt\n",
    "%matplotlib inline\n",
    "import scipy.integrate as integ\n",
    "import scipy.optimize as opt\n",
    "import scipy.interpolate as interp\n",
    "# Globally fix plot styling\n",
    "import matplotlib as mpl\n",
    "mpl.rc('xtick', direction='in', top=True)\n",
    "mpl.rc('ytick', direction='in', right=True)\n",
    "mpl.rc('xtick.minor', visible=True)\n",
    "mpl.rc('ytick.minor', visible=True)"
   ]
  },
  {
   "cell_type": "markdown",
   "metadata": {},
   "source": [
    "## Documentation\n",
    "\n",
    "As always we should check the documentation.  There are routines for Newton-Cotes integration, `newton_cotes`, for integrating functions, in particular `romberg` and `quad`, and for integrating from tabulated values, in particular `cumtrapz`, `simps`, and `romb`.  We should check the documentation for all of these, and some of them may be used in the lab and homework assignments.  Here we will only look at a few of them."
   ]
  },
  {
   "cell_type": "code",
   "execution_count": 2,
   "metadata": {},
   "outputs": [],
   "source": [
    "integ?"
   ]
  },
  {
   "cell_type": "code",
   "execution_count": null,
   "metadata": {},
   "outputs": [],
   "source": [
    "integ."
   ]
  },
  {
   "cell_type": "code",
   "execution_count": null,
   "metadata": {},
   "outputs": [],
   "source": [
    "integ.newton_cotes?"
   ]
  },
  {
   "cell_type": "code",
   "execution_count": null,
   "metadata": {},
   "outputs": [],
   "source": [
    "print(\"n=1: [trapezoidal rule] \", integ.newton_cotes(1))\n",
    "print(\"n=2: [Simpson's rule] \", integ.newton_cotes(2))\n",
    "print(\"n=10: \", integ.newton_cotes(10))"
   ]
  },
  {
   "cell_type": "code",
   "execution_count": null,
   "metadata": {},
   "outputs": [],
   "source": [
    "integ.cumtrapz?"
   ]
  },
  {
   "cell_type": "code",
   "execution_count": null,
   "metadata": {},
   "outputs": [],
   "source": [
    "integ.romberg?"
   ]
  },
  {
   "cell_type": "code",
   "execution_count": null,
   "metadata": {},
   "outputs": [],
   "source": [
    "integ.quad?"
   ]
  },
  {
   "cell_type": "markdown",
   "metadata": {},
   "source": [
    "The work horse routine is `quad`.  It is actually a wrapper for many integration routines and techniques.  In fact, it has so many features that it has its own function to explain some of its more esoteric features, `quad_explain`."
   ]
  },
  {
   "cell_type": "code",
   "execution_count": null,
   "metadata": {},
   "outputs": [],
   "source": [
    "integ.quad_explain()"
   ]
  },
  {
   "cell_type": "markdown",
   "metadata": {},
   "source": [
    "## Using `quad`\n",
    "\n",
    "The main and most powerful routine for integrating functions is `quad`.  To get started using it let us consider a simple integral,\n",
    "$$ \\int_0^2 \\mathrm{e}^x \\,\\mathrm{d}x = \\mathrm{e}^2 - 1. $$\n",
    "We can perform this integral using `quad` as shown below."
   ]
  },
  {
   "cell_type": "code",
   "execution_count": 3,
   "metadata": {},
   "outputs": [
    {
     "data": {
      "text/plain": [
       "(6.3890560989306495, 7.093277186654589e-14)"
      ]
     },
     "execution_count": 3,
     "metadata": {},
     "output_type": "execute_result"
    }
   ],
   "source": [
    "integ.quad(np.exp, 0, 2)"
   ]
  },
  {
   "cell_type": "markdown",
   "metadata": {},
   "source": [
    "Notice that `quad` **returns two quantities.** As described in the documentation these are the value of the integral and an estimate of the error in the integral.  Note that this error estimate is based on the convergence of the integration algorithm, it is **not** the true error.  If `quad` knew the true value it would return it and the error would be zero!\n",
    "\n",
    "In principle we should always check the error estimate as this is an indication of the convergence of the algorithm and how much we should trust the result.  Since `quad` returns the results in what is a called a `tuple` in Python, we can store the results using\n",
    "```python\n",
    "(res, err) = integ.quad(np.exp, 0, 2)\n",
    "```\n",
    "\n",
    "Alternatively we can entirely ignore the error.  This is not good practice, but is often expedient (that is, once we know the integral converges we can start ignoring the error).  Another common idiom is thus to just pull out the result by extracting the first element of the `tuple` (the element with index 0),\n",
    "```python\n",
    "res = integ.quad(np.exp, 0, 2)[0]\n",
    "```\n",
    "\n",
    "For our simple case we have ..."
   ]
  },
  {
   "cell_type": "code",
   "execution_count": 4,
   "metadata": {},
   "outputs": [
    {
     "name": "stdout",
     "output_type": "stream",
     "text": [
      "True value of integral = 6.38905609893065  quad estimate of integral = 6.3890560989306495\n",
      "True error in integral = 8.881784197001252e-16  quad estimate of error = 7.093277186654589e-14\n"
     ]
    }
   ],
   "source": [
    "res_true = np.exp(2) - 1\n",
    "(res, err) = integ.quad(np.exp, 0, 2)\n",
    "print(\"True value of integral =\", res_true, \" quad estimate of integral =\", res)\n",
    "print(\"True error in integral =\", np.abs(res_true-res), \" quad estimate of error =\", err)"
   ]
  },
  {
   "cell_type": "markdown",
   "metadata": {},
   "source": [
    "We can get detailed information of what `quad` is doing by using `full_output=True`."
   ]
  },
  {
   "cell_type": "code",
   "execution_count": 5,
   "metadata": {},
   "outputs": [
    {
     "data": {
      "text/plain": [
       "(6.3890560989306495,\n",
       " 7.093277186654589e-14,\n",
       " {'neval': 21,\n",
       "  'last': 1,\n",
       "  'iord': array([         1,    6029375,    3801155,    5570652,    6619251,\n",
       "            7536754,    4849756,    7143521,    7536741,    4259932,\n",
       "            6357102,    7274595,    6553710,    3342433,    7077980,\n",
       "            6422633,    7536732,    7602281,    2949221,    6357104,\n",
       "            7012451,    6750305,    7536741,    7536732,    6881379,\n",
       "            7929968,    6881372,    7602286,    7471205,    7274608,\n",
       "            6357100,    6619252,    6226012,    7340127,    6488185,\n",
       "            6488161,    6619240,    6226015,    6226012,    7667811,\n",
       "            6881378,    3014755,    7340131,    7602297,    7274600,\n",
       "            2949230,    3604531,    7340078,    6488185, 1716060160],\n",
       "        dtype=int32),\n",
       "  'alist': array([0.00000000e+000, 9.87116690e-312, 4.32106881e-312, 0.00000000e+000,\n",
       "         1.69484279e-319, 4.32106881e-312, 0.00000000e+000, 9.87123283e-312,\n",
       "         0.00000000e+000, 0.00000000e+000, 0.00000000e+000, 9.87116687e-312,\n",
       "         2.96439388e-323, 6.95239197e-310, 2.02369289e-320, 2.96439388e-323,\n",
       "         6.95239197e-310, 9.88131292e-324, 0.00000000e+000, 0.00000000e+000,\n",
       "         8.70187941e-319, 0.00000000e+000,             nan, 0.00000000e+000,\n",
       "         4.67296746e-307, 1.69121096e-306, 1.29060871e-306, 1.89146896e-307,\n",
       "         1.37961302e-306, 1.05699242e-307, 8.01097889e-307, 1.78020169e-306,\n",
       "         7.56601165e-307, 1.02359984e-306, 1.69118108e-306, 2.22522597e-306,\n",
       "         7.56601165e-307, 6.23054972e-307, 1.60219306e-306, 6.23055991e-307,\n",
       "         1.33511562e-306, 7.56601165e-307, 1.33511562e-306, 1.60221072e-306,\n",
       "         8.45559303e-307, 8.06612616e-308, 6.89810244e-307, 1.22387550e-307,\n",
       "         2.22522596e-306, 4.94065646e-322]),\n",
       "  'blist': array([2.00000000e+000, 3.11526468e-307, 3.11522054e-307, 3.56011818e-307,\n",
       "         2.33644129e-307, 4.00540117e-307, 4.89539676e-307, 3.44898841e-307,\n",
       "         9.34567010e-307, 3.56011818e-307, 4.00537401e-307, 1.89142822e-307,\n",
       "         2.11392372e-307, 1.60216183e-306, 7.56602523e-307, 1.78019082e-306,\n",
       "         4.00540456e-307, 1.89145198e-307, 3.11522733e-307, 2.11392372e-307,\n",
       "         1.60216183e-306, 7.56602523e-307, 1.11258446e-306, 2.44032786e-312,\n",
       "         2.55896905e-307, 2.44771196e-307, 4.22787460e-307, 1.22383816e-307,\n",
       "         1.44635488e-307, 1.37962320e-306, 1.29060871e-306, 1.24611266e-306,\n",
       "         6.67535739e-308, 6.95358499e-308, 3.44900369e-307, 3.22646744e-307,\n",
       "         1.05695422e-307, 1.44635488e-307, 1.37962320e-306, 1.29060871e-306,\n",
       "         1.24611266e-306, 3.56011818e-307, 2.22520797e-307, 3.56035245e-307,\n",
       "         1.61323966e-307, 3.56043053e-307, 1.60219306e-306, 2.44763557e-307,\n",
       "         1.69119330e-306, 1.33511562e-306]),\n",
       "  'rlist': array([6.38905610e+000, 6.95239029e-310, 1.71934845e-321,             nan,\n",
       "         1.12646967e-321, 0.00000000e+000, 7.20100691e+252, 6.01346953e-154,\n",
       "         5.81762828e+252, 2.35345430e+251, 5.81842347e+180, 1.17230689e+166,\n",
       "         1.88892019e+219, 1.46915539e+195, 4.45197005e+252, 1.81270012e-152,\n",
       "         2.45933197e-154, 3.98453491e+252, 3.27555067e+267, 3.52054409e+257,\n",
       "         5.33808743e+184, 1.02188772e-152, 1.43779693e-105, 6.19640467e+223,\n",
       "         2.49970348e+262, 1.39235595e-258, 1.91453138e+214, 9.13602167e+242,\n",
       "         2.32160957e-152, 2.20791354e+214, 3.02907761e-152, 5.93723900e-018,\n",
       "         1.65127427e-028, 9.74264038e-154, 3.52054409e+257, 1.10639948e+200,\n",
       "         8.70860497e+183, 1.69376034e+190, 1.97278828e-153, 3.62977568e+228,\n",
       "         1.87422545e+179, 1.67626279e+243, 5.25306420e+170, 5.48856624e-096,\n",
       "         3.67586852e+228, 3.13147018e-120, 4.67661343e+252, 1.18673780e-118,\n",
       "         3.13147023e-120, 2.78134239e-307]),\n",
       "  'elist': array([7.09327719e-014, 3.22651328e-307, 1.24612081e-306, 2.11392033e-307,\n",
       "         2.78149002e-307, 5.11793810e-307, 2.22523004e-306, 1.29061142e-306,\n",
       "         5.11798223e-307, 1.37961370e-306, 1.37960012e-306, 4.22802739e-307,\n",
       "         1.24611470e-306, 8.34423493e-308, 1.37959808e-306, 9.34604358e-307,\n",
       "         4.67292672e-307, 2.11394409e-307, 6.23040373e-307, 1.60219035e-306,\n",
       "         1.86917069e-306, 8.45599366e-307, 4.22787460e-307, 3.33774490e-307,\n",
       "         2.33645827e-307, 1.33511969e-306, 9.34604358e-307, 4.22794251e-307,\n",
       "         2.22520458e-307, 2.33647355e-307, 1.23077925e-312, 4.45042952e-307,\n",
       "         3.44900369e-307, 2.11392372e-307, 2.78149002e-307, 5.11793810e-307,\n",
       "         2.33647015e-307, 2.11392372e-307, 1.69117157e-306, 6.23059726e-307,\n",
       "         9.34605037e-307, 1.42413555e-306, 1.78019082e-306, 1.37959740e-306,\n",
       "         6.23057349e-307, 1.42419530e-306, 4.00536722e-307, 1.78022206e-306,\n",
       "         8.06635534e-308, 1.37961913e-306])})"
      ]
     },
     "execution_count": 5,
     "metadata": {},
     "output_type": "execute_result"
    }
   ],
   "source": [
    "integ.quad(np.exp, 0, 2, full_output=True)"
   ]
  },
  {
   "cell_type": "markdown",
   "metadata": {},
   "source": [
    "This returns a lot of extra information in a data structure called a `dictionary` in Python.  (This is called an associative array, hash map, or something similar in other languages.)  It is best to store this and look at it more closely.  The full details are contained in the description provided by `quad_explain`.  We will focus on only one entry, the number of function evaluations required which is contained in `neval`."
   ]
  },
  {
   "cell_type": "code",
   "execution_count": null,
   "metadata": {},
   "outputs": [],
   "source": [
    "(res, err, info) = integ.quad(np.exp, 0, 2, full_output=True)\n",
    "print(\"Evaluation of the integral required\", info['neval'], \"function evaluations\")"
   ]
  },
  {
   "cell_type": "code",
   "execution_count": null,
   "metadata": {},
   "outputs": [],
   "source": [
    "info.keys()"
   ]
  },
  {
   "cell_type": "markdown",
   "metadata": {},
   "source": [
    "## Incandescent Light Bulb\n",
    "\n",
    "The great invention of Edison that brought safe, controllable light to the world has now largely been relegated to the dustbin of history due to its energy inefficiency.  Here we will study this through a simple model.  We treat the light bulb as a black body.  This is a simple approximation that describes many of the features of a light bulb, but is not a complete model.  The intensity of a black body, the energy emitted per unit time in some solid angle as a function of the wavelength of the emitted light, is\n",
    "$$ I(\\lambda) = \\frac{2\\pi A h c^2}{\\lambda^5 (\\mathrm{e}^{hc/\\lambda k_B T} - 1)}, $$\n",
    "where $A$ is the surface area of the black body, $h=6.626\\times10^{-34}\\;\\mathrm{J/s}$ is Planck's constant, $c$ is the speed of light, $k_B=1.381\\times10^{-23}\\;\\mathrm{J/K}$ is Boltzmann's constant, and $T$ is the temperature of the object.\n",
    "\n",
    "A black body at any temperature emits at all wavelengths.  Our eye is only sensitive to \"visible light\", that is, wavelengths roughly in the range $300\\le\\lambda(\\mathrm{nm})\\le750$.  Any radiation emitted at smaller or larger frequencies is thus \"wasted energy\" as far as we are concerned.  For this reason let us define the efficiency, $\\eta$, as the ratio of the emitted radiation we can observe to the total emitted radiation\n",
    "$$ \\eta \\equiv \\frac{\\int_{\\lambda_1}^{\\lambda_2} I(\\lambda) \\mathrm{d}\\lambda}{\\int_0^\\infty I(\\lambda) \\mathrm{d}\\lambda}. $$\n",
    "\n",
    "To use these we transform it into a simpler form.  Let $x_i(T) \\equiv \\frac{hc}{\\lambda_i k_B T}$ and note that we can perform the integral in the denominator leaving the efficiency as\n",
    "$$ \\eta(T)  = \\frac{15}{\\pi^4} \\int_{x_2(T)}^{x_1(T)} \\frac{x^3}{\\mathrm{e}^x-1} \\mathrm{d}x. $$\n",
    "We will use $\\lambda_1=300\\;\\mathrm{nm}$ and $\\lambda_2=750\\;\\mathrm{nm}$ in what follows to estimate the efficiency of a light bulb for visible radiation."
   ]
  },
  {
   "cell_type": "markdown",
   "metadata": {},
   "source": [
    "### Loops\n",
    "\n",
    "We wish to find the temperature at which the light bulb runs at maximum efficiency.  To do this we need to evaluate the efficiency for a grid of temperatures.  Unfortunately `quad` does not evaluate the integral over an array of end points so we must resort to writing a loop. (If you are familiar with list comprehensions in Python, that is another option.)  This is one case where we cannot easily avoid doing so."
   ]
  },
  {
   "cell_type": "markdown",
   "metadata": {},
   "source": [
    "### Optimal Temperature\n",
    "\n",
    "To calculate the optimal temperature we construct a grid of temperature values and loop over them."
   ]
  },
  {
   "cell_type": "code",
   "execution_count": 6,
   "metadata": {},
   "outputs": [
    {
     "data": {
      "image/png": "[encoded data removed]",
      "text/plain": [
       "<Figure size 432x288 with 1 Axes>"
      ]
     },
     "metadata": {
      "needs_background": "light"
     },
     "output_type": "display_data"
    }
   ],
   "source": [
    "# Some constants to get us going.\n",
    "# We will use the temperature measured in Kelvin.\n",
    "Planckh = 6.62606957e-34 # J s, Planck's constant\n",
    "speedc = 2.99792458e+08 # m/s, speed of light\n",
    "kB = 1.3806488e-23 # J/K, Boltzmann's constant\n",
    "lam1 = 300e-9 # m\n",
    "lam2 = 750e-9 # m\n",
    "# Conversion factors need for the efficiency.\n",
    "x1T = Planckh*speedc / (lam1*kB) # x1*T, in K\n",
    "x2T = Planckh*speedc / (lam2*kB) # x1*T, in K\n",
    "\n",
    "def I(x) :\n",
    "    \"\"\"Blackbody intensity in dimensionless form.\"\"\"\n",
    "    return x**3 / (np.exp(x)-1)\n",
    "\n",
    "def efficiency(T) :\n",
    "    \"\"\"Efficiency of a blackbody.  This is defined as the intensity\n",
    "    emitted in visible wavelengths normalized by the total intensity\n",
    "    of a blackbody with temperature, T, specified in Kelvin.\n",
    "    \"\"\"\n",
    "    return 15/np.pi**4 * integ.quad(I, x2T/T, x1T/T)[0]\n",
    "\n",
    "T = np.linspace(300, 10000, 5000) # Kelvin\n",
    "eta = np.zeros_like(T)\n",
    "for j in range(len(T)) :\n",
    "    eta[j] = efficiency(T[j])\n",
    "    \n",
    "# A quick plot to see what it looks like\n",
    "plt.plot(T, eta, 'k-')\n",
    "plt.xlabel('Temperature (Kelvin)')\n",
    "plt.ylabel('Efficiency');"
   ]
  },
  {
   "cell_type": "markdown",
   "metadata": {},
   "source": [
    "From the quick plot the efficiency always remains below 60 percent and is a maximum at a rather high temperature.  We can find this maximum in a number of ways.  One approach is to find where the derivative is zero.  We can do this using a spline and a root finder."
   ]
  },
  {
   "cell_type": "code",
   "execution_count": 7,
   "metadata": {},
   "outputs": [
    {
     "data": {
      "image/png": "[encoded data removed]",
      "text/plain": [
       "<Figure size 432x288 with 1 Axes>"
      ]
     },
     "metadata": {
      "needs_background": "light"
     },
     "output_type": "display_data"
    }
   ],
   "source": [
    "eta_spline = interp.InterpolatedUnivariateSpline(T, eta)\n",
    "# Calculate its derivative as a function\n",
    "eta_spline_deriv = eta_spline.derivative()\n",
    "Toptimal = opt.brentq(eta_spline_deriv, 4000, 9000)\n",
    "etamax = efficiency(Toptimal)\n",
    "\n",
    "# Make a nice plot of the results\n",
    "plt.plot(T, eta, 'k-')\n",
    "plt.axvline(Toptimal, color='r', ls='--', label=f'Optimal Temperature: {Toptimal:.0f} K')\n",
    "plt.axhline(etamax, color='b', ls='-.', label=f'Maximum efficiency: {100*etamax:.1f}%')\n",
    "plt.legend(loc='best')\n",
    "plt.xlabel('Temperature (Kelvin)')\n",
    "plt.ylabel('Efficiency')\n",
    "plt.title('(In)efficiency of an Incandescent Bulb');"
   ]
  },
  {
   "cell_type": "markdown",
   "metadata": {},
   "source": [
    "The optimal temperature is quite high and the value is not too surprising.  The Sun is the dominant source of light on the Earth and it can also be approximated as a black body.  The surface temperature of the Sun is approximately 5800 K, close to the optimal temperature we find.  The exact connection between the two and the role evolution plays in this is more subtle and must be addressed with some care.  We could easily include a \"response function\" for how the eye responds as a function of wavelength in our analysis, see <a href=\"http://www.phys.ufl.edu/~hagen/phz4710/readings/AJPSofferLynch.pdf\">Soffer and Lynch (1999)</a> for more details.  This would be a more accurate assessment.  Even without that we get the main point, the optimal temperature for operating an incandescent bulb is quite high.\n",
    "\n",
    "Overall we see that an incandescent bulb is incredibly inefficient, particularly since there is no way we would run such a bulb at approximately 8000 K!  Even if we did we would only be running at about 60 percent efficiency.  Of course this analysis should not be taken too literally.  Many things can be/were done to improve the efficiency, an incandescent bulb is not a perfect blackbody, *etc*.  Even so, it shows how big a problem must be overcome to make them even marginally efficient.  Alternate technologies have thus supplanted the venerable incandescent bulb."
   ]
  }
 ],
 "metadata": {
  "anaconda-cloud": {},
  "kernelspec": {
   "display_name": "Python 3",
   "language": "python",
   "name": "python3"
  },
  "language_info": {
   "codemirror_mode": {
    "name": "ipython",
    "version": 3
   },
   "file_extension": ".py",
   "mimetype": "text/x-python",
   "name": "python",
   "nbconvert_exporter": "python",
   "pygments_lexer": "ipython3",
   "version": "3.7.0"
  }
 },
 "nbformat": 4,
 "nbformat_minor": 4
}
