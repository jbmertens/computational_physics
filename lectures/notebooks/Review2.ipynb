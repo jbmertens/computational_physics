{
 "cells": [
  {
   "cell_type": "markdown",
   "metadata": {},
   "source": [
    "# Midterm Review\n",
    "\n",
    "The goals of this notebook are to review a few basic commands we should know how to use, and problems we might encounter."
   ]
  },
  {
   "cell_type": "markdown",
   "metadata": {},
   "source": [
    "## 0. Hyperbolicity"
   ]
  },
  {
   "cell_type": "markdown",
   "metadata": {},
   "source": [
    "Maxwell's equations in E&M are given by\n",
    "\n",
    "$$\n",
    "\\begin{align}\n",
    "  \\nabla \\cdot \\mathbf{E} &= \\frac{\\rho}{\\varepsilon_0} \\quad & \\nabla \\times \\mathbf{E} &= -\\frac{\\partial\\mathbf B}{\\partial t}, \\\\\n",
    "  \\nabla \\cdot \\mathbf{B} &= 0 \\quad & \\nabla \\times \\mathbf{B} &= \\mu_0\\left( \\mathbf{J} + \\varepsilon_0 \\frac{\\partial\\mathbf E}{\\partial t}\\right).\n",
    "\\end{align}\n",
    "$$\n",
    "\n",
    "Which equation(s) are elliptic, parabolic, or hyperbolic?\n",
    "\n",
    "In absence of sources, we can take the curl of the equations with time-derivatives and\n",
    "arrive with two independent equations for $\\mathbf{E}$ and $\\mathbf{B}$. (In fact, we could include\n",
    "the source terms as well, but have dropped these for clarity.)\n",
    "Are these equations elliptic, parabolic, or hyperbolic?\n",
    "\n",
    "$$\n",
    "\\begin{align}\n",
    "  \\frac{1}{c^2} \\frac{\\partial^2 \\mathbf{E}}{\\partial t^2} - \\nabla^2 \\mathbf{E} = 0\\,, \\\\\n",
    "  \\frac{1}{c^2} \\frac{\\partial^2 \\mathbf{B}}{\\partial t^2} - \\nabla^2 \\mathbf{B} = 0\\,.\n",
    "\\end{align}\n",
    "$$\n"
   ]
  },
  {
   "cell_type": "markdown",
   "metadata": {},
   "source": [
    "## 1. Integration syntax"
   ]
  },
  {
   "cell_type": "code",
   "execution_count": 1,
   "metadata": {},
   "outputs": [
    {
     "ename": "TypeError",
     "evalue": "eax() missing 1 required positional argument: 'a'",
     "output_type": "error",
     "traceback": [
      "\u001b[1;31m---------------------------------------------------------------------------\u001b[0m",
      "\u001b[1;31mTypeError\u001b[0m                                 Traceback (most recent call last)",
      "\u001b[1;32m<ipython-input-1-09fa65f93177>\u001b[0m in \u001b[0;36m<module>\u001b[1;34m()\u001b[0m\n\u001b[0;32m     10\u001b[0m \u001b[1;31m# Why isn't this working?\u001b[0m\u001b[1;33m\u001b[0m\u001b[1;33m\u001b[0m\u001b[0m\n\u001b[0;32m     11\u001b[0m \u001b[1;31m# What is a good way to fix this?\u001b[0m\u001b[1;33m\u001b[0m\u001b[1;33m\u001b[0m\u001b[0m\n\u001b[1;32m---> 12\u001b[1;33m \u001b[0minteg\u001b[0m\u001b[1;33m.\u001b[0m\u001b[0mquad\u001b[0m\u001b[1;33m(\u001b[0m\u001b[0meax\u001b[0m\u001b[1;33m,\u001b[0m \u001b[1;36m0\u001b[0m\u001b[1;33m,\u001b[0m \u001b[1;36m2\u001b[0m\u001b[1;33m)\u001b[0m\u001b[1;33m\u001b[0m\u001b[0m\n\u001b[0m",
      "\u001b[1;32m~\\Anaconda3\\lib\\site-packages\\scipy\\integrate\\quadpack.py\u001b[0m in \u001b[0;36mquad\u001b[1;34m(func, a, b, args, full_output, epsabs, epsrel, limit, points, weight, wvar, wopts, maxp1, limlst)\u001b[0m\n\u001b[0;32m    339\u001b[0m     \u001b[1;32mif\u001b[0m \u001b[0mweight\u001b[0m \u001b[1;32mis\u001b[0m \u001b[1;32mNone\u001b[0m\u001b[1;33m:\u001b[0m\u001b[1;33m\u001b[0m\u001b[0m\n\u001b[0;32m    340\u001b[0m         retval = _quad(func, a, b, args, full_output, epsabs, epsrel, limit,\n\u001b[1;32m--> 341\u001b[1;33m                        points)\n\u001b[0m\u001b[0;32m    342\u001b[0m     \u001b[1;32melse\u001b[0m\u001b[1;33m:\u001b[0m\u001b[1;33m\u001b[0m\u001b[0m\n\u001b[0;32m    343\u001b[0m         retval = _quad_weight(func, a, b, args, full_output, epsabs, epsrel,\n",
      "\u001b[1;32m~\\Anaconda3\\lib\\site-packages\\scipy\\integrate\\quadpack.py\u001b[0m in \u001b[0;36m_quad\u001b[1;34m(func, a, b, args, full_output, epsabs, epsrel, limit, points)\u001b[0m\n\u001b[0;32m    446\u001b[0m     \u001b[1;32mif\u001b[0m \u001b[0mpoints\u001b[0m \u001b[1;32mis\u001b[0m \u001b[1;32mNone\u001b[0m\u001b[1;33m:\u001b[0m\u001b[1;33m\u001b[0m\u001b[0m\n\u001b[0;32m    447\u001b[0m         \u001b[1;32mif\u001b[0m \u001b[0minfbounds\u001b[0m \u001b[1;33m==\u001b[0m \u001b[1;36m0\u001b[0m\u001b[1;33m:\u001b[0m\u001b[1;33m\u001b[0m\u001b[0m\n\u001b[1;32m--> 448\u001b[1;33m             \u001b[1;32mreturn\u001b[0m \u001b[0m_quadpack\u001b[0m\u001b[1;33m.\u001b[0m\u001b[0m_qagse\u001b[0m\u001b[1;33m(\u001b[0m\u001b[0mfunc\u001b[0m\u001b[1;33m,\u001b[0m\u001b[0ma\u001b[0m\u001b[1;33m,\u001b[0m\u001b[0mb\u001b[0m\u001b[1;33m,\u001b[0m\u001b[0margs\u001b[0m\u001b[1;33m,\u001b[0m\u001b[0mfull_output\u001b[0m\u001b[1;33m,\u001b[0m\u001b[0mepsabs\u001b[0m\u001b[1;33m,\u001b[0m\u001b[0mepsrel\u001b[0m\u001b[1;33m,\u001b[0m\u001b[0mlimit\u001b[0m\u001b[1;33m)\u001b[0m\u001b[1;33m\u001b[0m\u001b[0m\n\u001b[0m\u001b[0;32m    449\u001b[0m         \u001b[1;32melse\u001b[0m\u001b[1;33m:\u001b[0m\u001b[1;33m\u001b[0m\u001b[0m\n\u001b[0;32m    450\u001b[0m             \u001b[1;32mreturn\u001b[0m \u001b[0m_quadpack\u001b[0m\u001b[1;33m.\u001b[0m\u001b[0m_qagie\u001b[0m\u001b[1;33m(\u001b[0m\u001b[0mfunc\u001b[0m\u001b[1;33m,\u001b[0m\u001b[0mbound\u001b[0m\u001b[1;33m,\u001b[0m\u001b[0minfbounds\u001b[0m\u001b[1;33m,\u001b[0m\u001b[0margs\u001b[0m\u001b[1;33m,\u001b[0m\u001b[0mfull_output\u001b[0m\u001b[1;33m,\u001b[0m\u001b[0mepsabs\u001b[0m\u001b[1;33m,\u001b[0m\u001b[0mepsrel\u001b[0m\u001b[1;33m,\u001b[0m\u001b[0mlimit\u001b[0m\u001b[1;33m)\u001b[0m\u001b[1;33m\u001b[0m\u001b[0m\n",
      "\u001b[1;31mTypeError\u001b[0m: eax() missing 1 required positional argument: 'a'"
     ]
    }
   ],
   "source": [
    "# For most integration problems, the quad() routine will be a good choice.\n",
    "# This is contained in scipy.integrate.\n",
    "import scipy.integrate as integ\n",
    "import numpy as np\n",
    "\n",
    "# Suppose we wish to integrate an exponential, e^(a*x), from 0 to 2.\n",
    "def eax(x, a):\n",
    "    return np.exp(a*x)\n",
    "\n",
    "# Why isn't this working?\n",
    "# What is a good way to fix this?\n",
    "integ.quad(eax, 0, 2)"
   ]
  },
  {
   "cell_type": "code",
   "execution_count": 2,
   "metadata": {},
   "outputs": [
    {
     "name": "stdout",
     "output_type": "stream",
     "text": [
      "Using args: (6.3890560989306495, 7.093277186654589e-14)\n",
      "Using lambda: (6.3890560989306495, 7.093277186654589e-14)\n"
     ]
    }
   ],
   "source": [
    "print(\"Using args:\", integ.quad(eax, 0, 2, args=(1,)))\n",
    "print(\"Using lambda:\", integ.quad(lambda x: eax(x, 1), 0, 2))"
   ]
  },
  {
   "cell_type": "markdown",
   "metadata": {},
   "source": [
    "## 2. Integration uncertainty"
   ]
  },
  {
   "cell_type": "code",
   "execution_count": 3,
   "metadata": {},
   "outputs": [
    {
     "name": "stdout",
     "output_type": "stream",
     "text": [
      "quad returns: (6.3890560989306495, 7.093277186654589e-14)\n",
      "romberg returns: 6.38905609893066\n"
     ]
    }
   ],
   "source": [
    "import scipy.integrate as integ\n",
    "import numpy as np\n",
    "\n",
    "# Again, suppose we wish to integrate an exponential, e^(a*x), from 0 to 2.\n",
    "def eax(x, a):\n",
    "    return np.exp(a*x)\n",
    "# We will specify a = 1 this time.\n",
    "\n",
    "# Quad returns two values: the integral, and an error estimate.\n",
    "print(\"quad returns:\", integ.quad(lambda x: eax(x, 1), 0, 2))\n",
    "\n",
    "# Other methods do not return an error estimate, for example the romberg\n",
    "# integration function. How do you know how accurate this result is?\n",
    "print(\"romberg returns:\", integ.romberg(lambda x: eax(x, 1), 0, 2))"
   ]
  },
  {
   "cell_type": "code",
   "execution_count": 4,
   "metadata": {},
   "outputs": [
    {
     "name": "stdout",
     "output_type": "stream",
     "text": [
      "tol = 1e-1 result: 6.389242345494339\n",
      "tol = 1e-3 result: 6.389056389097693\n",
      "tol = 1e-5 result: 6.389056099045062\n"
     ]
    }
   ],
   "source": [
    "# One way is to vary the tolerance and make sure the answer\n",
    "# doesn't change below the tolerance threshhold. \n",
    "print(\"tol = 1e-1 result:\", integ.romberg(lambda x: eax(x, 1), 0, 2, tol=1.0e-1))\n",
    "print(\"tol = 1e-3 result:\", integ.romberg(lambda x: eax(x, 1), 0, 2, tol=1.0e-3))\n",
    "print(\"tol = 1e-5 result:\", integ.romberg(lambda x: eax(x, 1), 0, 2, tol=1.0e-5))\n",
    "# These answers may be more accurate than the specified tolerance, but this is not guaranteed.\n",
    "# Setting a tolerance is also not always guaranteed to return a result."
   ]
  },
  {
   "cell_type": "code",
   "execution_count": 6,
   "metadata": {},
   "outputs": [
    {
     "name": "stderr",
     "output_type": "stream",
     "text": [
      "C:\\Users\\James\\Anaconda3\\lib\\site-packages\\ipykernel_launcher.py:3: RuntimeWarning: invalid value encountered in double_scalars\n",
      "  This is separate from the ipykernel package so we can avoid doing imports until\n",
      "C:\\Users\\James\\Anaconda3\\lib\\site-packages\\scipy\\integrate\\quadrature.py:752: AccuracyWarning: divmax (10) exceeded. Latest difference = nan\n",
      "  AccuracyWarning)\n",
      "C:\\Users\\James\\Anaconda3\\lib\\site-packages\\scipy\\integrate\\quadpack.py:385: IntegrationWarning: The integral is probably divergent, or slowly convergent.\n",
      "  warnings.warn(msg, IntegrationWarning)\n"
     ]
    },
    {
     "data": {
      "text/plain": [
       "(-21.15467472269453, 28.24657731357536)"
      ]
     },
     "execution_count": 6,
     "metadata": {},
     "output_type": "execute_result"
    }
   ],
   "source": [
    "import scipy.special as sf\n",
    "# For tricky integrals, setting the tolerance might be insufficient.\n",
    "integ.romberg(lambda x: sf.jv(1, x)/x, 0, 1000, tol=1.0e-3)\n",
    "# Even quad can get tripped up sometimes.\n",
    "integ.quad(lambda x: sf.jv(0, x), 0, np.inf)\n",
    "# For cases like this, special integration routines may be needed. Some\n",
    "# applications do, however, handle this sort of thing natively, eg. Mathematica."
   ]
  },
  {
   "cell_type": "markdown",
   "metadata": {},
   "source": [
    "## 3. ODE integration"
   ]
  },
  {
   "cell_type": "code",
   "execution_count": null,
   "metadata": {},
   "outputs": [],
   "source": [
    "import scipy.integrate as integ\n",
    "import numpy as np\n",
    "import matplotlib.pyplot as plt\n",
    "%matplotlib inline\n",
    "\n",
    "# Suppose we wish to integrate f''(x) - a*( 1 - f(x)^2 )*f'(x) + f(x) = 0,\n",
    "# with a = 1. We will need to write this in a first-order form, and define\n",
    "# a function to supply to solve_ivp,\n",
    "def my_eom(t, y, a) :\n",
    "    \"\"\"\n",
    "    y[0] = f\n",
    "    y[1] = g\n",
    "    \"\"\"\n",
    "    dydt = np.zeros_like(y)\n",
    "    \n",
    "    # Your code here...\n",
    "    raise NotImplementedError\n",
    "    \n",
    "    return dydt\n",
    "\n",
    "# We will also need to specify initial conditions.\n",
    "y0 = [2., 0]\n",
    "sol = integ.solve_ivp( lambda t, y: my_eom(t, y, 1), (0, 20), y0 )\n",
    "plt.plot(sol.t, sol.y[0])"
   ]
  },
  {
   "cell_type": "code",
   "execution_count": null,
   "metadata": {},
   "outputs": [],
   "source": [
    "# solution:\n",
    "#     dydt[0] = y[1]\n",
    "#     dydt[1] = a*(1.-y[0]**2)*y[1] - y[0]"
   ]
  },
  {
   "cell_type": "markdown",
   "metadata": {},
   "source": [
    "## 4. Stiff ODEs"
   ]
  },
  {
   "cell_type": "code",
   "execution_count": 8,
   "metadata": {},
   "outputs": [
    {
     "data": {
      "text/plain": [
       "[<matplotlib.lines.Line2D at 0x1c6c73bc0f0>]"
      ]
     },
     "execution_count": 8,
     "metadata": {},
     "output_type": "execute_result"
    },
    {
     "data": {
      "image/png": "[encoded data removed]",
      "text/plain": [
       "<Figure size 432x288 with 1 Axes>"
      ]
     },
     "metadata": {
      "needs_background": "light"
     },
     "output_type": "display_data"
    }
   ],
   "source": [
    "import scipy.integrate as integ\n",
    "import numpy as np\n",
    "import matplotlib.pyplot as plt\n",
    "%matplotlib inline\n",
    "\n",
    "# As above, we wish to integrate f''(x) - a*( 1 - f(x)^2 )*f'(x) + f(x) = 0,\n",
    "# now with a = 500.\n",
    "def my_eom(t, y, a) :\n",
    "    \"\"\" y[0] = f, y[1] = g \"\"\"\n",
    "    dydt = np.zeros_like(y)\n",
    "    dydt[0] = y[1]\n",
    "    dydt[1] = a*(1.-y[0]**2)*y[1] - y[0]\n",
    "    return dydt\n",
    "\n",
    "# We will specify the same initial conditions.\n",
    "y0 = [2., 0]\n",
    "# The below command takes a long time to run.\n",
    "# What is going on? How can we fix this?\n",
    "sol = integ.solve_ivp( lambda t,y: my_eom(t, y, 500), (0, 2000), y0 )\n",
    "plt.plot(sol.t, sol.y[0])"
   ]
  },
  {
   "cell_type": "code",
   "execution_count": null,
   "metadata": {},
   "outputs": [],
   "source": [
    "# Speed this up by adding (e.g.):\n",
    "# method=\"Radau\"\n",
    "# To the solve_ivp call."
   ]
  },
  {
   "cell_type": "markdown",
   "metadata": {},
   "source": [
    "## 5. PDE integration"
   ]
  },
  {
   "cell_type": "markdown",
   "metadata": {},
   "source": [
    "As before, we can write Maxwell's equations in absence of source terms as\n",
    "\n",
    "$$\n",
    "\\begin{align}\n",
    "  \\frac{1}{c^2} \\frac{\\partial^2 \\mathbf{E}}{\\partial t^2} - \\nabla^2 \\mathbf{E} = 0\\,, \\\\\n",
    "  \\frac{1}{c^2} \\frac{\\partial^2 \\mathbf{B}}{\\partial t^2} - \\nabla^2 \\mathbf{B} = 0\\,.\n",
    "\\end{align}\n",
    "$$\n",
    "\n",
    "Consider the following: \n",
    "1. How would you discretize these to solve them as an IVP?\n",
    "2. Consider the code we used to solve the scalar wave equation in the PDE\\_Integration notebook (below). What modifications would we need to make to solve the above equations?\n",
    "3. So far, we have been looking at Eulerian integration. For ODEs, we looked at the midpoint method as well, $$ f(t+\\Delta t) = f(t) + \\Delta t A\\left(t+\\frac{\\Delta t}{2}, f\\left(t+\\frac{\\Delta t}{2}\\right) \\right) \\,. $$ What modifications would we need to make to the code to implement this method?\n",
    "\n",
    "```\n",
    "def wave_step(f, g, dx, dt) :\n",
    "    \"\"\"\n",
    "    Function to compute the solution to the 2-d wave\n",
    "    equation at the next timestep using Euler's method,\n",
    "    centered finite differencing, and Dirichlet\n",
    "    boundary conditions.\n",
    "    \n",
    "    Accepts parameters:\n",
    "    f: 2-d array containing function values\n",
    "    g: 2-d array containing function values, time-derivative of f\n",
    "    dx: spacing between points of f, assuming dx = dy\n",
    "    dt: size of timestep\n",
    "    \"\"\"\n",
    "    f_new = np.zeros_like(f)\n",
    "    g_new = np.zeros_like(g)\n",
    "    \n",
    "    # 2-D Laplacian of f using array slicing, excluding boundaries\n",
    "    # For an N x N array f, f_lap is the N-1 x N-1 array in the \"middle\"\n",
    "    f_lap = (f[2:,1:-1] - 2*f[1:-1,1:-1] + f[:-2,1:-1]) / dx**2\\\n",
    "            + (f[1:-1,2:] - 2*f[1:-1,1:-1] + f[1:-1,:-2]) / dx**2\n",
    "    \n",
    "    # Alternative 2-D Laplacian of f, using a convolution operator.\n",
    "    # ker = np.array([[0, 1, 0], [1, -4, 1], [0, 1, 0]]) / dx**2\n",
    "    # f_lap = sig.convolve(f, ker, mode='valid')\n",
    "    \n",
    "    # Forward-Euler time step for all points except the boundaries\n",
    "    g_new[1:-1,1:-1] = g[1:-1,1:-1] + dt*f_lap\n",
    "    f_new = f + dt*g\n",
    "\n",
    "    # Apply boundary conditions\n",
    "    f_new[:,0] = 0\n",
    "    f_new[:,-1] = 0\n",
    "    f_new[0,:] = 0\n",
    "    f_new[-1,:] = 0\n",
    "    g_new[:,0] = 0\n",
    "    g_new[:,-1] = 0\n",
    "    g_new[0,:] = 0\n",
    "    g_new[-1,:] = 0\n",
    "\n",
    "    return f_new, g_new\n",
    "```"
   ]
  }
 ],
 "metadata": {
  "kernelspec": {
   "display_name": "Python 3",
   "language": "python",
   "name": "python3"
  },
  "language_info": {
   "codemirror_mode": {
    "name": "ipython",
    "version": 3
   },
   "file_extension": ".py",
   "mimetype": "text/x-python",
   "name": "python",
   "nbconvert_exporter": "python",
   "pygments_lexer": "ipython3",
   "version": "3.7.0"
  }
 },
 "nbformat": 4,
 "nbformat_minor": 2
}
