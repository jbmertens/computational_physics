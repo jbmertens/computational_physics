{
 "cells": [
  {
   "cell_type": "markdown",
   "metadata": {
    "id": "8S4hfeMoUbHT"
   },
   "source": [
    "# Randomness and Markov Chains\n",
    "\n",
    "In this notebook, we will study random numbers, and one use: random processes in the form of Markov Chains. "
   ]
  },
  {
   "cell_type": "markdown",
   "metadata": {
    "id": "SFxmDm5DUyZy"
   },
   "source": [
    "The function `randu` was a *linear congruential generator*.  The random sequence is generated as \n",
    "$$ I_{j+1} = (a I_j + c) \\pmod m.$$\n",
    "This is implemented as a Python class below. You should run this cell."
   ]
  },
  {
   "cell_type": "code",
   "execution_count": 7,
   "metadata": {
    "executionInfo": {
     "elapsed": 220,
     "status": "ok",
     "timestamp": 1618805903278,
     "user": {
      "displayName": "James Mertens",
      "photoUrl": "",
      "userId": "17826959471466727036"
     },
     "user_tz": 300
    },
    "id": "Zmkiir05UT7x"
   },
   "outputs": [],
   "source": [
    "class badrand (object) :\n",
    "    \"\"\"An implementation of a BAD random number generator.  This is based on\n",
    "    randu() which appeared in the IBM library.  It should NEVER be used and\n",
    "    will warn you to not use it!\"\"\"\n",
    "\n",
    "    def __init__ (self, seed) :\n",
    "        \"\"\"Initialize the random number generator.  You MUST provide a seed.\n",
    "        This will warn you about using a bad random number generator.\"\"\"\n",
    "        self.seed = seed\n",
    "        self.m = 2**31\n",
    "        self.minv = 1.0/self.m\n",
    "        self.a = 65539\n",
    "        self.c = 0\n",
    "        print(\"Congratulations, you just initialized a BAD random number generator.\\n\"\n",
    "              +\"You are now ready to NOT generate good random numbers.\")\n",
    "\n",
    "    def ran (self, N) :\n",
    "        \"\"\"Generate N random numbers in the interval [0,1).  This will warn\n",
    "        you that you have bad random numbers.\"\"\"\n",
    "        res = np.zeros(N)\n",
    "        for j in range(N) :\n",
    "            self.seed = (self.a*self.seed+self.c)%self.m\n",
    "            res[j] = self.seed * self.minv\n",
    "        print(\"Bad random numbers generated. \"\n",
    "              +\"You are not using these for anything serious, right?\")\n",
    "        return res"
   ]
  },
  {
   "cell_type": "markdown",
   "metadata": {
    "id": "h7PiKSHGU3_Q"
   },
   "source": [
    "To generate $N$ random numbers, you should use code similar to what follows. The name randu is arbitrary.  The seed must be a positive integer.  \n",
    "```\n",
    "randu = badrand(seed)\n",
    "# To get N random numbers we then use\n",
    "br = randu.ran(N)\n",
    "```\n",
    "\n",
    "For our analysis we will use $N=300000$. Generate $N$ random numbers from a good random number generator, `np.random.rand` for example, and $N$ from the bad random number generator.  To see that `badrand` is not trivially bad, create a histogram of values generated for both sets of random numbers. (Note: When using `matplotlib.pyplot.hist` you should probably plot the histograms as steps, not bars; see the `histtype='step'` option.  Also, the histograms may not appear to be flat when you make them.  If so, check the range of values on the y-axis, ....)"
   ]
  },
  {
   "cell_type": "code",
   "execution_count": 8,
   "metadata": {
    "executionInfo": {
     "elapsed": 232,
     "status": "ok",
     "timestamp": 1618805905212,
     "user": {
      "displayName": "James Mertens",
      "photoUrl": "",
      "userId": "17826959471466727036"
     },
     "user_tz": 300
    },
    "id": "A0epsG1sU3r_"
   },
   "outputs": [],
   "source": [
    "import numpy as np\n",
    "import matplotlib.pyplot as plt\n",
    "\n",
    "## Your code here..."
   ]
  },
  {
   "cell_type": "markdown",
   "metadata": {
    "id": "H7QMqLq3VlRj"
   },
   "source": [
    "The behavior looks perfectly sensible, so why not use this random number generator?  Let us jump to the problem: the random numbers are correlated. One easy way to see this is to perform a calculation using every 3rd random number generated. Recall that you can select every 3th element in array by specifying a step: calling `br[0::3]` will access every 3rd element beginning with the 0th one. Define $x$ to contain every third element starting with the 0th one, $y$ starting with the 1st one, and $z$ starting with the 2nd. Finally define $i = 9x-6y+z$.\n",
    "\n",
    "Calculate $i$ for both the good and bad random numbers.  Produce a nice figure showing $i$ versus $x$ for both sets of random numbers.  Using the period marker, ‘.’, for these plots is recommended.  Plot the good random numbers first.  You should find a band that is sampled fairly evenly.  Next plot the bad random numbers."
   ]
  },
  {
   "cell_type": "code",
   "execution_count": 9,
   "metadata": {
    "executionInfo": {
     "elapsed": 152,
     "status": "ok",
     "timestamp": 1618805906333,
     "user": {
      "displayName": "James Mertens",
      "photoUrl": "",
      "userId": "17826959471466727036"
     },
     "user_tz": 300
    },
    "id": "6JKjTGh9Ux-Y"
   },
   "outputs": [],
   "source": [
    "## Your code here..."
   ]
  },
  {
   "cell_type": "markdown",
   "metadata": {
    "id": "5_PhqEd3s3ny"
   },
   "source": [
    "## Probability Density Transformations\n",
    "\n",
    "Another useful concept involves being able to draw random numbers from complicated probability distributions. Generally, transforming one probability distribution to another is a type of [integral transformation](https://en.wikipedia.org/wiki/Probability_integral_transform). This type of transformation can appear in a number of settings, ranging from statistical analyses, to improving integration efficiency in Monte Carlo integration methods.\n",
    "\n",
    "### A simple example\n",
    "\n",
    "Here we will examine a simple transformation between a uniform and linear probability distribution. The uniform probability distribution on the interval $[0,1)$ is given by\n",
    "\n",
    "$$\n",
    "p_{\\rm uni}(x) = \\begin{cases}\n",
    "1 & 0 \\le x < 1  \\\\\n",
    "0 & {\\rm otherwise}\n",
    "\\end{cases}\n",
    "$$\n",
    "\n",
    "while the linear distribution is given by\n",
    "\n",
    "$$\n",
    "p_{\\rm lin}(y) = \\begin{cases}\n",
    "y & 0 \\le y < \\sqrt{2}\\\\\n",
    "0 & {\\rm otherwise}\n",
    "\\end{cases}\\,.\n",
    "$$\n",
    "\n",
    "The coordinate transform required to transform between these distributions is also simple, $ y = \\sqrt{2x}$. Below, generate $300000$ random numbers on the interval $[0, 1)$ using `np.random.rand`. Produce a histogram as above. This time, because we are interested in evaluating this as a probability distribution, you should make sure to supply the `density='true'` option to `hist` in order to correctly normalize the distribution. Last, apply the coordinate transformation, and plot the distribution function of the transformed numbers."
   ]
  },
  {
   "cell_type": "code",
   "execution_count": null,
   "metadata": {
    "id": "sg6pQim5s626"
   },
   "outputs": [],
   "source": []
  },
  {
   "cell_type": "markdown",
   "metadata": {
    "id": "kwoe2gHRx5PB"
   },
   "source": [
    "## Markov Chains\n",
    "\n",
    "As a simple model of spring weather in St. Louis, let us consider a 3-state system with the states representing a \"sunny\" day, a \"rainy\" day, and a \"cloudy\" day. A more realistic model may include knowledge of weather at other locations, temperatures humidity; or a full-blown climate simulation. However for a simple example we will ignore the details. Let the probabilities of transitioning from one type of weather to another be given as in the following diagram:\n",
    "\n",
    "![Weather States](https://sites.wustl.edu/mertens/files/2021/04/weather_states.png)\n",
    "\n",
    "Recall the transition matrix is given by $P$,\n",
    "\n",
    "$$\n",
    "\\begin{pmatrix}\n",
    "q_{1}^{f}\\\\\n",
    "q_{2}^{f}\\\\\n",
    "q_{3}^{f}\n",
    "\\end{pmatrix}\n",
    "=\n",
    "\\begin{pmatrix}\n",
    "P_{1\\rightarrow1} & P_{2\\rightarrow1} & P_{3\\rightarrow1}\\\\\n",
    "P_{1\\rightarrow2} & P_{2\\rightarrow2} & P_{3\\rightarrow2}\\\\\n",
    "P_{1\\rightarrow3} & P_{2\\rightarrow3} & P_{3\\rightarrow3}\n",
    "\\end{pmatrix} \n",
    "\\begin{pmatrix}\n",
    "q_{1}\\\\\n",
    "q_{2}\\\\\n",
    "q_{3}\n",
    "\\end{pmatrix}.\n",
    "$$\n",
    "\n",
    "Write the transition matrix $\\mathsf{P}$ that describes this diagram for the state vector\n",
    "$$\\vec{q} = \\begin{pmatrix} q_☼ \\\\ q_☂ \\\\ q_☁ \\end{pmatrix}.$$\n",
    "Verify that the columns of this matrix add up to one."
   ]
  },
  {
   "cell_type": "code",
   "execution_count": null,
   "metadata": {
    "id": "XL9_lYgHx635"
   },
   "outputs": [],
   "source": []
  },
  {
   "cell_type": "markdown",
   "metadata": {
    "id": "MPg_5UB5ySdh"
   },
   "source": [
    "We can use our simple model to forecast the weather.  Given an initial state representing the weather today we can predict the probabilities of it being sunny, rainy, or cloudy after 1 day, 2 days, or 1 week.  To begin pick an initial state vector representing the weather today\n",
    "$$ \\vec{q}^i = \\left( \\begin{array}{c} q_☼ \\\\ q_☂ \\\\ q_☁ \\end{array} \\right). $$\n",
    "You can pick one that is somewhat representative of the weather right now.\n",
    "\n",
    "In order to calculate the weather after one, two, and seven days you will need to calculate $\\mathsf{P} \\vec{q}^i$, $\\mathsf{P}^2 \\vec{q}^i$, and $\\mathsf{P}^7 \\vec{q}^i$. There are multiple ways to raise a matrix to a power. One way is to use the eigenvalue decomposition. As an alternative, NumPy provides a function for doing this: `np.linalg.matrix_power`.  Either of these methods is generally better than repeatedly multiplying the matrix with itself, although in our case that may the be most simple.\n",
    "\n",
    "Print the probabilities for the state of the weather after 1, 2, and 7 days.  Note that after 7 days the result should look very much like the stationary state we found above.  For fun you may want to compare your predictions to those from a professional weather service and/or keep track of you predictions and see how they turn out."
   ]
  },
  {
   "cell_type": "code",
   "execution_count": null,
   "metadata": {
    "id": "w03RHQ88yUOZ"
   },
   "outputs": [],
   "source": []
  }
 ],
 "metadata": {
  "colab": {
   "authorship_tag": "ABX9TyMExuHMSEYQTPqaJTARKdSi",
   "collapsed_sections": [],
   "name": "randomness.ipynb",
   "provenance": []
  },
  "kernelspec": {
   "display_name": "Python 3",
   "language": "python",
   "name": "python3"
  },
  "language_info": {
   "codemirror_mode": {
    "name": "ipython",
    "version": 3
   },
   "file_extension": ".py",
   "mimetype": "text/x-python",
   "name": "python",
   "nbconvert_exporter": "python",
   "pygments_lexer": "ipython3",
   "version": "3.7.0"
  }
 },
 "nbformat": 4,
 "nbformat_minor": 1
}
