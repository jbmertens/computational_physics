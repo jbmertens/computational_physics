{
 "cells": [
  {
   "cell_type": "markdown",
   "metadata": {},
   "source": [
    "# Midterm #2\n",
    "\n",
    "**Read the following.** It contains important information about this exam.\n",
    " - You must submit your solutions to Canvas **by 4:00 pm!** Please plan accordingly. This gives you approximately 1.5 hours for this exam.\n",
    " - There is both a written and computational part to this exam. You will need to download both from Canvas, and submit solutions for both to Canvas.\n",
    " - You are allowed to use any reference materials you like for this exam, except each other.\n",
    " - You should make an effort to answer all questions on this exam. Clearly identify your final answers, and clearly explain your solutions. This will be graded according to the syllabus rubric, so effort will be heavily weighted.\n",
    "\n",
    "\n",
    "## Initialization\n",
    "\n",
    "Collect all your initialization here."
   ]
  },
  {
   "cell_type": "code",
   "execution_count": null,
   "metadata": {},
   "outputs": [],
   "source": [
    "# YOUR CODE HERE\n",
    "raise NotImplementedError()"
   ]
  },
  {
   "cell_type": "markdown",
   "metadata": {},
   "source": [
    "## Potential of a Line Charge\n",
    "\n",
    "In introductory physics we learn that the electric potential a distance $z$ above a line of charge with linear charge density $\\lambda(x)$ is given by\n",
    "\n",
    "$$ \\Phi (z) = \\frac{1}{4\\pi\\epsilon_0} \\int_{-\\infty}^{\\infty} \\mathrm{d}x \\frac{\\lambda(x)}{\\sqrt{x^2+z^2}}. $$\n",
    "\n",
    "In this problem we will consider a linear charge density\n",
    "\n",
    "$$ \\lambda(x) = \\frac{q}{a} \\mathrm{e}^{-x^2/a^2} , $$\n",
    "\n",
    "where we choose $q/(4\\pi\\epsilon_0) = 1\\mathrm{V\\cdot m}$ and $a = 1.89\\,\\mathrm{m}$.\n",
    "\n",
    "Produce a figure of $\\Phi(z)$ for $z\\in[0.1,5]\\,\\mathrm{m}$."
   ]
  },
  {
   "cell_type": "code",
   "execution_count": null,
   "metadata": {},
   "outputs": [],
   "source": [
    "# YOUR CODE HERE\n",
    "raise NotImplementedError()"
   ]
  },
  {
   "cell_type": "markdown",
   "metadata": {},
   "source": [
    "It turns out that this integral can be performed analytically, the result being\n",
    "\n",
    "$$ \\Phi(z) = \\left( \\frac{q}{4\\pi\\epsilon_0 a} \\right) \\mathrm{e}^{y^2} K_0(y^2), $$\n",
    "\n",
    "where $y\\equiv z/(\\sqrt{2}a)$ and $K_0(x)$ is yet another special function known as the zeroth order modified Bessel of the second kind. Not surprisingly, this function is defined in scipy.special with an obvious name.\n",
    "\n",
    "Calculate and plot the fractional error in the integral you calculated above."
   ]
  },
  {
   "cell_type": "code",
   "execution_count": null,
   "metadata": {},
   "outputs": [],
   "source": [
    "# YOUR CODE HERE\n",
    "raise NotImplementedError()"
   ]
  },
  {
   "cell_type": "markdown",
   "metadata": {},
   "source": [
    "## Lane-Emden Equation\n",
    "\n",
    "**Note:** you should complete the written problem 1 before working on this problem.\n",
    "\n",
    "The Lane-Emden equation describes a self-gravitating, spherically symmetric, polytropic fluid.  It is often used as a (rather) simple model of a star.  A polytropic fluid is one that satisfies the polytropic equation of state, $P \\propto \\rho^{1+1/n}$, where $P$ is the pressure, $\\rho$ is the density, and $n$ is called the polytropic index.  Written in dimensionless form the Lane-Emden equation becomes the second order differential equation:\n",
    "\n",
    "$$ \\frac1{\\xi^2} \\frac{\\mathrm{d}}{\\mathrm{d}\\xi} \\left( \\xi^2 \\frac{\\mathrm{d}}{\\mathrm{d}\\xi} \\theta(\\xi) \\right) + \\theta(\\xi)^n = 0. $$\n",
    "\n",
    "Here $\\xi$ is a dimensionless radius and the function $\\theta(\\xi)$ is related to the density (and so is also related to the pressure) in the fluid.  You can see <a href=\"http://en.wikipedia.org/wiki/Lane%E2%80%93Emden_equation\">Wikipedia</a> for a brief discussion and derivation.  For our purposes, this is just a differential equation we can solve numerically.\n",
    "\n",
    "Solve the Lane-Emden equation for $n=0$ and $n=2$ using `solv_ivp` and the initial conditions $\\theta(0)=1$ and $\\frac{\\mathrm{d}\\theta}{\\mathrm{d}\\xi}(0)=0$.\n",
    "Note that this system of equations has a coordinate singularity at $\\xi =0$. There are several ways we can work around this. Here, we can just begin integrating at a small, non-zero value of $\\xi$, e.g. $\\xi = 10^{-8}$.\n",
    "Integrate to a large enough $\\xi$ so that $\\theta$ becomes negative.\n",
    "\n",
    "*Hint: For the $n=0$ polytrope, solve_ivp may take a very large step, and the resulting solution will not be sampled well enough to produce a nice figure. To improve this, you can specify a maximum step size, e.g. specify `max_step = 0.01` when using `solve_ivp`.*"
   ]
  },
  {
   "cell_type": "code",
   "execution_count": null,
   "metadata": {},
   "outputs": [],
   "source": [
    "# YOUR CODE HERE\n",
    "raise NotImplementedError()"
   ]
  },
  {
   "cell_type": "markdown",
   "metadata": {},
   "source": [
    "**Note:** you should complete the written problem 1 before working on this problem.\n",
    "\n",
    "In problem 1 of the written portion, you should have determined an analytic solution for the $n=0$ polytrope. Plot the fractional error in the numerical solution obtained from `solve_ivp`."
   ]
  },
  {
   "cell_type": "code",
   "execution_count": null,
   "metadata": {},
   "outputs": [],
   "source": [
    "# YOUR CODE HERE\n",
    "raise NotImplementedError()"
   ]
  },
  {
   "cell_type": "markdown",
   "metadata": {},
   "source": [
    "## Turn in the Exam\n",
    "\n",
    "Turn in the exam on Canvas following the procedure used for the labs and homework."
   ]
  }
 ],
 "metadata": {
  "kernelspec": {
   "display_name": "Python 3",
   "language": "python",
   "name": "python3"
  },
  "language_info": {
   "codemirror_mode": {
    "name": "ipython",
    "version": 3
   },
   "file_extension": ".py",
   "mimetype": "text/x-python",
   "name": "python",
   "nbconvert_exporter": "python",
   "pygments_lexer": "ipython3",
   "version": "3.7.0"
  }
 },
 "nbformat": 4,
 "nbformat_minor": 2
}
