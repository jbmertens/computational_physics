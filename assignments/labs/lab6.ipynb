{
 "cells": [
  {
   "cell_type": "markdown",
   "metadata": {},
   "source": [
    "# Fluid Dynamics\n",
    "\n",
    "Here we will look at an example of a system that appears in models of fluid dynamics. This system provides us with an example of why it can be so hard to develop general software to obtain solutions to partial differential equations: different systems can exhibit drastically different behavior and numerical stability properties.\n",
    "\n",
    "We will explore the so-called Burgers' equation, which models viscous fluid flow. The Burgers' equation is a simplified one-dimensional form of the incompressible Navier-Stokes equations, which are useful for describing fluids in one-dimensional systems. This can be used as a toy model for fluid flow through pipes, or even a simple model of traffic flow. The Navier-Stokes equations are, in turn, closely related to equations describing other systems you may have encountered, including the Boltzmann equations describing conservation of a phase-space distribution, and the geodesic equation in gravitational systems.\n",
    "\n",
    "Burgers' equation can be written\n",
    "\n",
    "$$\n",
    "\\frac{\\partial v}{dt} = - v \\frac{\\partial v}{dx} + \\lambda \\frac{\\partial^2 v}{dx^2}\n",
    "$$\n",
    "\n",
    "where the function $v(x,t)$ describes the fluid velocity at a given location. Here we will work to solve this equation in a manner similar to the homework and in class.\n",
    "\n",
    "Examining this equation, it looks like a combination of the advection and diffusion equations. It behaves accordingly! The second-derivative term describes viscous interactions in the fluid, with $\\lambda$ the coefficient of viscosity. The first-derivative term serves to transport the system similar to the advection equation, however the advection speed is now given by the fluid velocity itself, $v$, instead of a constant."
   ]
  },
  {
   "cell_type": "markdown",
   "metadata": {},
   "source": [
    "## Initialization\n",
    "\n",
    "As always, include any initialization below."
   ]
  },
  {
   "cell_type": "code",
   "execution_count": null,
   "metadata": {},
   "outputs": [],
   "source": [
    "import numpy as np\n",
    "import matplotlib.pyplot as plt\n",
    "%matplotlib inline\n",
    "import matplotlib as mpl\n",
    "mpl.rc('xtick', direction='in', top=True)\n",
    "mpl.rc('ytick', direction='in', right=True)\n",
    "mpl.rc('xtick.minor', visible=True)\n",
    "mpl.rc('ytick.minor', visible=True)"
   ]
  },
  {
   "cell_type": "markdown",
   "metadata": {},
   "source": [
    "Below is a function template. This function (incorrectly) returns a solution to the advection equation. You will need to correct this to take a timestep in solving Burgers' equation.\n",
    "\n",
    "Similar to the homework and in class, we will require initial conditions. We will use a sum of two Gaussians, one positive (right-moving) and one negative (left-moving). While the advection equation moves the entire waveform uniformly in one direction, you should find that Burgers' equation shifts the curve depending on its height and sign.\n",
    "\n",
    "Will use Neumann boundary conditions, setting the derivative to zero, effectively allowing some of the fluid to flow outside of the computational domain. In order to implement these, the derivative of the velocity field will need to be zero at the boundaries. This is implemented below by setting the boundaries to be equivalent to adjacent points.\n",
    "\n",
    "Modify the function below to solve Burgers' equation. You should use forward differencing (already implemented) and the second-order expression for a centered second derivative encountered in the homework. You should leave the initial conditions and plotting code alone for now. The coefficient of viscosity has been set to $\\lambda = 1.0$."
   ]
  },
  {
   "cell_type": "code",
   "execution_count": null,
   "metadata": {},
   "outputs": [],
   "source": [
    "def burgers_step(v, lam, dx, dt) :\n",
    "    \"\"\"\n",
    "    Function to compute the solution to Burgers' equation\n",
    "    with Neumann boundary conditions.\n",
    "    \n",
    "    Accepts parameters:\n",
    "    v: 1-d array containing velocity function values\n",
    "    lam: coefficient of viscosity\n",
    "    dx: spacing between points of v\n",
    "    dt: size of timestep\n",
    "    \"\"\"\n",
    "    v_new = np.zeros_like(v)\n",
    "    \n",
    "    # Forward differencing derivative\n",
    "    v_deriv = ( v[2:] - v[1:-1] ) / dx\n",
    "    \n",
    "    # Forward-Euler time step for all points except the boundaries\n",
    "    # This returns a solution to the advection equation - you should modify this!\n",
    "    v_new[1:-1] = v[1:-1] + dt*v_deriv\n",
    "    \n",
    "    # Apply Neumann boundary conditions (zero derivative)\n",
    "    v_new[0] = v_new[1]\n",
    "    v_new[-1] = v_new[-2]\n",
    "    \n",
    "    return v_new\n",
    "\n",
    "# Grid of x-points\n",
    "Nx = 201\n",
    "xs = np.linspace(-100, 100, Nx)\n",
    "dx = xs[1] - xs[0]\n",
    "dt = dx/10.\n",
    "t_final = 20\n",
    "n_steps = int(t_final/dt)\n",
    "lam = 1.0\n",
    "v_ini = np.exp(-(xs-30)**2/15**2) - np.exp(-(xs+30)**2/15**2)\n",
    "v = v_ini\n",
    "for n in range(n_steps) :\n",
    "    v = burgers_step(v, lam, dx, dt)\n",
    "    \n",
    "plt.plot(xs, v_ini, 'k:', label=\"Initial conditions\")\n",
    "plt.plot(xs, v, 'r-', label=\"Solution\")\n",
    "plt.xlabel(\"Position, x\")\n",
    "plt.ylabel(\"Velocity, v\")\n",
    "plt.legend()"
   ]
  },
  {
   "cell_type": "markdown",
   "metadata": {},
   "source": [
    "## Exploring numerical convergence\n",
    "\n",
    "While the advection equation transported the entire profile in one direction, you should see that the profile has been moved according to the sign and magnitude of the velocity for Burgers' equation. Due to the diffusion term, the solution has also decreased in amplitude and spread out slightly.\n",
    "\n",
    "We would now like to explore how \"well-converged\" our solution is. Below, vary the number of x-points, `Nx`. Above, this is set to `Nx = 201` and provided to the `linspace` command, giving $\\Delta x = 1$. Double this to `Nx = 401` so $\\Delta x = 0.5$, and half to `Nx = 101` so $\\Delta x = 2$. Plot all of these curves simultaneously. As the resolution increases, the solution should appear to be \"converging\". Note that, because $\\Delta t$ is written in terms of $\\Delta x$, the timestep resolution is also increased when we do this, so we are testing increases in both the spatial and timestep resolutions. *Note: You may notice something odd happens at the lowest resolution; we will explore this more below.*"
   ]
  },
  {
   "cell_type": "code",
   "execution_count": null,
   "metadata": {},
   "outputs": [],
   "source": [
    "# YOUR CODE HERE\n",
    "raise NotImplementedError()"
   ]
  },
  {
   "cell_type": "markdown",
   "metadata": {},
   "source": [
    "## Stability in the presence of a shock\n",
    "\n",
    "We would also like to know if our solution is stable as we vary $\\lambda$. Keeping the original resolution Produce a plot with solutions for three different values, $\\lambda \\in \\{1, 0.5, 0\\}$. You may choose any resolution you like. For the $\\lambda = 0$ case, you should find that the solution fails, regardless of resolution! (In fact, lower resolutions may work better!)"
   ]
  },
  {
   "cell_type": "code",
   "execution_count": null,
   "metadata": {},
   "outputs": [],
   "source": [
    "# YOUR CODE HERE\n",
    "raise NotImplementedError()"
   ]
  },
  {
   "cell_type": "markdown",
   "metadata": {},
   "source": [
    "What is going on? You should have noticed something unfortunate - the integration method breaks down when $\\lambda = 0$.\n",
    "The reason for the instability in the solution of Burgers' equation is related to the stability discussed in class, however there is a physical complication here: we are encountering a \"shock\", a discontinuity in the solution across which we may have trouble computing derivatives.\n",
    "\n",
    "How can we remedy this? In class, we saw that different finite difference methods could result in stable behavior, or not. You may notice, if you vary the resolution above, the solution breaks down only on the right side. So perhaps this instability is related to our choice of finite-differencing method: we used forward differencing, which is asymmetric. As a first attempt to remecy this, we can try to obtain a solution using a centered finite-differencing scheme.\n",
    "\n",
    "Below, modify the `burgers_step` function to compute a derivative using centered finite differencing. Again show how the solution behaves as you vary the resolution, letting `Nx` be 101, 201, and 401, with $\\lambda = 0$."
   ]
  },
  {
   "cell_type": "code",
   "execution_count": null,
   "metadata": {},
   "outputs": [],
   "source": [
    "# YOUR CODE HERE\n",
    "raise NotImplementedError()"
   ]
  },
  {
   "cell_type": "markdown",
   "metadata": {},
   "source": [
    "You should find that you can obtain a solution, but there is still some odd behavior! There should be small oscillations of the function with a period close to $\\Delta x$. These oscillations are a type of [Gibbs phenomenon](https://en.wikipedia.org/wiki/Gibbs_phenomenon), and often appear in a computational setting where a discontinuity or sharp feature is present. There are a number of remedies when it comes to solving PDEs, but they are often based on two ideas: taking forward or backward finite differences depending on the sign of the velocity, or adding a small amount of \"artificial\" viscosity proportional to $\\Delta x$, which damps the oscillations, but also vanishes as the resolution is changed.\n",
    "\n",
    "### \"Upwind\" derivatives\n",
    "\n",
    "Below, modify the `burgers_step` function in the following manner: compute finite differences using a forward-differencing method when the velocity is negative, and backward-differencing when the velocity is negative. That is,\n",
    "\n",
    "$$\n",
    "\\partial_x v = \\begin{cases} \n",
    "      \\frac{v(x+\\Delta x) - v(x)}{\\Delta x} & v \\leq 0 \\\\\n",
    "      \\frac{v(x) - v(x - \\Delta x)}{\\Delta x} & v > 0 \n",
    "\\end{cases}\n",
    "$$\n",
    "\n",
    "This is known as an \"upwind\" derivative. You should consider how to implement the above using array slicing. As before, plot the solution for several resolutions, and with $\\lambda = 0$."
   ]
  },
  {
   "cell_type": "code",
   "execution_count": null,
   "metadata": {},
   "outputs": [],
   "source": [
    "# YOUR CODE HERE\n",
    "raise NotImplementedError()"
   ]
  },
  {
   "cell_type": "markdown",
   "metadata": {},
   "source": [
    "You should find that the above method is more stable. However, recall that forward and backward finite difference methods are only accurate to $\\mathcal{O}(\\Delta x)$, while centered differencing is $\\mathcal{O}(\\Delta x^2)$. While we could explore higher-order versions of forward and backward differencing, there is a different method which allows us to use centered finite differencing, discussed below.\n",
    "\n",
    "------------------------------\n",
    "\n",
    "\n",
    "### Optional Exercise: Artificial viscosity\n",
    "\n",
    "You are not required to complete the remainder of this lab, however you are encouraged to read through the remaining text, and complete the problem if you have finished everything else before the end of class.\n",
    "\n",
    "Another general method for improving the stability of methods to solve PDEs is to introduce a small amount of diffusion, or viscosity, at the level of numerical error. This added diffusion can help to dissipate Gibbs oscillations. The error in the center-differencing scheme is second-order, so we will introduce a diffusion term at this level in order to help ensure dissipation of numerical error. This amounts to adding a term to the right-hand side of differential equation,\n",
    "\n",
    "$$\n",
    "\\Delta x^2 \\partial_x^2 v\\,.\n",
    "$$\n",
    "\n",
    "In other words, we would like to add a factor of $\\Delta x^2$ to $\\lambda$ in our routine. As we increase the resolution, or decrease $\\Delta x$, this term should vanish, and we should be left with the \"true\", continuum-limit solution. Implement this correction below, and once again plot your solution for several choices of resolution."
   ]
  },
  {
   "cell_type": "code",
   "execution_count": null,
   "metadata": {},
   "outputs": [],
   "source": [
    "# YOUR CODE HERE\n",
    "raise NotImplementedError()"
   ]
  },
  {
   "cell_type": "markdown",
   "metadata": {},
   "source": [
    "More advanced methods for handling shocks are often variants on these ideas. One final idea we will not explore is to monitor the flux through the boundary of each gridpoint, as determined by the fluid velocity. Instead of using a finite differencing method, we can write a scheme that monitors, and conserves, the flux across boundaries; this is known as a [shock-capturing method](https://en.wikipedia.org/wiki/Shock-capturing_method).\n",
    "\n",
    "## Member Participation\n",
    "\n",
    "See Lab 1 for instructions on turning in labs. In the following cell enter the names for each student in the group who partcipated in this lab."
   ]
  },
  {
   "cell_type": "markdown",
   "metadata": {},
   "source": []
  }
 ],
 "metadata": {
  "kernelspec": {
   "display_name": "Python 3",
   "language": "python",
   "name": "python3"
  },
  "language_info": {
   "codemirror_mode": {
    "name": "ipython",
    "version": 3
   },
   "file_extension": ".py",
   "mimetype": "text/x-python",
   "name": "python",
   "nbconvert_exporter": "python",
   "pygments_lexer": "ipython3",
   "version": "3.7.0"
  }
 },
 "nbformat": 4,
 "nbformat_minor": 2
}
