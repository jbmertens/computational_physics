{
 "cells": [
  {
   "cell_type": "markdown",
   "metadata": {},
   "source": [
    "# Midterm #1\n",
    "\n",
    "**Read the following.** It contains important information about this exam.\n",
    " - You must submit your solutions to Canvas **by 4:00 pm!** Please plan accordingly. This gives you approximately 1.5 hours for this exam.\n",
    " - There is both a written and computational part to this exam. You will need to download both from Canvas, and submit solutions for both to Canvas.\n",
    " - You are allowed to use any reference materials you like for this exam, except each other.\n",
    " - You should make an effort to answer all questions on this exam. Clearly identify your final answers, and clearly explain your solutions. This will be graded according to the syllabus rubric, so effort will be heavily weighted.\n",
    "\n",
    "\n",
    "## Initialization\n",
    "\n",
    "Collect all your initialization here. Make sure all figures are inlined by using %matplotlib inline."
   ]
  },
  {
   "cell_type": "code",
   "execution_count": 1,
   "metadata": {},
   "outputs": [],
   "source": [
    "### BEGIN SOLUTION\n",
    "import numpy as np\n",
    "import matplotlib.pyplot as plt\n",
    "%matplotlib inline\n",
    "import scipy.integrate as integ\n",
    "import scipy.optimize as opt\n",
    "import scipy.interpolate as interp\n",
    "import scipy.linalg as la\n",
    "# Globally fix plot styling\n",
    "import matplotlib as mpl\n",
    "mpl.rc('xtick', direction='in', top=True)\n",
    "mpl.rc('ytick', direction='in', right=True)\n",
    "mpl.rc('xtick.minor', visible=True)\n",
    "mpl.rc('ytick.minor', visible=True)\n",
    "### END SOLUTION"
   ]
  },
  {
   "cell_type": "markdown",
   "metadata": {},
   "source": [
    "## 1. Debugging\n",
    "\n",
    "Whenever we perform numerical calculations there are many things that can go wrong. Sometimes they are obvious: the computer complains, and sometimes they are not: the computer gives us an answer but it is incorrect! Here we will explore two examples.\n",
    "\n",
    "### (a)\n",
    "\n",
    "As a first example, analytically we know for $\\theta=60^\\circ$ that $\\cos\\theta=1/2$. Thus it should be the case that when $\\theta=60^\\circ$ we should get\n",
    "\n",
    "$$ \\sqrt{1-2\\cos\\theta} = 0. $$\n",
    "\n",
    "Numerically if we evaluate this simple expression we are in for a surprise!\n",
    "Run the following cell."
   ]
  },
  {
   "cell_type": "code",
   "execution_count": 2,
   "metadata": {},
   "outputs": [
    {
     "name": "stdout",
     "output_type": "stream",
     "text": [
      "nan\n"
     ]
    },
    {
     "name": "stderr",
     "output_type": "stream",
     "text": [
      "C:\\Users\\James\\Anaconda3\\lib\\site-packages\\ipykernel_launcher.py:3: RuntimeWarning: invalid value encountered in sqrt\n",
      "  This is separate from the ipykernel package so we can avoid doing imports until\n"
     ]
    }
   ],
   "source": [
    "import numpy as np\n",
    "\n",
    "print(np.sqrt(1-2*np.cos(np.deg2rad(60))))"
   ]
  },
  {
   "cell_type": "markdown",
   "metadata": {},
   "source": [
    "What should have happened is that you get an error and nan is printed. (If this did not happen, then assume it did! This result should not be system dependent, but you never know.)\n",
    "\n",
    "Clearly explain why this happened and why we always need to be careful of situations like this then when solving problems numerically."
   ]
  },
  {
   "cell_type": "markdown",
   "metadata": {},
   "source": [
    "```### Your answer here```"
   ]
  },
  {
   "cell_type": "markdown",
   "metadata": {},
   "source": [
    "### (b)\n",
    "\n",
    "When we first discussed root finding we started with an example of finding a square root. Here is one way to proceed. First we import the appropriate module from scipy, give it a short name, and define a function we can use for finding square roots of any number, x0."
   ]
  },
  {
   "cell_type": "code",
   "execution_count": 3,
   "metadata": {},
   "outputs": [],
   "source": [
    "import scipy.optimize as opt\n",
    "\n",
    "def square_root(x, x0) :\n",
    "    return x*x - x0"
   ]
  },
  {
   "cell_type": "markdown",
   "metadata": {},
   "source": [
    "Now suppose we try to use this to find $\\sqrt{5}$. We might try something like the following."
   ]
  },
  {
   "cell_type": "code",
   "execution_count": 4,
   "metadata": {},
   "outputs": [
    {
     "ename": "TypeError",
     "evalue": "'float' object is not callable",
     "output_type": "error",
     "traceback": [
      "\u001b[1;31m---------------------------------------------------------------------------\u001b[0m",
      "\u001b[1;31mTypeError\u001b[0m                                 Traceback (most recent call last)",
      "\u001b[1;32m<ipython-input-4-1522a3e4795c>\u001b[0m in \u001b[0;36m<module>\u001b[1;34m()\u001b[0m\n\u001b[0;32m      1\u001b[0m \u001b[1;31m# Initial guess for x, we know the root is between 2 and 3.\u001b[0m\u001b[1;33m\u001b[0m\u001b[1;33m\u001b[0m\u001b[0m\n\u001b[0;32m      2\u001b[0m \u001b[0mx\u001b[0m \u001b[1;33m=\u001b[0m \u001b[1;36m2.5\u001b[0m\u001b[1;33m\u001b[0m\u001b[0m\n\u001b[1;32m----> 3\u001b[1;33m \u001b[0mprint\u001b[0m\u001b[1;33m(\u001b[0m\u001b[1;34m\"Square root of 5 is\"\u001b[0m\u001b[1;33m,\u001b[0m \u001b[0mopt\u001b[0m\u001b[1;33m.\u001b[0m\u001b[0mbrentq\u001b[0m\u001b[1;33m(\u001b[0m\u001b[0msquare_root\u001b[0m\u001b[1;33m(\u001b[0m\u001b[0mx\u001b[0m\u001b[1;33m,\u001b[0m \u001b[1;36m5\u001b[0m\u001b[1;33m)\u001b[0m\u001b[1;33m,\u001b[0m \u001b[1;36m2\u001b[0m\u001b[1;33m,\u001b[0m \u001b[1;36m3\u001b[0m\u001b[1;33m)\u001b[0m\u001b[1;33m)\u001b[0m\u001b[1;33m\u001b[0m\u001b[0m\n\u001b[0m",
      "\u001b[1;32m~\\Anaconda3\\lib\\site-packages\\scipy\\optimize\\zeros.py\u001b[0m in \u001b[0;36mbrentq\u001b[1;34m(f, a, b, args, xtol, rtol, maxiter, full_output, disp)\u001b[0m\n\u001b[0;32m    508\u001b[0m     \u001b[1;32mif\u001b[0m \u001b[0mrtol\u001b[0m \u001b[1;33m<\u001b[0m \u001b[0m_rtol\u001b[0m\u001b[1;33m:\u001b[0m\u001b[1;33m\u001b[0m\u001b[0m\n\u001b[0;32m    509\u001b[0m         \u001b[1;32mraise\u001b[0m \u001b[0mValueError\u001b[0m\u001b[1;33m(\u001b[0m\u001b[1;34m\"rtol too small (%g < %g)\"\u001b[0m \u001b[1;33m%\u001b[0m \u001b[1;33m(\u001b[0m\u001b[0mrtol\u001b[0m\u001b[1;33m,\u001b[0m \u001b[0m_rtol\u001b[0m\u001b[1;33m)\u001b[0m\u001b[1;33m)\u001b[0m\u001b[1;33m\u001b[0m\u001b[0m\n\u001b[1;32m--> 510\u001b[1;33m     \u001b[0mr\u001b[0m \u001b[1;33m=\u001b[0m \u001b[0m_zeros\u001b[0m\u001b[1;33m.\u001b[0m\u001b[0m_brentq\u001b[0m\u001b[1;33m(\u001b[0m\u001b[0mf\u001b[0m\u001b[1;33m,\u001b[0m\u001b[0ma\u001b[0m\u001b[1;33m,\u001b[0m\u001b[0mb\u001b[0m\u001b[1;33m,\u001b[0m\u001b[0mxtol\u001b[0m\u001b[1;33m,\u001b[0m\u001b[0mrtol\u001b[0m\u001b[1;33m,\u001b[0m\u001b[0mmaxiter\u001b[0m\u001b[1;33m,\u001b[0m\u001b[0margs\u001b[0m\u001b[1;33m,\u001b[0m\u001b[0mfull_output\u001b[0m\u001b[1;33m,\u001b[0m\u001b[0mdisp\u001b[0m\u001b[1;33m)\u001b[0m\u001b[1;33m\u001b[0m\u001b[0m\n\u001b[0m\u001b[0;32m    511\u001b[0m     \u001b[1;32mreturn\u001b[0m \u001b[0mresults_c\u001b[0m\u001b[1;33m(\u001b[0m\u001b[0mfull_output\u001b[0m\u001b[1;33m,\u001b[0m \u001b[0mr\u001b[0m\u001b[1;33m)\u001b[0m\u001b[1;33m\u001b[0m\u001b[0m\n\u001b[0;32m    512\u001b[0m \u001b[1;33m\u001b[0m\u001b[0m\n",
      "\u001b[1;31mTypeError\u001b[0m: 'float' object is not callable"
     ]
    }
   ],
   "source": [
    "# Initial guess for x, we know the root is between 2 and 3.\n",
    "x = 2.5\n",
    "print(\"Square root of 5 is\", opt.brentq(square_root(x, 5), 2, 3))"
   ]
  },
  {
   "cell_type": "markdown",
   "metadata": {},
   "source": [
    "This fails! What is wrong? Correct the mistake in the call to opt.brentq to have the correct value of the square root calculated and printed."
   ]
  },
  {
   "cell_type": "code",
   "execution_count": 5,
   "metadata": {},
   "outputs": [
    {
     "name": "stdout",
     "output_type": "stream",
     "text": [
      "Square root of 5 is 2.23606797749979\n"
     ]
    }
   ],
   "source": [
    "### BEGIN SOLUTION\n",
    "print(\"Square root of 5 is\", opt.brentq(square_root, 2, 3, args=(5)))\n",
    "### END SOLUTION"
   ]
  },
  {
   "cell_type": "markdown",
   "metadata": {},
   "source": [
    "## 2. Random Matrices\n",
    "\n",
    "Random matrix theory was introduced into physics by Eugene Wigner during his study of the quantum mechanical energy spectrum of heavy atoms. He postulated that the spacing between the energy levels of heavy atoms should only depend on the symmetries of the problem. That is, the energy levels of these atoms are well modelled as the eigenvalues of symmetric matrices filled with random values and the distribution of these eigenvalues is independent of the underlying probability distribution from which the elements of the matrix have been chosen. Random matrix theory has been used in many fields and applied to a wide range of problems. In what follows we will test the postulate that the probability distribution for the matrix elements does not change the distribution of eigenvalues.\n",
    "\n",
    "The predicted probability distribution is the Wigner semicircle distribution given by the probability distribution function\n",
    "\n",
    "$$ P(x) = \\frac{2}{\\pi R^2} \\sqrt{R^2-x^2}\\,, $$\n",
    "\n",
    "for $x\\in[-R,R)$. Here $R$ is the width parameter. The value of $R$ depends on the magnitude of the elements in the random matrix.\n",
    "\n",
    "We will generate random numbers from two distributions\n",
    "\n",
    "1. Gaussian with zero mean and unit width, \n",
    "2. Uniform distribution on the interval [0,1).\n",
    "\n",
    "To test the predicted probability distribution we need to generate random symmetric matrices and find their eigenvalues. There are two numpy functions that allow us to do this, `numpy.random.randn` for Gaussian-distributed random numbers, and `np.random.rand` for numbers in the interval [0,1).\n",
    "These functions can be used to generate random $N\\times N$ matrices, but, they will not be symmetric. We can work around this by extracting the symmetric part of a matrix. This can be computed as\n",
    "\n",
    "$$ \\mathsf{A}_{\\rm sym} = \\frac{1}{2} \\left( \\mathsf{A} + \\mathsf{A}^{\\intercal} \\right)\\,, $$\n",
    "\n",
    "where $\\mathsf{A}^\\intercal$ is the matrix transpose. Below, generate a $5\\times 5$ matrix using one of these functions. Compute the symmetric part of this matrix, print it, and verify by eye that it does indeed appear symmetric."
   ]
  },
  {
   "cell_type": "code",
   "execution_count": 6,
   "metadata": {},
   "outputs": [
    {
     "name": "stdout",
     "output_type": "stream",
     "text": [
      "[[0.63748773 0.48409403 0.64931179 0.40769631 0.68828461]\n",
      " [0.48409403 0.9583801  0.82303234 0.76537488 0.10893783]\n",
      " [0.64931179 0.82303234 0.75607271 0.49543003 0.70402564]\n",
      " [0.40769631 0.76537488 0.49543003 0.03303754 0.5264647 ]\n",
      " [0.68828461 0.10893783 0.70402564 0.5264647  0.04054499]]\n"
     ]
    }
   ],
   "source": [
    "### BEGIN SOLUTION\n",
    "A = np.random.rand(5,5)\n",
    "A_sym = 0.5*(A + A.T)\n",
    "print(A_sym)\n",
    "### END SOLUTION"
   ]
  },
  {
   "cell_type": "markdown",
   "metadata": {},
   "source": [
    "Now that you have verified the form of this matrix, we will use $N=1000$ and consider Gaussian distributed random matrix entries.\n",
    "\n",
    "Because this matrix is symmetric, it will have real eigenvalues, however python will not automatically know this. If you use `scipy.linalg.eigvals` to extract the eigenvalues, you will notice it returns complex numbers with a small imaginary piece. You will need to extract the real part of the eigenvalues. There are a number of ways to do so; one way is using the `numpy.real` function.\n",
    "\n",
    "Generate a (Gaussian) random matrix and extract the real part of the eigenvalues from it. To determine $R$ for the Gaussian distribution, find and print the maximum of the absolute value of the eigenvalues. Make a histogram of the eigenvalues using `matplotlib.pyplot.hist` (remember homework 1 where we have used this before). Include in the plot the expected result from the Wigner semicircle distribution. Keep in mind that the Wigner semicircle distribution is a probability distribution so it is normalized (recall the `density=True` keyword argument you can supply to `hist`). "
   ]
  },
  {
   "cell_type": "code",
   "execution_count": 10,
   "metadata": {},
   "outputs": [
    {
     "name": "stdout",
     "output_type": "stream",
     "text": [
      "R = 44.568526479893144\n"
     ]
    },
    {
     "data": {
      "image/png": "[encoded data removed]",
      "text/plain": [
       "<Figure size 432x288 with 1 Axes>"
      ]
     },
     "metadata": {
      "needs_background": "light"
     },
     "output_type": "display_data"
    }
   ],
   "source": [
    "### BEGIN SOLUTION\n",
    "def P(x, R):\n",
    "    return 2./np.pi/R**2 * np.sqrt(R**2 - x**2)\n",
    "\n",
    "A_gauss = np.random.randn(1000,1000)\n",
    "A_gauss_sym = 0.5*(A_gauss + A_gauss.T)\n",
    "eigv_gauss = np.real(la.eigvals(A_gauss_sym))\n",
    "R_gauss = np.max(np.abs(eigv_gauss))\n",
    "print(\"R =\", R_gauss)\n",
    "\n",
    "x_gauss = np.linspace(-R_gauss,R_gauss,100)\n",
    "P_gauss = P(x_gauss, R_gauss)\n",
    "plt.hist(eigv_gauss, bins=50, density=True, histtype='step');\n",
    "plt.plot(x_gauss, P_gauss, 'r--', lw=2)\n",
    "plt.xlabel('Eigenvalues')\n",
    "plt.ylabel('Counts (normalized)')\n",
    "plt.title('Gaussian Random Matrix Eigenvalue Distribution');\n",
    "### END SOLUTION"
   ]
  },
  {
   "cell_type": "markdown",
   "metadata": {},
   "source": [
    "We now want to repeat the same steps but for a matrix with elements drawn from the uniform distribution. Again calculate the eigenvalues from a random matrix, print the value of $R$, and make a histogram of the eigenvalues."
   ]
  },
  {
   "cell_type": "code",
   "execution_count": 11,
   "metadata": {},
   "outputs": [
    {
     "name": "stdout",
     "output_type": "stream",
     "text": [
      "R = 499.8787811449524\n"
     ]
    },
    {
     "data": {
      "image/png": "[encoded data removed]",
      "text/plain": [
       "<Figure size 432x288 with 1 Axes>"
      ]
     },
     "metadata": {
      "needs_background": "light"
     },
     "output_type": "display_data"
    }
   ],
   "source": [
    "### BEGIN SOLUTION\n",
    "A_uniform = np.random.rand(1000,1000)\n",
    "A_uniform_sym = 0.5*(A_uniform + A_uniform.T)\n",
    "eigv_uniform = np.real(la.eigvals(A_uniform_sym))\n",
    "R_uniform = np.max(np.abs(eigv_uniform))\n",
    "print(\"R =\", R_uniform)\n",
    "plt.hist(eigv_uniform, 50);\n",
    "### END SOLUTION"
   ]
  },
  {
   "cell_type": "markdown",
   "metadata": {},
   "source": [
    "You should have found that $R$ was quite large, but when you look at the histogram you find that there are almost no eigenvalues at such a large value. This is a property of the uniform distribution, it introduces spurious large eigenvalues. We can easily remove these using array slicing. Repeat the previous part (you may use the same eigenvalues as calculated above) but now use array slicing to remove the large eigenvalues. Compute the new value of $R$ for this distribution. Include in the plot the expected result from the Wigner semicircle distribution."
   ]
  },
  {
   "cell_type": "code",
   "execution_count": 12,
   "metadata": {},
   "outputs": [
    {
     "name": "stdout",
     "output_type": "stream",
     "text": [
      "R = 12.982132595506513\n"
     ]
    },
    {
     "data": {
      "image/png": "[encoded data removed]",
      "text/plain": [
       "<Figure size 432x288 with 1 Axes>"
      ]
     },
     "metadata": {
      "needs_background": "light"
     },
     "output_type": "display_data"
    }
   ],
   "source": [
    "### BEGIN SOLUTION\n",
    "A_uniform = np.random.rand(1000,1000)\n",
    "A_uniform_sym = 0.5*(A_uniform + A_uniform.T)\n",
    "eigv_uniform = np.real(la.eigvals(A_uniform_sym))\n",
    "eigv_uniform = eigv_uniform[np.abs(eigv_uniform)<50]\n",
    "R_uniform = np.max(np.abs(eigv_uniform))\n",
    "print(\"R =\", R_uniform)\n",
    "\n",
    "x_uniform = np.linspace(-R_uniform,R_uniform,100)\n",
    "P_uniform = P(x_uniform, R_uniform)\n",
    "plt.hist(eigv_uniform, bins=50, density=True, histtype='step');\n",
    "plt.plot(x_uniform, P_uniform, 'r--', lw=2)\n",
    "plt.xlabel('Eigenvalues')\n",
    "plt.ylabel('Counts (normalized)')\n",
    "plt.title('Uniform Random Matrix Eigenvalue Distribution');\n",
    "### END SOLUTION"
   ]
  },
  {
   "cell_type": "markdown",
   "metadata": {},
   "source": [
    "## Turn in the Exam\n",
    "\n",
    "Turn in the exam on Canvas following the procedure used for the labs and homework."
   ]
  }
 ],
 "metadata": {
  "kernelspec": {
   "display_name": "Python 3",
   "language": "python",
   "name": "python3"
  },
  "language_info": {
   "codemirror_mode": {
    "name": "ipython",
    "version": 3
   },
   "file_extension": ".py",
   "mimetype": "text/x-python",
   "name": "python",
   "nbconvert_exporter": "python",
   "pygments_lexer": "ipython3",
   "version": "3.7.0"
  }
 },
 "nbformat": 4,
 "nbformat_minor": 2
}
