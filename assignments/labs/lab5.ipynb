{
 "cells": [
  {
   "cell_type": "markdown",
   "metadata": {},
   "source": [
    "# Lab 05 : Problem Solving\n",
    "\n",
    "This lab involves a more open-ended study of a system. Obtaining a solution will require several numerical techniques we have encountered so far, including integration, solving differential equations, and optimization.\n",
    "\n",
    "## Initialization\n",
    "\n",
    "As always you should add initialization to the top of your notebook."
   ]
  },
  {
   "cell_type": "code",
   "execution_count": 1,
   "metadata": {
    "nbgrader": {
     "grade": true,
     "grade_id": "cell-ecda389af0994d91",
     "locked": false,
     "points": 0,
     "schema_version": 3,
     "solution": true
    }
   },
   "outputs": [],
   "source": [
    "### BEGIN SOLUTION\n",
    "import numpy as np\n",
    "import scipy.integrate as integ\n",
    "import scipy.optimize as opt\n",
    "import scipy.interpolate as interp\n",
    "import matplotlib.pyplot as plt\n",
    "%matplotlib inline\n",
    "# Globally adjust plot styling\n",
    "import matplotlib as mpl\n",
    "mpl.rc('xtick', direction='in', top=True)\n",
    "mpl.rc('ytick', direction='in', right=True)\n",
    "mpl.rc('xtick.minor', visible=True)\n",
    "mpl.rc('ytick.minor', visible=True)\n",
    "\n",
    "def KdV(t, y) :\n",
    "    dydt = np.zeros_like(y)\n",
    "    \n",
    "    psi = y[0]\n",
    "    phi= y[1]\n",
    "    h = y[2]\n",
    "    \n",
    "    dhdt = psi\n",
    "    dpsidt = phi\n",
    "    dphidt = -6*h*psi\n",
    "    \n",
    "    dydt[0] = dpsidt\n",
    "    dydt[1] = dphidt\n",
    "    dydt[2] = dhdt\n",
    "    \n",
    "    return dydx\n",
    "\n",
    "y0 = np.array([\n",
    "    [0,0,0,0,0],\n",
    "    [.1,.1,.1.,1.,1],\n",
    "    [.2,.2,.2,.2,.2]]\n",
    ")\n",
    "\n",
    "\n",
    "### END SOLUTION"
   ]
  },
  {
   "cell_type": "markdown",
   "metadata": {},
   "source": [
    "We will put into practice a number of ideas we have learned.  Here you are given a problem you should be able to solve using the numerical methods covered in the course so far. It will be your job to figure out how to solve the problem, *clearly document* your solution, and implement it.  You should use this lab as an opportunity to\n",
    "\n",
    "1. further develop familiarity with tools and methods from earlier assignments,\n",
    "2. practice documenting your code, and \n",
    "3. develop your problem solving skills.\n",
    "\n",
    "That being said, you should not spend too much time in a rut; ask for help if you get stuck!"
   ]
  },
  {
   "cell_type": "markdown",
   "metadata": {},
   "source": [
    "The Korteweg–de Vries (KdV) equation approximately describes the amplitude of waves in certain one-dimensional systems, for example the height of water waves in a shallow trough.  There is a class of static solutions to this equation where waves will hold their shape while the system is not disrupted.  In the real world, the KdV equation includes time dependence - a more difficult problem we will not examine yet.  However, you have likely seem some examples of static wave configurations in flowing water, such as stationary ripples in a creek or stream.  Extreme examples of this are even [surfable](https://www.youtube.com/watch?v=g6f8oLu8t8M)!\n",
    "\n",
    "The KdV equation for the height of a wave, $h(x)$, as a function of position along a trough, $x$, is given by\n",
    "\n",
    "$$ \\frac{\\mathrm{d}^3h(x)}{\\mathrm{d}x^3} + 6 h(x) \\frac{\\mathrm{d}h(x)}{\\mathrm{d}x} = 0. $$\n",
    "\n",
    "Your goals are as follows:\n",
    "\n",
    "1. Solve the differential equation in the range $x=0$ to $x=16$ subject to the initial conditions at $x=0$\n",
    "$$ h = 0.2, \\quad \\frac{\\mathrm{d}h}{\\mathrm{d}x} = 0, \\quad \\frac{\\mathrm{d}^2 h}{\\mathrm{d}x^2} = 0.1.$$\n",
    "2. Produce a nice plot of the results, $h(x)$ vs $x$.\n",
    "3. You will notice that the resulting function seems periodic. What is the period of the oscillations of this function? Here the period means the $x$ distance between adjacent maxima or minima.\n",
    "4. Determine the minimim, maximum, and average wave height. Note that the average is not necessarily the average of the min and the max. Print these results.\n",
    "5. Provide an estimate for uncertainty in your calculation of the average wave height. This estimate should account for error introduced during different steps of the calculation."
   ]
  },
  {
   "cell_type": "markdown",
   "metadata": {},
   "source": [
    "Below, provide documentation for your solution technique.  Clearly describe the necessary ingredients and solution process *without* using code. Document your solution using Markdown and LaTeX as needed."
   ]
  },
  {
   "cell_type": "markdown",
   "metadata": {
    "nbgrader": {
     "grade": true,
     "grade_id": "cell-6045305489b69876",
     "locked": false,
     "points": 1,
     "schema_version": 3,
     "solution": true
    }
   },
   "source": [
    "```### YOUR ANSWER HERE```"
   ]
  },
  {
   "cell_type": "markdown",
   "metadata": {},
   "source": [
    "Next provide the code implementing your solution."
   ]
  },
  {
   "cell_type": "code",
   "execution_count": null,
   "metadata": {
    "nbgrader": {
     "grade": true,
     "grade_id": "cell-fce8294c21513274",
     "locked": false,
     "points": 1.5,
     "schema_version": 3,
     "solution": true
    }
   },
   "outputs": [],
   "source": [
    "# YOUR CODE HERE\n",
    "raise NotImplementedError()"
   ]
  },
  {
   "cell_type": "markdown",
   "metadata": {},
   "source": [
    "## Member Participation\n",
    "\n",
    "See Lab 1 for instructions on turning in labs. In the following cell enter the names for each student in the group who partcipated in this lab."
   ]
  },
  {
   "cell_type": "markdown",
   "metadata": {},
   "source": []
  }
 ],
 "metadata": {
  "anaconda-cloud": {},
  "authors": [
   {
    "name": "Craig J Copi",
    "semester": "Spring 2019"
   }
  ],
  "celltoolbar": "Create Assignment",
  "kernelspec": {
   "display_name": "Python 3",
   "language": "python",
   "name": "python3"
  },
  "language_info": {
   "codemirror_mode": {
    "name": "ipython",
    "version": 3
   },
   "file_extension": ".py",
   "mimetype": "text/x-python",
   "name": "python",
   "nbconvert_exporter": "python",
   "pygments_lexer": "ipython3",
   "version": "3.7.0"
  }
 },
 "nbformat": 4,
 "nbformat_minor": 2
}
