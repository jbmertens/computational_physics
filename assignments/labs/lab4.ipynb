{
 "cells": [
  {
   "cell_type": "markdown",
   "metadata": {},
   "source": [
    "# Lab 04 : Modeling disease spread\n",
    "\n",
    "In these trying times we have heard much about Covid-19 and its spread. We have all been involved in \"flattening the curve\". Many policy decisions have been (or should have been) made based on models. While we will not explore detailed models, nor consider parameters associated with Covid-19, we can consider a simple model which serves as a basis for much of the ongoing modelling. With this in hand, we could expand the model to more completely represent an actual disease."
   ]
  },
  {
   "cell_type": "markdown",
   "metadata": {},
   "source": [
    "## Initialization\n",
    "\n",
    "Collect all your initialization here.  Make sure all figures are inlined by using `%matplotlib inline`."
   ]
  },
  {
   "cell_type": "code",
   "execution_count": null,
   "metadata": {
    "deletable": false,
    "nbgrader": {
     "cell_type": "code",
     "checksum": "b89ad5a530d85780feeeeedcc85cb11d",
     "grade": true,
     "grade_id": "cell-e3477f2b0a138492",
     "locked": false,
     "points": 0,
     "schema_version": 3,
     "solution": true
    }
   },
   "outputs": [],
   "source": [
    "# YOUR CODE HERE\n",
    "raise NotImplementedError()"
   ]
  },
  {
   "cell_type": "markdown",
   "metadata": {},
   "source": [
    "## The SIR model\n",
    "\n",
    "One of the simplest models is the SIR model which breaks the population into three groups: those who are (S)ucceptible, (I)nfected (or infectious), and (R)ecovered. For a population of $N$ people we will use normalized quantities in our study:\n",
    "\n",
    "$$ s(t) = \\frac{S(t)}{N}, \\quad i(t) = \\frac{I(t)}{N}, \\quad r(t) = \\frac{R(t)}{N}. $$\n",
    "\n",
    "Note that these represent the percentage of the population in each group and they satisfy\n",
    "\n",
    "$$ s(t) + i(t) + r(t) = 1 $$\n",
    "\n",
    "at all times.\n",
    "\n",
    "This simple model has many assumptions built-in that could all, in principle, be modified.\n",
    "1. The population, $N$, is a constant. It ignores births, deaths, immigration, *etc*.\n",
    "2. Similarly, no one is added to the succeptible group. This means $s(t)$ cannot increase.\n",
    "3. Each infected person has a constant number of contacts per day, $\\beta$, that are sufficient to spread the disease.\n",
    "4. A constant fraction of infected people, $\\gamma$, recover on a given day.\n",
    "\n",
    "With these assumptions the model can be written as a system of coupled, ordinary differential equations that describes the evolution of each fraction of the population:\n",
    "\n",
    "\\begin{align}\n",
    " \\frac{\\mathrm{d}s(t)}{\\mathrm{d}t} &= -\\beta s(t) i(t), \\\\\n",
    " \\frac{\\mathrm{d}i(t)}{\\mathrm{d}t} &= \\hphantom{-}\\beta s(t) i(t) - \\gamma i(t), \\\\\n",
    " \\frac{\\mathrm{d}r(t)}{\\mathrm{d}t} &= \\hphantom{-}\\gamma i(t).\n",
    "\\end{align}\n",
    "\n",
    "If you study these equations, each term in them should make sense. These equations also have a form similar to what appears in the study of decay or reaction chains in physics and chemistry."
   ]
  },
  {
   "cell_type": "markdown",
   "metadata": {},
   "source": [
    "### Preliminary Study\n",
    "\n",
    "Write a function to be passed to `scipy.integrate.solve_ivp` that can be used to solve the system of differential equations **in the order written above**. You should clearly document this function."
   ]
  },
  {
   "cell_type": "code",
   "execution_count": null,
   "metadata": {
    "deletable": false,
    "nbgrader": {
     "cell_type": "code",
     "checksum": "a5d9d67197925e7e090ba5bb5488b6f0",
     "grade": true,
     "grade_id": "cell-337cd22f6b4bdf45",
     "locked": false,
     "points": 5,
     "schema_version": 3,
     "solution": true,
     "task": false
    }
   },
   "outputs": [],
   "source": [
    "def sir_model(t, y, beta, gamma) :\n",
    "    # YOUR CODE HERE\n",
    "    raise NotImplementedError()"
   ]
  },
  {
   "cell_type": "markdown",
   "metadata": {},
   "source": [
    "As a first test to get a feeling for how the equations model the spread of disease we will consider the 1968 flu which hit New York City. This disease has an infectious period of about 3 days. We can use this to estimate\n",
    "$$ \\gamma = \\frac{1}{3}. $$\n",
    "We do not have a good way of estimating the number of contacts (see below) so will instead just choose\n",
    "$$ \\beta = \\frac{1}{2}. $$\n",
    "\n",
    "Suppose that we start with only 10 infected people in a population of 10 million people.\n",
    "Construct a NumPy array, called `y0`, that contains the initial values $[s(0), i(0), r(0)]$.\n",
    "\n",
    "(To be clear, every one must be in one of the groups. Since we are assuming no one has had the disease in the past, no one has recovered yet.)"
   ]
  },
  {
   "cell_type": "code",
   "execution_count": null,
   "metadata": {
    "deletable": false,
    "nbgrader": {
     "cell_type": "code",
     "checksum": "a15fabef6ad05e10cabfe8bd22f89966",
     "grade": true,
     "grade_id": "cell-a70252ece2386b62",
     "locked": false,
     "points": 2,
     "schema_version": 3,
     "solution": true,
     "task": false
    }
   },
   "outputs": [],
   "source": [
    "# YOUR CODE HERE\n",
    "raise NotImplementedError()"
   ]
  },
  {
   "cell_type": "markdown",
   "metadata": {},
   "source": [
    "Solve the system of differential equations for the three populations over a time scale of 150 days to see how the disease spreads over a time period of about 5 months. Produce a quick plot of the three populations.\n",
    "\n",
    "(Though it is a quick plot, you should still label the three populations in the plot. You do not need to make the rest of the plot look nice.)"
   ]
  },
  {
   "cell_type": "code",
   "execution_count": null,
   "metadata": {
    "deletable": false,
    "nbgrader": {
     "cell_type": "code",
     "checksum": "3e5b045358e13271f2f7ea6dd31e0eb2",
     "grade": true,
     "grade_id": "cell-863ac6ea8485edf3",
     "locked": false,
     "points": 5,
     "schema_version": 3,
     "solution": true,
     "task": false
    }
   },
   "outputs": [],
   "source": [
    "# YOUR CODE HERE\n",
    "raise NotImplementedError()"
   ]
  },
  {
   "cell_type": "markdown",
   "metadata": {},
   "source": [
    "To get a feeling for the role of the number of infectious contacts, $\\beta$, let us keep $\\gamma=1/3$ and see how $i(t)$ changes for $0.1\\le\\beta\\le0.6$.\n",
    "\n",
    "Produce a plot of $i(t)$ versus time for the different choices of $\\beta$ in steps of 0.1. Make sure you solve for a sufficiently long time to show the behavior of the curves for all the values of $\\beta$."
   ]
  },
  {
   "cell_type": "code",
   "execution_count": null,
   "metadata": {
    "deletable": false,
    "nbgrader": {
     "cell_type": "code",
     "checksum": "138f91795ae4047e56b8b028453bb344",
     "grade": true,
     "grade_id": "cell-a801515e3a1b5e8c",
     "locked": false,
     "points": 5,
     "schema_version": 3,
     "solution": true,
     "task": false
    }
   },
   "outputs": [],
   "source": [
    "# YOUR CODE HERE\n",
    "raise NotImplementedError()"
   ]
  },
  {
   "cell_type": "markdown",
   "metadata": {},
   "source": [
    "You should have found that the maximum number of infected people depends on $\\beta$. In fact, there is a value of $\\beta$ that, if we remain below this value, the disease will never spread. For this simple model this occurs if\n",
    "\n",
    "$$ \\left. \\frac{\\mathrm{d}i}{\\mathrm{d}t} \\right|_{t=0} \\le 0, $$\n",
    "\n",
    "or, using this along with the differential equations from earlier, for a value $\\beta_{\\rm min} = \\frac{\\gamma}{s(0)}$.\n",
    "\n",
    "In case of a larger $\\beta$, to not overwhelm hospitals, suppose that we want to keep the maximum of the infected people below some fraction. In this case, there would be some maximum $\\beta$ we can withstand, which in turn would tell us something about how extreme our efforts should be to reduce $\\beta$. (In other words, this would affect policy decisions. See below for a little more on this.)\n",
    "\n",
    "To begin, we need to know how to find the maximum for $i(t)$. Given the importance of this we want to do this in a precise manner. Just using something like \"max(i(t))\" from our discretized solution could work, but is not ideal. Fortunately we can do better. Below, describe in words, and equations if needed, how you might accurately find a maximum value of $i(t)$ from a discretized solution to the system of differential equations."
   ]
  },
  {
   "cell_type": "markdown",
   "metadata": {
    "deletable": false,
    "nbgrader": {
     "cell_type": "markdown",
     "checksum": "02ebc52955f6e45fa8b5cc523861bf4e",
     "grade": true,
     "grade_id": "cell-270fd6fe50e6d749",
     "locked": false,
     "points": 6,
     "schema_version": 3,
     "solution": true,
     "task": false
    }
   },
   "source": [
    "```### YOUR ANSWER HERE```"
   ]
  },
  {
   "cell_type": "markdown",
   "metadata": {},
   "source": [
    "Implement a function to calculate the maximum $i(t)$ for a given $\\beta$, $\\gamma$, and `y0`.  If $\\beta\\le\\beta_{\\mathrm{min}}$ your function should return $i(0)$. Otherwise, it should solve the system of equations and return the value of the maximum $i$.\n",
    "Use this function and print the maximum value of $i$ for the case of the 1968 Flu in New York City we have been studying when $\\beta=0.5$.\n",
    "\n",
    "(*Note*: You can compare the value to that found in your plot above. They must agree!)."
   ]
  },
  {
   "cell_type": "code",
   "execution_count": null,
   "metadata": {
    "deletable": false,
    "nbgrader": {
     "cell_type": "code",
     "checksum": "d05245a0c03066dae00ff79050e810da",
     "grade": true,
     "grade_id": "cell-af4202959c71dfcf",
     "locked": false,
     "points": 6,
     "schema_version": 3,
     "solution": true,
     "task": false
    }
   },
   "outputs": [],
   "source": [
    "# You can also include a parameter t_end, which is the end time for the solution of our\n",
    "# system of differential equations. When you call this function you should choose an\n",
    "# appropriate value based on the disease being studied. We will use this function\n",
    "# for more than just the 1968 Flu so want to make it flexible.\n",
    "def imax(beta, y0, gamma, t_end) :\n",
    "    # YOUR CODE HERE\n",
    "    raise NotImplementedError()"
   ]
  },
  {
   "cell_type": "markdown",
   "metadata": {},
   "source": [
    "Finally for the 1968 flu we have been studying, suppose that we require the maximum $i$ to be less than $0.1\\%$. Caculate and print the maximum $\\beta$ we can allow.\n",
    "\n",
    "(*Note*: You will probably need to use a larger `tend` than you did in your plot.)"
   ]
  },
  {
   "cell_type": "code",
   "execution_count": null,
   "metadata": {
    "deletable": false,
    "nbgrader": {
     "cell_type": "code",
     "checksum": "5004a3cc0c45a33955ef85b2bdf14db9",
     "grade": true,
     "grade_id": "cell-eea168278597b3bb",
     "locked": false,
     "points": 3,
     "schema_version": 3,
     "solution": true,
     "task": false
    }
   },
   "outputs": [],
   "source": [
    "# Again, we can get an accurate value by searching for a zero,\n",
    "# but now we want to find a zero of the imax function.\n",
    "\n",
    "# YOUR CODE HERE\n",
    "raise NotImplementedError()"
   ]
  },
  {
   "cell_type": "markdown",
   "metadata": {},
   "source": [
    "-------------\n",
    "\n",
    "## Optional Exercise: Contact Number and Herd Immunity\n",
    "\n",
    "You are not required to complete the remainder of this lab, however you are encouraged to do so. Here we will study the idea of a contact number, and the impact of including an immune population.\n",
    "\n",
    "As we have stated a few times, the $\\beta$ parameter which tells us something about how the disease is going to spread is not something that is directly related to an observable. Instead we can consider the contact number, $c$, defined as the ratio\n",
    "\n",
    "$$ c = \\frac{\\beta}{\\gamma}. $$\n",
    "\n",
    "This specifies the number of close contects per day by an infectious person multiplied by the number of days the person is contagious. (Recall that $\\gamma$ is inversely related to the number of days a person is contagious.)\n",
    "\n",
    "Another important aspect is the role of innoculations. In our study above we assumed everyone was either infected or succeptible to the disease. Innoculations change this. Anyone who has been successfully innoculated is moved to the recovered group. This is called *herd immunity* since part of the population is not succeptible to the disease. Here we will explore how innoculations affect the spread of a disease."
   ]
  },
  {
   "cell_type": "markdown",
   "metadata": {},
   "source": [
    "### Innoculation Study\n",
    "\n",
    "To study the role of innoculations we will study a different disease: measles. Measles is a very infectious disease. Innoculations for measles were a very important discovery. In the US from 1912 to 1928 the contact number for measles was $c=12.8$. Let us assume that would still be true today. Measles is contagious for about 8 days so we will use $\\gamma=1/8$.\n",
    "\n",
    "To begin, use your code from above to solve for and produce a quick plot of the succeptible, infected, and recovered population as a function of time. Use the same initial population conditions as in the 1968 Flu study. You should find a large fraction of the population is infected at the same time.\n",
    "\n",
    "Save your solution as we will use it below."
   ]
  },
  {
   "cell_type": "code",
   "execution_count": null,
   "metadata": {
    "deletable": false,
    "nbgrader": {
     "cell_type": "code",
     "checksum": "2696b7359cf736c45b3d6437c2a9aa74",
     "grade": true,
     "grade_id": "cell-3a6e58f81b9a13ed",
     "locked": false,
     "points": 5,
     "schema_version": 3,
     "solution": true,
     "task": false
    }
   },
   "outputs": [],
   "source": [
    "# YOUR CODE HERE\n",
    "raise NotImplementedError()"
   ]
  },
  {
   "cell_type": "markdown",
   "metadata": {},
   "source": [
    "To see the role of innoculation, suppose that we still start with 50% of the population innoculated. This means that 50% of the population starts in the \"recovered\" group. Let us still start with 10 out of 10 million people with measles (as above). Now set up the initial conditions and solve the system of differential equations for the spread of the disease. Produce a quick plot of the infected fraction versus time, showing both the no innoculation (from above) and 50% innoculation curves."
   ]
  },
  {
   "cell_type": "code",
   "execution_count": null,
   "metadata": {},
   "outputs": [],
   "source": [
    "# YOUR CODE HERE\n",
    "raise NotImplementedError()"
   ]
  },
  {
   "cell_type": "markdown",
   "metadata": {},
   "source": [
    "Your plot should show that 50% innoculation helps, but still a large fraction of the population is infected at the same time. With this simple model we can easily determine the fraction of the population that must be innoculated so that measles does not spread. In fact, we already did this calculation! Looking back to the calculation of $\\beta_{\\mathrm{min}}$ above, we can write $\\beta$ in terms of the contact number and solve for $s(0)$ as a function of $c$ and $\\gamma$, as appropriate, which leaves us with a very simple expression,\n",
    "\n",
    "$$\n",
    "s_{\\rm min}(0) = 1/c\\,.\n",
    "$$\n",
    "\n",
    "Finally, solve the system of differential equations for the spread of measles, assuming again that only 10 out of 10 million people are infected, but now using the $s_{\\rm min}(0)$ value in your initial conditions. Print the percentage of the population that should be innoculated to prevent the spread of measles. Produce a quick plot of the infected fraction of the population versus time and verify that it never increases."
   ]
  },
  {
   "cell_type": "code",
   "execution_count": null,
   "metadata": {},
   "outputs": [],
   "source": [
    "# YOUR CODE HERE\n",
    "raise NotImplementedError()"
   ]
  },
  {
   "cell_type": "markdown",
   "metadata": {},
   "source": [
    "## Member Participation\n",
    "\n",
    "See Lab 1 for instructions on turning in labs. In the following cell enter the names for each student in the group who partcipated in this lab."
   ]
  },
  {
   "cell_type": "markdown",
   "metadata": {},
   "source": []
  }
 ],
 "metadata": {
  "anaconda-cloud": {},
  "authors": [
   {
    "name": "Craig J Copi",
    "semester": "Spring 2019"
   }
  ],
  "kernelspec": {
   "display_name": "Python 3",
   "language": "python",
   "name": "python3"
  },
  "language_info": {
   "codemirror_mode": {
    "name": "ipython",
    "version": 3
   },
   "file_extension": ".py",
   "mimetype": "text/x-python",
   "name": "python",
   "nbconvert_exporter": "python",
   "pygments_lexer": "ipython3",
   "version": "3.7.0"
  }
 },
 "nbformat": 4,
 "nbformat_minor": 4
}
