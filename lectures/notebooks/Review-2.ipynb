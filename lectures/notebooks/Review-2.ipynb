{
 "cells": [
  {
   "cell_type": "markdown",
   "metadata": {
    "id": "34nKnSrPbGpi"
   },
   "source": [
    "# Midterm Review\n",
    "\n",
    "The goals of this notebook are to review a few basic commands we should know how to use, and problems we might encounter."
   ]
  },
  {
   "cell_type": "code",
   "execution_count": 2,
   "metadata": {
    "colab": {
     "base_uri": "https://localhost:8080/",
     "height": 360
    },
    "executionInfo": {
     "elapsed": 846,
     "status": "error",
     "timestamp": 1617046945289,
     "user": {
      "displayName": "James Mertens",
      "photoUrl": "",
      "userId": "17826959471466727036"
     },
     "user_tz": 300
    },
    "id": "D1Gast8wgjEh",
    "outputId": "480a394b-aba4-4826-91bb-aa4c02eb3da3"
   },
   "outputs": [
    {
     "ename": "TypeError",
     "evalue": "ignored",
     "output_type": "error",
     "traceback": [
      "\u001b[0;31m---------------------------------------------------------------------------\u001b[0m",
      "\u001b[0;31mTypeError\u001b[0m                                 Traceback (most recent call last)",
      "\u001b[0;32m<ipython-input-2-09fa65f93177>\u001b[0m in \u001b[0;36m<module>\u001b[0;34m()\u001b[0m\n\u001b[1;32m     10\u001b[0m \u001b[0;31m# Why isn't this working?\u001b[0m\u001b[0;34m\u001b[0m\u001b[0;34m\u001b[0m\u001b[0;34m\u001b[0m\u001b[0m\n\u001b[1;32m     11\u001b[0m \u001b[0;31m# What is a good way to fix this?\u001b[0m\u001b[0;34m\u001b[0m\u001b[0;34m\u001b[0m\u001b[0;34m\u001b[0m\u001b[0m\n\u001b[0;32m---> 12\u001b[0;31m \u001b[0minteg\u001b[0m\u001b[0;34m.\u001b[0m\u001b[0mquad\u001b[0m\u001b[0;34m(\u001b[0m\u001b[0meax\u001b[0m\u001b[0;34m,\u001b[0m \u001b[0;36m0\u001b[0m\u001b[0;34m,\u001b[0m \u001b[0;36m2\u001b[0m\u001b[0;34m)\u001b[0m\u001b[0;34m\u001b[0m\u001b[0;34m\u001b[0m\u001b[0m\n\u001b[0m",
      "\u001b[0;32m/usr/local/lib/python3.7/dist-packages/scipy/integrate/quadpack.py\u001b[0m in \u001b[0;36mquad\u001b[0;34m(func, a, b, args, full_output, epsabs, epsrel, limit, points, weight, wvar, wopts, maxp1, limlst)\u001b[0m\n\u001b[1;32m    340\u001b[0m     \u001b[0;32mif\u001b[0m \u001b[0mweight\u001b[0m \u001b[0;32mis\u001b[0m \u001b[0;32mNone\u001b[0m\u001b[0;34m:\u001b[0m\u001b[0;34m\u001b[0m\u001b[0;34m\u001b[0m\u001b[0m\n\u001b[1;32m    341\u001b[0m         retval = _quad(func, a, b, args, full_output, epsabs, epsrel, limit,\n\u001b[0;32m--> 342\u001b[0;31m                        points)\n\u001b[0m\u001b[1;32m    343\u001b[0m     \u001b[0;32melse\u001b[0m\u001b[0;34m:\u001b[0m\u001b[0;34m\u001b[0m\u001b[0;34m\u001b[0m\u001b[0m\n\u001b[1;32m    344\u001b[0m         \u001b[0;32mif\u001b[0m \u001b[0mpoints\u001b[0m \u001b[0;32mis\u001b[0m \u001b[0;32mnot\u001b[0m \u001b[0;32mNone\u001b[0m\u001b[0;34m:\u001b[0m\u001b[0;34m\u001b[0m\u001b[0;34m\u001b[0m\u001b[0m\n",
      "\u001b[0;32m/usr/local/lib/python3.7/dist-packages/scipy/integrate/quadpack.py\u001b[0m in \u001b[0;36m_quad\u001b[0;34m(func, a, b, args, full_output, epsabs, epsrel, limit, points)\u001b[0m\n\u001b[1;32m    451\u001b[0m     \u001b[0;32mif\u001b[0m \u001b[0mpoints\u001b[0m \u001b[0;32mis\u001b[0m \u001b[0;32mNone\u001b[0m\u001b[0;34m:\u001b[0m\u001b[0;34m\u001b[0m\u001b[0;34m\u001b[0m\u001b[0m\n\u001b[1;32m    452\u001b[0m         \u001b[0;32mif\u001b[0m \u001b[0minfbounds\u001b[0m \u001b[0;34m==\u001b[0m \u001b[0;36m0\u001b[0m\u001b[0;34m:\u001b[0m\u001b[0;34m\u001b[0m\u001b[0;34m\u001b[0m\u001b[0m\n\u001b[0;32m--> 453\u001b[0;31m             \u001b[0;32mreturn\u001b[0m \u001b[0m_quadpack\u001b[0m\u001b[0;34m.\u001b[0m\u001b[0m_qagse\u001b[0m\u001b[0;34m(\u001b[0m\u001b[0mfunc\u001b[0m\u001b[0;34m,\u001b[0m\u001b[0ma\u001b[0m\u001b[0;34m,\u001b[0m\u001b[0mb\u001b[0m\u001b[0;34m,\u001b[0m\u001b[0margs\u001b[0m\u001b[0;34m,\u001b[0m\u001b[0mfull_output\u001b[0m\u001b[0;34m,\u001b[0m\u001b[0mepsabs\u001b[0m\u001b[0;34m,\u001b[0m\u001b[0mepsrel\u001b[0m\u001b[0;34m,\u001b[0m\u001b[0mlimit\u001b[0m\u001b[0;34m)\u001b[0m\u001b[0;34m\u001b[0m\u001b[0;34m\u001b[0m\u001b[0m\n\u001b[0m\u001b[1;32m    454\u001b[0m         \u001b[0;32melse\u001b[0m\u001b[0;34m:\u001b[0m\u001b[0;34m\u001b[0m\u001b[0;34m\u001b[0m\u001b[0m\n\u001b[1;32m    455\u001b[0m             \u001b[0;32mreturn\u001b[0m \u001b[0m_quadpack\u001b[0m\u001b[0;34m.\u001b[0m\u001b[0m_qagie\u001b[0m\u001b[0;34m(\u001b[0m\u001b[0mfunc\u001b[0m\u001b[0;34m,\u001b[0m\u001b[0mbound\u001b[0m\u001b[0;34m,\u001b[0m\u001b[0minfbounds\u001b[0m\u001b[0;34m,\u001b[0m\u001b[0margs\u001b[0m\u001b[0;34m,\u001b[0m\u001b[0mfull_output\u001b[0m\u001b[0;34m,\u001b[0m\u001b[0mepsabs\u001b[0m\u001b[0;34m,\u001b[0m\u001b[0mepsrel\u001b[0m\u001b[0;34m,\u001b[0m\u001b[0mlimit\u001b[0m\u001b[0;34m)\u001b[0m\u001b[0;34m\u001b[0m\u001b[0;34m\u001b[0m\u001b[0m\n",
      "\u001b[0;31mTypeError\u001b[0m: eax() missing 1 required positional argument: 'a'"
     ]
    }
   ],
   "source": [
    "# For most integration problems, the quad() routine will be a good choice.\n",
    "# This is contained in scipy.integrate.\n",
    "import scipy.integrate as integ\n",
    "import numpy as np\n",
    "\n",
    "# Suppose we wish to integrate an exponential, e^(a*x), from 0 to 2.\n",
    "def eax(x, a):\n",
    "    return np.exp(a*x)\n",
    "\n",
    "# Why isn't this working?\n",
    "# What is a good way to fix this?\n",
    "integ.quad(eax, 0, 2)"
   ]
  },
  {
   "cell_type": "code",
   "execution_count": 3,
   "metadata": {
    "colab": {
     "base_uri": "https://localhost:8080/"
    },
    "executionInfo": {
     "elapsed": 274,
     "status": "ok",
     "timestamp": 1617047470363,
     "user": {
      "displayName": "James Mertens",
      "photoUrl": "",
      "userId": "17826959471466727036"
     },
     "user_tz": 300
    },
    "id": "GDrRTrS1gjqJ",
    "outputId": "ca63cda7-92af-4b8c-9b14-b845acbc4257"
   },
   "outputs": [
    {
     "name": "stdout",
     "output_type": "stream",
     "text": [
      "quad returns: (6.3890560989306495, 7.093277186654589e-14)\n",
      "romberg returns: 6.38905609893066\n"
     ]
    }
   ],
   "source": [
    "import scipy.integrate as integ\n",
    "import numpy as np\n",
    "\n",
    "# Again, suppose we wish to integrate an exponential, e^(a*x), from 0 to 2.\n",
    "def eax(x, a):\n",
    "    return np.exp(a*x)\n",
    "# We will specify a = 1 this time.\n",
    "\n",
    "# Quad returns two values: the integral, and an error estimate.\n",
    "print(\"quad returns:\", integ.quad(lambda x: eax(x, 1), 0, 2))\n",
    "\n",
    "# Other methods do not return an error estimate, for example the romberg\n",
    "# integration function. How do you know how accurate this result is?\n",
    "print(\"romberg returns:\", integ.romberg(lambda x: eax(x, 1), 0, 2))"
   ]
  },
  {
   "cell_type": "code",
   "execution_count": 5,
   "metadata": {
    "executionInfo": {
     "elapsed": 526,
     "status": "ok",
     "timestamp": 1617048863742,
     "user": {
      "displayName": "James Mertens",
      "photoUrl": "",
      "userId": "17826959471466727036"
     },
     "user_tz": 300
    },
    "id": "W63IxFeinzPg"
   },
   "outputs": [],
   "source": [
    "?integ.solve_ivp"
   ]
  },
  {
   "cell_type": "code",
   "execution_count": 8,
   "metadata": {
    "colab": {
     "base_uri": "https://localhost:8080/",
     "height": 282
    },
    "executionInfo": {
     "elapsed": 649,
     "status": "ok",
     "timestamp": 1617049143546,
     "user": {
      "displayName": "James Mertens",
      "photoUrl": "",
      "userId": "17826959471466727036"
     },
     "user_tz": 300
    },
    "id": "dS0DEZt-ij-y",
    "outputId": "374d39ea-9730-419a-d197-675256aad093"
   },
   "outputs": [
    {
     "data": {
      "text/plain": [
       "[<matplotlib.lines.Line2D at 0x7f8be1ac5190>]"
      ]
     },
     "execution_count": 8,
     "metadata": {
      "tags": []
     },
     "output_type": "execute_result"
    },
    {
     "data": {
      "image/png": "[encoded data removed]",
      "text/plain": [
       "<Figure size 432x288 with 1 Axes>"
      ]
     },
     "metadata": {
      "needs_background": "light",
      "tags": []
     },
     "output_type": "display_data"
    }
   ],
   "source": [
    "import scipy.integrate as integ\n",
    "import numpy as np\n",
    "import matplotlib.pyplot as plt\n",
    "%matplotlib inline\n",
    "\n",
    "# Suppose we wish to integrate f''(x) - a*( 1 - f(x)^2 )*f'(x) + f(x) = 0,\n",
    "# with a = 1. We will need to write this in a first-order form, and define\n",
    "# a function to supply to solve_ivp,\n",
    "def my_eom(t, y, a) :\n",
    "    \"\"\"\n",
    "    y[0] = f\n",
    "    y[1] = g\n",
    "    \"\"\"\n",
    "    dydt = np.zeros_like(y)\n",
    "    dydt[0] = y[1]\n",
    "    dydt[1] = a*(1.-y[0]**2)*y[1] - y[0]\n",
    "    \n",
    "    return dydt\n",
    "\n",
    "# We will also need to specify initial conditions.\n",
    "y0 = [2., 0.]\n",
    "sol = integ.solve_ivp( lambda t, y: my_eom(t, y, 1), (0, 20), y0 )\n",
    "plt.plot(sol.t, sol.y[0])"
   ]
  },
  {
   "cell_type": "code",
   "execution_count": 16,
   "metadata": {
    "colab": {
     "base_uri": "https://localhost:8080/",
     "height": 283
    },
    "executionInfo": {
     "elapsed": 810,
     "status": "ok",
     "timestamp": 1617050495924,
     "user": {
      "displayName": "James Mertens",
      "photoUrl": "",
      "userId": "17826959471466727036"
     },
     "user_tz": 300
    },
    "id": "UR9y_K3KlL7J",
    "outputId": "8b86c7d4-670f-4f6c-a3ae-5bfe5b51b19e"
   },
   "outputs": [
    {
     "data": {
      "text/plain": [
       "[<matplotlib.lines.Line2D at 0x7f8be07556d0>]"
      ]
     },
     "execution_count": 16,
     "metadata": {
      "tags": []
     },
     "output_type": "execute_result"
    },
    {
     "data": {
      "image/png": "[encoded data removed]",
      "text/plain": [
       "<Figure size 432x288 with 1 Axes>"
      ]
     },
     "metadata": {
      "needs_background": "light",
      "tags": []
     },
     "output_type": "display_data"
    }
   ],
   "source": [
    "import scipy.integrate as integ\n",
    "import numpy as np\n",
    "import matplotlib.pyplot as plt\n",
    "%matplotlib inline\n",
    "\n",
    "# As above, we wish to integrate f''(x) - a*( 1 - f(x)^2 )*f'(x) + f(x) = 0,\n",
    "# now with a = 500.\n",
    "def my_eom(t, y, a) :\n",
    "    \"\"\" y[0] = f, y[1] = g \"\"\"\n",
    "    dydt = np.zeros_like(y)\n",
    "    dydt[0] = y[1]\n",
    "    dydt[1] = a*(1.-y[0]**2)*y[1] - y[0]\n",
    "    return dydt\n",
    "\n",
    "# We will specify the same initial conditions.\n",
    "y0 = [2., 0]\n",
    "# The below command takes a long time to run.\n",
    "# What is going on? How can we fix this?\n",
    "sol = integ.solve_ivp( lambda t,y: my_eom(t, y, 500), (0, 2000), y0, method=\"Radau\" )\n",
    "plt.plot(sol.t, sol.y[0])"
   ]
  },
  {
   "cell_type": "markdown",
   "metadata": {
    "id": "CPhE99cNuDio"
   },
   "source": [
    "Maxwell's equations in E&M are given by\n",
    "\n",
    "$$\n",
    "\\begin{align}\n",
    "  \\nabla \\cdot \\mathbf{E} &= \\frac{\\rho}{\\varepsilon_0} \\quad & \\nabla \\times \\mathbf{E} &= -\\frac{\\partial\\mathbf B}{\\partial t}, \\\\\n",
    "  \\nabla \\cdot \\mathbf{B} &= 0 \\quad & \\nabla \\times \\mathbf{B} &= \\mu_0\\left( \\mathbf{J} + \\varepsilon_0 \\frac{\\partial\\mathbf E}{\\partial t}\\right).\n",
    "\\end{align}\n",
    "$$\n",
    "\n",
    "Which equation(s) are elliptic, parabolic, or hyperbolic?\n",
    "\n",
    "In absence of sources, we can take the curl of the equations with time-derivatives and\n",
    "arrive with two independent equations for $\\mathbf{E}$ and $\\mathbf{B}$. (In fact, we could include\n",
    "the source terms as well, but have dropped these for clarity.)\n",
    "Are these equations elliptic, parabolic, or hyperbolic?\n",
    "\n",
    "$$\n",
    "\\begin{align}\n",
    "  \\frac{1}{c^2} \\frac{\\partial^2 \\mathbf{E}}{\\partial t^2} - \\nabla^2 \\mathbf{E} = 0\\,, \\\\\n",
    "  \\frac{1}{c^2} \\frac{\\partial^2 \\mathbf{B}}{\\partial t^2} - \\nabla^2 \\mathbf{B} = 0\\,.\n",
    "\\end{align}\n",
    "$$\n"
   ]
  },
  {
   "cell_type": "markdown",
   "metadata": {
    "id": "Yi_-qL26vCCs"
   },
   "source": [
    "As before, we can write Maxwell's equations in absence of source terms as\n",
    "\n",
    "$$\n",
    "\\begin{align}\n",
    "  \\frac{1}{c^2} \\frac{\\partial^2 \\mathbf{E}}{\\partial t^2} - \\nabla^2 \\mathbf{E} = 0\\,, \\\\\n",
    "  \\frac{1}{c^2} \\frac{\\partial^2 \\mathbf{B}}{\\partial t^2} - \\nabla^2 \\mathbf{B} = 0\\,.\n",
    "\\end{align}\n",
    "$$\n",
    "\n",
    "Consider the following: \n",
    "1. How would you discretize these to solve them as an IVP?\n",
    "2. Consider the code we used to solve the scalar wave equation in the PDE\\_Integration notebook (below). What modifications would we need to make to solve the above equations?\n",
    "3. So far, we have been looking at Eulerian integration. For ODEs, we looked at the midpoint method as well, $$ f(t+\\Delta t) = f(t) + \\Delta t A\\left(t+\\frac{\\Delta t}{2}, f\\left(t+\\frac{\\Delta t}{2}\\right) \\right) \\,. $$ What modifications would we need to make to the code to implement this method?\n",
    "\n",
    "```\n",
    "def wave_step(f, g, dx, dt) :\n",
    "    \"\"\"\n",
    "    Function to compute the solution to the 2-d wave\n",
    "    equation at the next timestep using Euler's method,\n",
    "    centered finite differencing, and Dirichlet\n",
    "    boundary conditions.\n",
    "    \n",
    "    Accepts parameters:\n",
    "    f: 2-d array containing function values\n",
    "    g: 2-d array containing function values, time-derivative of f\n",
    "    dx: spacing between points of f, assuming dx = dy\n",
    "    dt: size of timestep\n",
    "    \"\"\"\n",
    "    f_new = np.zeros_like(f)\n",
    "    g_new = np.zeros_like(g)\n",
    "    \n",
    "    # 2-D Laplacian of f using array slicing, excluding boundaries\n",
    "    # For an N x N array f, f_lap is the N-1 x N-1 array in the \"middle\"\n",
    "    f_lap = (f[2:,1:-1] - 2*f[1:-1,1:-1] + f[:-2,1:-1]) / dx**2\\\n",
    "            + (f[1:-1,2:] - 2*f[1:-1,1:-1] + f[1:-1,:-2]) / dx**2\n",
    "    \n",
    "    # Alternative 2-D Laplacian of f, using a convolution operator.\n",
    "    # ker = np.array([[0, 1, 0], [1, -4, 1], [0, 1, 0]]) / dx**2\n",
    "    # f_lap = sig.convolve(f, ker, mode='valid')\n",
    "    \n",
    "    # Forward-Euler time step for all points except the boundaries\n",
    "    g_new[1:-1,1:-1] = g[1:-1,1:-1] + dt*f_lap\n",
    "    f_new = f + dt*g\n",
    "\n",
    "    # Apply boundary conditions\n",
    "    f_new[:,0] = 0\n",
    "    f_new[:,-1] = 0\n",
    "    f_new[0,:] = 0\n",
    "    f_new[-1,:] = 0\n",
    "    g_new[:,0] = 0\n",
    "    g_new[:,-1] = 0\n",
    "    g_new[0,:] = 0\n",
    "    g_new[-1,:] = 0\n",
    "\n",
    "    return f_new, g_new\n",
    "```"
   ]
  },
  {
   "cell_type": "code",
   "execution_count": null,
   "metadata": {
    "id": "E3THt49VuRSc"
   },
   "outputs": [],
   "source": []
  }
 ],
 "metadata": {
  "colab": {
   "authorship_tag": "ABX9TyPXUpGt2IIIMzpIfhONePaw",
   "collapsed_sections": [],
   "name": "Review-2",
   "provenance": []
  },
  "kernelspec": {
   "display_name": "Python 3",
   "language": "python",
   "name": "python3"
  },
  "language_info": {
   "codemirror_mode": {
    "name": "ipython",
    "version": 3
   },
   "file_extension": ".py",
   "mimetype": "text/x-python",
   "name": "python",
   "nbconvert_exporter": "python",
   "pygments_lexer": "ipython3",
   "version": "3.7.0"
  }
 },
 "nbformat": 4,
 "nbformat_minor": 1
}
