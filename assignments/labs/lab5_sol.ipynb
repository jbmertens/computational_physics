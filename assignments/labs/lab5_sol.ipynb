{
 "cells": [
  {
   "cell_type": "markdown",
   "metadata": {},
   "source": [
    "# Lab 05 : Problem Solving\n",
    "\n",
    "This lab involves a more open-ended study of a system. Obtaining a solution will require several numerical techniques we have encountered so far, including integration, solving differential equations, and optimization.\n",
    "\n",
    "## Initialization\n",
    "\n",
    "As always you should add initialization to the top of your notebook."
   ]
  },
  {
   "cell_type": "code",
   "execution_count": 2,
   "metadata": {
    "nbgrader": {
     "grade": true,
     "grade_id": "cell-ecda389af0994d91",
     "locked": false,
     "points": 0,
     "schema_version": 3,
     "solution": true
    }
   },
   "outputs": [],
   "source": [
    "### BEGIN SOLUTION\n",
    "import numpy as np\n",
    "import scipy.integrate as integ\n",
    "import scipy.optimize as opt\n",
    "import scipy.interpolate as interp\n",
    "import matplotlib.pyplot as plt\n",
    "%matplotlib inline\n",
    "# Globally adjust plot styling\n",
    "import matplotlib as mpl\n",
    "mpl.rc('xtick', direction='in', top=True)\n",
    "mpl.rc('ytick', direction='in', right=True)\n",
    "mpl.rc('xtick.minor', visible=True)\n",
    "mpl.rc('ytick.minor', visible=True)\n",
    "### END SOLUTION"
   ]
  },
  {
   "cell_type": "markdown",
   "metadata": {},
   "source": [
    "We will put into practice a number of ideas we have learned.  Here you are given a problem you should be able to solve using the numerical methods covered in the course so far. It will be your job to figure out how to solve the problem, *clearly document* your solution, and implement it.  You should use this lab as an opportunity to\n",
    "\n",
    "1. further develop familiarity with tools and methods from earlier assignments,\n",
    "2. practice documenting your code, and \n",
    "3. develop your problem solving skills.\n",
    "\n",
    "That being said, you should not spend too much time in a rut; ask for help if you get stuck!"
   ]
  },
  {
   "cell_type": "markdown",
   "metadata": {},
   "source": [
    "The Korteweg–de Vries (KdV) equation approximately describes the amplitude of waves in certain one-dimensional systems, for example the height of water waves in a shallow trough.  There is a class of static solutions to this equation where waves will hold their shape while the system is not disrupted.  In the real world, the KdV equation includes time dependence - a more difficult problem we will not examine yet.  However, you have likely seem some examples of static wave configurations in flowing water, such as stationary ripples in a creek or stream.  Extreme examples of this are even [surfable](https://www.youtube.com/watch?v=g6f8oLu8t8M)!\n",
    "\n",
    "The KdV equation for the height of a wave, $h(x)$, as a function of position along a trough, $x$, is given by\n",
    "\n",
    "$$ \\frac{\\mathrm{d}^3h(x)}{\\mathrm{d}x^3} + 6 h(x) \\frac{\\mathrm{d}h(x)}{\\mathrm{d}x} = 0. $$\n",
    "\n",
    "Your goals are as follows:\n",
    "\n",
    "1. Solve the differential equation in the range $x=0$ to $x=16$ subject to the initial conditions at $x=0$\n",
    "$$ h = 0.2, \\quad \\frac{\\mathrm{d}h}{\\mathrm{d}x} = 0, \\quad \\frac{\\mathrm{d}^2 h}{\\mathrm{d}x^2} = 0.1.$$\n",
    "2. Produce a nice plot of the results, $h(x)$ vs $x$.\n",
    "3. You will notice that the resulting function seems periodic. What is the period of the oscillations of this function? Here the period means the $x$ distance between adjacent maxima or minima.\n",
    "4. Determine the minimim, maximum, and average wave height. Note that the average is not necessarily the average of the min and the max. Print these results.\n",
    "5. Provide an estimate for uncertainty in your calculation of the average wave height. This estimate should account for error introduced during different steps of the calculation."
   ]
  },
  {
   "cell_type": "markdown",
   "metadata": {},
   "source": [
    "Below, provide documentation for your solution technique.  Clearly describe the necessary ingredients and solution process *without* using code. Document your solution using Markdown and LaTeX as needed."
   ]
  },
  {
   "cell_type": "markdown",
   "metadata": {
    "nbgrader": {
     "grade": true,
     "grade_id": "cell-6045305489b69876",
     "locked": false,
     "points": 1,
     "schema_version": 3,
     "solution": true
    }
   },
   "source": [
    "```### YOUR ANSWER HERE```\n",
    "\n",
    "The KdV equation can be represented by the first order system of equations:\n",
    "\n",
    "\\begin{align}\n",
    "\\frac{\\mathrm{d}h}{\\mathrm{d}x} &= g, \\\\\n",
    "\\frac{\\mathrm{d}g}{\\mathrm{d}x} &= f, \\\\\n",
    "\\frac{\\mathrm{d}f}{\\mathrm{d}x} &= -6hg .\n",
    "\\end{align}\n",
    "\n",
    "Letting `y = [` $h$, $g$, $f$ `]` so that the initial conditions are `y0 = [0.2, 0.0, 0.1]` we can solve for $h(x)$ using `solve_ivp`.\n",
    "\n",
    "Given the table of values for $h(x)$, $g(x)$, and $f(x)$ that result from solving the system of equations, we can determine the period by finding the difference between the positions of the extrema.  We will find the locations of the first minimum and first two maximum using a spline of the derivative of $h(x)$ and a root finder (though we have now solved this type of problem multiple times in multiple ways so many other techniques could be employed).  Note that our system of first order differential equations contains the first derivative of $h(x)$, which we have called $g(x)$, so we use that for constructing the spline required for finding the extrema. Once we have the locations we can construct a spline of $h(x)$ to find the values of the minimum, maximum, and average."
   ]
  },
  {
   "cell_type": "markdown",
   "metadata": {},
   "source": [
    "Next provide the code implementing your solution."
   ]
  },
  {
   "cell_type": "code",
   "execution_count": 48,
   "metadata": {
    "nbgrader": {
     "grade": true,
     "grade_id": "cell-fce8294c21513274",
     "locked": false,
     "points": 1.5,
     "schema_version": 3,
     "solution": true
    }
   },
   "outputs": [
    {
     "name": "stdout",
     "output_type": "stream",
     "text": [
      "\n",
      "The KdV wave solution properties are as follows:\n",
      "Wave period: 4.962095739441938 +/- 9.36122290795538e-11,\n",
      "Max wave height: 0.3358898936679189 +/- 6.130020380190615e-10,\n",
      "Min wave height: 0.20000000040385651 +/- 3.676138282671104e-10,\n",
      "Avg wave height: 0.26650627220019496 +/- 4.682026988334087e-11\n"
     ]
    },
    {
     "data": {
      "image/png": "[encoded data removed]",
      "text/plain": [
       "<Figure size 432x288 with 1 Axes>"
      ]
     },
     "metadata": {
      "needs_background": "light"
     },
     "output_type": "display_data"
    }
   ],
   "source": [
    "### BEGIN SOLUTION\n",
    "def KdV_func(x, y) :\n",
    "    \"\"\"System of first order differential equations representing the KdV equation.\n",
    "    Here we choose the ordering for y:\n",
    "    y[0] = h(x)\n",
    "    y[1] = g(x) [first derivative of h]\n",
    "    y[2] = f(x) [second derivative of h]\n",
    "    \"\"\"\n",
    "    dydx = np.zeros_like(y)\n",
    "    dydx[0] = y[1]\n",
    "    dydx[1] = y[2]\n",
    "    dydx[2] = -6.0*y[0]*y[1]\n",
    "    return dydx\n",
    "\n",
    "\n",
    "def average_wave_height(tol, plot=False) :\n",
    "    \"\"\"Function to return the average wave height, supplying a\n",
    "    specific tolerance to different routines\n",
    "    \"\"\"\n",
    "\n",
    "    # Initial conditions following the order in KdV_func\n",
    "    y0 = np.array([0.2, 0.0, 0.1])\n",
    "    # Range for solution.\n",
    "    (xmin, xmax) = (0.0, 16.0)\n",
    "    \n",
    "    # Solve the KdV equation\n",
    "    KdV_sol = integ.solve_ivp(KdV_func, (xmin, xmax), y0,\n",
    "                              vectorized=True, atol=tol, rtol=tol)\n",
    "\n",
    "    # Spline for the height.\n",
    "    KdV_interp = interp.InterpolatedUnivariateSpline(KdV_sol.t, KdV_sol.y[0])\n",
    "    \n",
    "    # Spline for the derivative.  We will use this to find the extrema.\n",
    "    # We have seen other ways of doing this.\n",
    "    KdV_deriv = interp.InterpolatedUnivariateSpline(KdV_sol.t, KdV_sol.y[1])\n",
    "    \n",
    "    # Find the extrema.  We do NOT assume x=0 is a minimum.\n",
    "    max1 = opt.brentq(KdV_deriv, 2, 4, xtol=tol, rtol=tol)\n",
    "    min1 = opt.brentq(KdV_deriv, 4, 6, xtol=tol, rtol=tol)\n",
    "    max2 = opt.brentq(KdV_deriv, 6, 8, xtol=tol, rtol=tol)\n",
    "\n",
    "\n",
    "    hmin = KdV_interp(min1)\n",
    "    hmax = KdV_interp(max1)\n",
    "\n",
    "    KdV_integ, err = integ.quad(KdV_interp, max1, max2)\n",
    "    havg = KdV_integ / (max2-max1)\n",
    "    \n",
    "    # Create a simple plot\n",
    "    if plot:\n",
    "        plt.plot(KdV_sol.t, KdV_sol.y[0], 'b-')\n",
    "        plt.hlines(havg, xmin, xmax, linestyles='dotted', label='Average')\n",
    "        plt.hlines(hmin, xmin, xmax, linestyles='dotted', label='Average')\n",
    "        plt.hlines(hmax, xmin, xmax, linestyles='dotted', label='Average')\n",
    "        plt.xlabel(\"$x$\")\n",
    "        plt.ylabel('$h(x)$')\n",
    "        plt.title('KdV Solution')\n",
    "        plt.minorticks_on()\n",
    "    \n",
    "    return {\n",
    "        \"hmax\": hmax,\n",
    "        \"hmin\": hmin,\n",
    "        \"period\": max2-max1,\n",
    "        \"havg\": havg\n",
    "    }\n",
    "\n",
    "\n",
    "# Get the wave properties with two different tolerances\n",
    "wave11 = average_wave_height(1.0e-11)\n",
    "wave12 = average_wave_height(1.0e-12, plot=True)\n",
    "\n",
    "# Compare values, and use the differences as an estimate of the error.\n",
    "# Note that this is, essentially, an *estimate*, and the true error may\n",
    "# be much larger.\n",
    "      \n",
    "print(f\"\"\"\n",
    "The KdV wave solution properties are as follows:\n",
    "Wave period: {wave11['period']} +/- {np.abs(wave11['period']-wave12['period'])},\n",
    "Max wave height: {wave11['hmax']} +/- {np.abs(wave11['hmax']-wave12['hmax'])},\n",
    "Min wave height: {wave11['hmin']} +/- {np.abs(wave11['hmin']-wave12['hmin'])},\n",
    "Avg wave height: {wave11['havg']} +/- {np.abs(wave11['havg']-wave12['havg'])}\"\"\")\n",
    "\n",
    "### END SOLUTION"
   ]
  },
  {
   "cell_type": "markdown",
   "metadata": {},
   "source": [
    "## Member Participation\n",
    "\n",
    "See Lab 1 for instructions on turning in labs. In the following cell enter the names for each student in the group who partcipated in this lab."
   ]
  },
  {
   "cell_type": "markdown",
   "metadata": {},
   "source": []
  }
 ],
 "metadata": {
  "anaconda-cloud": {},
  "authors": [
   {
    "name": "Craig J Copi",
    "semester": "Spring 2019"
   }
  ],
  "celltoolbar": "Create Assignment",
  "kernelspec": {
   "display_name": "Python 3",
   "language": "python",
   "name": "python3"
  },
  "language_info": {
   "codemirror_mode": {
    "name": "ipython",
    "version": 3
   },
   "file_extension": ".py",
   "mimetype": "text/x-python",
   "name": "python",
   "nbconvert_exporter": "python",
   "pygments_lexer": "ipython3",
   "version": "3.7.0"
  }
 },
 "nbformat": 4,
 "nbformat_minor": 2
}
