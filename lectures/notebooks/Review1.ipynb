{
 "cells": [
  {
   "cell_type": "markdown",
   "metadata": {},
   "source": [
    "# Midterm Review\n",
    "\n",
    "The goals of this notebook are to review a few basic commands we should know how to use, and problems we might encounter."
   ]
  },
  {
   "cell_type": "markdown",
   "metadata": {},
   "source": [
    "## 1. Precision"
   ]
  },
  {
   "cell_type": "code",
   "execution_count": 210,
   "metadata": {},
   "outputs": [
    {
     "name": "stdout",
     "output_type": "stream",
     "text": [
      "0.12345 rounded to 3 decimals is 0.123\n"
     ]
    },
    {
     "data": {
      "text/plain": [
       "False"
      ]
     },
     "execution_count": 210,
     "metadata": {},
     "output_type": "execute_result"
    }
   ],
   "source": [
    "# The 'round' function lets me round to a fixed number of decimals,\n",
    "x = 0.12345\n",
    "print(x, \"rounded to 3 decimals is\", round(x, 3))\n",
    "\n",
    "# So why doesn't this work? How might I fix it so the comparison works like \"expected\"?\n",
    "round(.1, 1) + round(.1, 1) + round(.1, 1) == round(.3, 1)"
   ]
  },
  {
   "cell_type": "markdown",
   "metadata": {},
   "source": [
    "## 2. Array slicing"
   ]
  },
  {
   "cell_type": "code",
   "execution_count": 209,
   "metadata": {},
   "outputs": [
    {
     "name": "stdout",
     "output_type": "stream",
     "text": [
      "9\n",
      "[1 2 3]\n"
     ]
    }
   ],
   "source": [
    "import numpy as np\n",
    "# Below I have a 3x3 array. I'd like to extract some information from it.\n",
    "numbers = np.array([\n",
    "    [1, 2, 3],\n",
    "    [4, 5, 6],\n",
    "    [7, 8, 9]\n",
    "])\n",
    "# I can access the element in the second row and column, 9.\n",
    "print(numbers[2][2])\n",
    "# Now I would like the entire first column. This should give me an array [1, 4, 7],\n",
    "# but it is giving me the first row instead. How do I fix this?\n",
    "print(numbers[:][0])"
   ]
  },
  {
   "cell_type": "markdown",
   "metadata": {},
   "source": [
    "## 3. Root finding, optimization"
   ]
  },
  {
   "cell_type": "code",
   "execution_count": 208,
   "metadata": {},
   "outputs": [
    {
     "name": "stdout",
     "output_type": "stream",
     "text": [
      "Root found at: 179.9999999999983\n",
      "Function value at root is: -33539928785573.652\n"
     ]
    }
   ],
   "source": [
    "import scipy.optimize as opt\n",
    "import scipy.special as sf\n",
    "\n",
    "# I'd like to find a minimum.\n",
    "root = opt.brentq(sf.cotdg, 150, 210)\n",
    "print(\"Root found at:\", root)\n",
    "\n",
    "# It found one! So why doesn't it seem to be a root?\n",
    "print(\"Function value at root is:\", sf.cotdg(root))"
   ]
  },
  {
   "cell_type": "markdown",
   "metadata": {},
   "source": [
    "## 4. Interpolation"
   ]
  },
  {
   "cell_type": "code",
   "execution_count": 207,
   "metadata": {},
   "outputs": [
    {
     "ename": "ValueError",
     "evalue": "Order of derivative (n = 4) must be <= order of spline (k = 3)",
     "output_type": "error",
     "traceback": [
      "\u001b[1;31m---------------------------------------------------------------------------\u001b[0m",
      "\u001b[1;31mValueError\u001b[0m                                Traceback (most recent call last)",
      "\u001b[1;32m<ipython-input-207-8ad1f80470ed>\u001b[0m in \u001b[0;36m<module>\u001b[1;34m()\u001b[0m\n\u001b[0;32m     10\u001b[0m \u001b[1;33m\u001b[0m\u001b[0m\n\u001b[0;32m     11\u001b[0m \u001b[1;31m# Compute the 4th derivative of the spline.\u001b[0m\u001b[1;33m\u001b[0m\u001b[1;33m\u001b[0m\u001b[0m\n\u001b[1;32m---> 12\u001b[1;33m \u001b[0mdfn\u001b[0m \u001b[1;33m=\u001b[0m \u001b[0mifn\u001b[0m\u001b[1;33m.\u001b[0m\u001b[0mderivative\u001b[0m\u001b[1;33m(\u001b[0m\u001b[1;36m4\u001b[0m\u001b[1;33m)\u001b[0m\u001b[1;33m\u001b[0m\u001b[0m\n\u001b[0m\u001b[0;32m     13\u001b[0m \u001b[1;31m# Hm, What is going on? What things could I try to work around this? (Don't worry about actually doing so.)\u001b[0m\u001b[1;33m\u001b[0m\u001b[1;33m\u001b[0m\u001b[0m\n",
      "\u001b[1;32m~\\Anaconda3\\lib\\site-packages\\scipy\\interpolate\\fitpack2.py\u001b[0m in \u001b[0;36mderivative\u001b[1;34m(self, n)\u001b[0m\n\u001b[0;32m    459\u001b[0m \u001b[1;33m\u001b[0m\u001b[0m\n\u001b[0;32m    460\u001b[0m         \"\"\"\n\u001b[1;32m--> 461\u001b[1;33m         \u001b[0mtck\u001b[0m \u001b[1;33m=\u001b[0m \u001b[0mfitpack\u001b[0m\u001b[1;33m.\u001b[0m\u001b[0msplder\u001b[0m\u001b[1;33m(\u001b[0m\u001b[0mself\u001b[0m\u001b[1;33m.\u001b[0m\u001b[0m_eval_args\u001b[0m\u001b[1;33m,\u001b[0m \u001b[0mn\u001b[0m\u001b[1;33m)\u001b[0m\u001b[1;33m\u001b[0m\u001b[0m\n\u001b[0m\u001b[0;32m    462\u001b[0m         \u001b[1;32mreturn\u001b[0m \u001b[0mUnivariateSpline\u001b[0m\u001b[1;33m.\u001b[0m\u001b[0m_from_tck\u001b[0m\u001b[1;33m(\u001b[0m\u001b[0mtck\u001b[0m\u001b[1;33m,\u001b[0m \u001b[0mself\u001b[0m\u001b[1;33m.\u001b[0m\u001b[0mext\u001b[0m\u001b[1;33m)\u001b[0m\u001b[1;33m\u001b[0m\u001b[0m\n\u001b[0;32m    463\u001b[0m \u001b[1;33m\u001b[0m\u001b[0m\n",
      "\u001b[1;32m~\\Anaconda3\\lib\\site-packages\\scipy\\interpolate\\fitpack.py\u001b[0m in \u001b[0;36msplder\u001b[1;34m(tck, n)\u001b[0m\n\u001b[0;32m    655\u001b[0m         \u001b[1;32mreturn\u001b[0m \u001b[0mtck\u001b[0m\u001b[1;33m.\u001b[0m\u001b[0mderivative\u001b[0m\u001b[1;33m(\u001b[0m\u001b[0mn\u001b[0m\u001b[1;33m)\u001b[0m\u001b[1;33m\u001b[0m\u001b[0m\n\u001b[0;32m    656\u001b[0m     \u001b[1;32melse\u001b[0m\u001b[1;33m:\u001b[0m\u001b[1;33m\u001b[0m\u001b[0m\n\u001b[1;32m--> 657\u001b[1;33m         \u001b[1;32mreturn\u001b[0m \u001b[0m_impl\u001b[0m\u001b[1;33m.\u001b[0m\u001b[0msplder\u001b[0m\u001b[1;33m(\u001b[0m\u001b[0mtck\u001b[0m\u001b[1;33m,\u001b[0m \u001b[0mn\u001b[0m\u001b[1;33m)\u001b[0m\u001b[1;33m\u001b[0m\u001b[0m\n\u001b[0m\u001b[0;32m    658\u001b[0m \u001b[1;33m\u001b[0m\u001b[0m\n\u001b[0;32m    659\u001b[0m \u001b[1;33m\u001b[0m\u001b[0m\n",
      "\u001b[1;32m~\\Anaconda3\\lib\\site-packages\\scipy\\interpolate\\_fitpack_impl.py\u001b[0m in \u001b[0;36msplder\u001b[1;34m(tck, n)\u001b[0m\n\u001b[0;32m   1201\u001b[0m     \u001b[1;32mif\u001b[0m \u001b[0mn\u001b[0m \u001b[1;33m>\u001b[0m \u001b[0mk\u001b[0m\u001b[1;33m:\u001b[0m\u001b[1;33m\u001b[0m\u001b[0m\n\u001b[0;32m   1202\u001b[0m         raise ValueError((\"Order of derivative (n = %r) must be <= \"\n\u001b[1;32m-> 1203\u001b[1;33m                           \"order of spline (k = %r)\") % (n, tck[2]))\n\u001b[0m\u001b[0;32m   1204\u001b[0m \u001b[1;33m\u001b[0m\u001b[0m\n\u001b[0;32m   1205\u001b[0m     \u001b[1;31m# Extra axes for the trailing dims of the `c` array:\u001b[0m\u001b[1;33m\u001b[0m\u001b[1;33m\u001b[0m\u001b[0m\n",
      "\u001b[1;31mValueError\u001b[0m: Order of derivative (n = 4) must be <= order of spline (k = 3)"
     ]
    }
   ],
   "source": [
    "import numpy as np\n",
    "import scipy.interpolate as interp\n",
    "\n",
    "# Let's generate some random data\n",
    "x = np.arange(10)\n",
    "y = np.random.rand(10)\n",
    "\n",
    "# Construct a spline, and its derivative.\n",
    "ifn = interp.InterpolatedUnivariateSpline(x, y)\n",
    "\n",
    "# Compute the 4th derivative of the spline.\n",
    "dfn = ifn.derivative(4)\n",
    "# Hm, What is going on? What things could I try to work around this? (Don't worry about actually doing so.)"
   ]
  },
  {
   "cell_type": "markdown",
   "metadata": {},
   "source": [
    "## 5. Linear Systems"
   ]
  },
  {
   "cell_type": "code",
   "execution_count": 206,
   "metadata": {},
   "outputs": [
    {
     "name": "stdout",
     "output_type": "stream",
     "text": [
      "The product A@x-b for x = [0.2 0.  0.4] is [0.0000000e+00 0.0000000e+00 4.4408921e-16]\n"
     ]
    },
    {
     "name": "stderr",
     "output_type": "stream",
     "text": [
      "C:\\Users\\James\\Anaconda3\\lib\\site-packages\\ipykernel_launcher.py:19: LinAlgWarning: scipy.linalg.solve\n",
      "Ill-conditioned matrix detected. Result is not guaranteed to be accurate.\n",
      "Reciprocal condition number9.251859e-18\n"
     ]
    },
    {
     "data": {
      "text/plain": [
       "array([0. , 0. , 0.5])"
      ]
     },
     "execution_count": 206,
     "metadata": {},
     "output_type": "execute_result"
    }
   ],
   "source": [
    "import numpy as np\n",
    "import scipy.linalg as la\n",
    "\n",
    "# Suppose I am trying to solve Ax = b for x, given:\n",
    "A = np.array([\n",
    "    [1,4,2],\n",
    "    [2,1,4],\n",
    "    [3,5,6]\n",
    "])\n",
    "b = np.array([1, 2, 3])\n",
    "\n",
    "# I know a solution for b exists,\n",
    "x = np.array([0.2, 0, 0.4])\n",
    "print(\"The product A@x-b for x =\", sol, \"is\", A@x-b)\n",
    "# This seems to be a valid solution.\n",
    "\n",
    "# But, I get an error when I try to ask Python to solve this system of equations.\n",
    "# What is going on? How can I \"work around\" this problem?\n",
    "la.solve(A, b)"
   ]
  },
  {
   "cell_type": "markdown",
   "metadata": {},
   "source": [
    "## 6. Eigenvalue problems"
   ]
  },
  {
   "cell_type": "code",
   "execution_count": 205,
   "metadata": {},
   "outputs": [
    {
     "name": "stdout",
     "output_type": "stream",
     "text": [
      "la.eigvals gives: [-2.66432541+0.j  1.24712631+0.j  5.4171991 +0.j]\n",
      "la.eigvalsh gives: [-3.10694688  1.19842204  5.90852483]\n"
     ]
    }
   ],
   "source": [
    "import numpy as np\n",
    "import scipy.linalg as la\n",
    "\n",
    "# Consider the matrix A,\n",
    "A = np.array([\n",
    "    [1,2,0],\n",
    "    [2,1,3],\n",
    "    [0,4,2]\n",
    "])\n",
    "\n",
    "# These commands return different eigenvalues. What is going on?\n",
    "print(\"la.eigvals gives:\", la.eigvals(A))\n",
    "print(\"la.eigvalsh gives:\", la.eigvalsh(A))\n",
    "\n",
    "# What form might you expect the below functions to accept?\n",
    "# la.eig_banded\n",
    "# la.eigh_tridiagonal"
   ]
  },
  {
   "cell_type": "markdown",
   "metadata": {},
   "source": [
    "## 7. Least-squares fitting"
   ]
  },
  {
   "cell_type": "code",
   "execution_count": 201,
   "metadata": {},
   "outputs": [
    {
     "data": {
      "text/plain": [
       "<matplotlib.legend.Legend at 0x156a5e04828>"
      ]
     },
     "execution_count": 201,
     "metadata": {},
     "output_type": "execute_result"
    },
    {
     "data": {
      "image/png": "[encoded data removed]",
      "text/plain": [
       "<Figure size 432x288 with 1 Axes>"
      ]
     },
     "metadata": {
      "needs_background": "light"
     },
     "output_type": "display_data"
    }
   ],
   "source": [
    "import numpy as np\n",
    "import scipy.optimize as opt\n",
    "\n",
    "# Here is some random data\n",
    "np.random.seed(8)\n",
    "x = np.random.rand(20) * 2\n",
    "a1 = 1.4\n",
    "def ymodel(x, a1) :\n",
    "    return np.sin(a1*x)**2 + a2*np.cos(a3*x)**2\n",
    "\n",
    "ytrue = ymodel(x, a1)\n",
    "sigma_y = 0.2\n",
    "y = ytrue + sigma_y*np.random.randn(len(ytrue))\n",
    "\n",
    "# Let's try to fit with a model.\n",
    "(p, C) = opt.curve_fit(ymodel, x, y, p0=(0), absolute_sigma=True)\n",
    "\n",
    "fig = plt.figure()\n",
    "ax = fig.add_subplot(111)\n",
    "ax.errorbar(x, y, yerr=sigma_y, fmt='ko', label='Data')\n",
    "ax.plot(xfine, ymodel(xfine, a1), 'k-', label='True Model')\n",
    "ax.plot(xfine, ymodel(xfine, *p), 'r--', label='Best Fit')\n",
    "ax.legend(numpoints=1, loc='best')\n",
    "\n",
    "# Hm, what went wrong? How can we fix this?"
   ]
  }
 ],
 "metadata": {
  "kernelspec": {
   "display_name": "Python 3",
   "language": "python",
   "name": "python3"
  },
  "language_info": {
   "codemirror_mode": {
    "name": "ipython",
    "version": 3
   },
   "file_extension": ".py",
   "mimetype": "text/x-python",
   "name": "python",
   "nbconvert_exporter": "python",
   "pygments_lexer": "ipython3",
   "version": "3.7.0"
  }
 },
 "nbformat": 4,
 "nbformat_minor": 2
}
