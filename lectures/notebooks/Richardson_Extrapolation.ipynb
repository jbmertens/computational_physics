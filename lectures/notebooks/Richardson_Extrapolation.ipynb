{
 "cells": [
  {
   "cell_type": "markdown",
   "metadata": {},
   "source": [
    "# Numerical Derivatives and Richardson Extrapolation\n",
    "\n",
    "Numerical derivatives are used as the basis for many algorithms. Although SciPy does contain a routine for calculating the $n^{\\mathrm{th}}$ derivative of a function using center differencing (called `derivative` in `scipy.misc`) we will not be using it.  Center differencing for first order derivatives is simple enough for us to use directly and we will focus on Richardson extrapolation in this example."
   ]
  },
  {
   "cell_type": "markdown",
   "metadata": {},
   "source": [
    "## Initialization"
   ]
  },
  {
   "cell_type": "code",
   "execution_count": 1,
   "metadata": {},
   "outputs": [],
   "source": [
    "import numpy as np\n",
    "import matplotlib.pyplot as plt\n",
    "%matplotlib inline\n",
    "# Globally fix plot styling\n",
    "import matplotlib as mpl\n",
    "mpl.rc('xtick', direction='in', top=True)\n",
    "mpl.rc('ytick', direction='in', right=True)\n",
    "mpl.rc('xtick.minor', visible=True)\n",
    "mpl.rc('ytick.minor', visible=True)"
   ]
  },
  {
   "cell_type": "markdown",
   "metadata": {},
   "source": [
    "## Richardson Extrapolation\n",
    "\n",
    "Richards extrapolation is a general approach to improve the accuracy of an algorithm dependent on a step size $\\Delta x$.  While we will study it for center differencing below, it can be applied to a wide class of algorithms.  We will see it again in the near future under the name \"Romberg integration\".\n",
    "\n",
    "### General Discussion\n",
    "\n",
    "Suppose we have an algorithm that calculates some quantity as a function of step size, $\\Delta x$, to some accuracy $\\mathcal{O}(\\Delta x^p)$.  We can think of this algorithm as a function of the step size, $F_p(\\Delta x)$.  To leading order we can write this function as\n",
    "\n",
    "$$ F_p(\\Delta x) = a_0 + a_p \\Delta x^p + \\mathcal{O}(\\Delta x^r). $$\n",
    "\n",
    "Here, $a_0$ is the \"true value\" which we are looking for, and $a_p$ is an error that causes us to deviate from the true value.  The error is $\\Delta x^p$, that is, this is the leading order accuracy of our algorithm.  There may also be other errors in our algorithm of order $\\Delta x^r$, $r > p$.\n",
    "\n",
    "Formally, the \"true\" value of $F_p$ corresponds to the limit where $\\Delta x \\rightarrow 0$, or $a_0=F_p(0)$ so if we could evaluate $F_p(0)$ we would be done. For Richardson extrapolation, we will instead evalutate $F_p$ for two values of $\\Delta x$, and attempt to derive a more accurate expression that eliminates the error $\\Delta x^p$.\n",
    "\n",
    "Notice that if we ignore the terms $\\mathcal{O}(\\Delta x^r)$ in the expression for $F_p(\\Delta x)$ above, then we have a linear equation in two parameters, $a_0$ and $a_p$.  If we can also compute $F_p(\\Delta x)$ for some other argument, then we would have two equations for two unknowns which we could solve.  Let $q$ be some number and apply the algorithm for a step size $\\Delta x/q$, in addition to the step size $\\Delta x$.  With this we then know $F_p(\\Delta x)$ and $F_p(\\Delta x/q)$, that is, we have the two equations we needed.  Solving these equations we find\n",
    "\n",
    "$$ a_0 = F_p(\\Delta x) - \\frac{F_p(\\Delta x) - F_p(\\Delta x/q)}{1-q^{-p}} + \\mathcal{O}(\\Delta x^r). $$\n",
    "\n",
    "This is our estimate for the true value.\n",
    "\n",
    "Of course this estimate has an error that grows as $\\Delta x^r$.  What do we do?  We apply Richardson extrapolation again.  By repeatedly applying this procedure we can remove higher and higher order errors producing a more an more accurate result. (In principle, of course in practice a computer has limited precision so this will eventually fail.)"
   ]
  },
  {
   "attachments": {},
   "cell_type": "markdown",
   "metadata": {},
   "source": [
    "### Center Differencing\n",
    "\n",
    "The general discussion is nice, but rather than continue talking in generalities let us look at a specific example to help make sense of the approach.  For center differencing we calculate the derivative of a function, $f(x)$, at the point $x$ using\n",
    "\n",
    "$$ f'(x) = \\frac{f(x+\\Delta x)-f(x-\\Delta x)}{2\\Delta x} + \\mathcal{O}(\\Delta x^2) + \\mathcal{O}(\\Delta x^4) + \\cdots. $$\n",
    "\n",
    "In the notation from above this means $p=2$ and $r=4$ and we can write our algorithm as a function of step size $\\Delta x$ as\n",
    "\n",
    "$$ F_2(\\Delta x) = \\frac{f(x+\\Delta x)-f(x-\\Delta x)}{2\\Delta x}. $$\n",
    "\n",
    "This estimates the first derivative with an error of $\\mathcal{O}(\\Delta x^2)$, so it has the form\n",
    "\n",
    "$$ F_2(\\Delta x) = a_0 + a_2 \\Delta x^2. $$\n",
    "\n",
    "Although in principle any $q$ could be chosen, it is convenient to choose $q=2$ so that we evaluate $F_2(\\Delta x)$ and $F_2(\\Delta x/2)$ using the center differencing equation. This means that\n",
    "\n",
    "$$ F_2\\!\\left( \\frac{\\Delta x}{2} \\right) = \\frac{f(x+\\Delta x/2)-f(x-\\Delta x/2)}{\\Delta x}. $$\n",
    "\n",
    "With these values we then get an estimate for the derivative as given in the general discussion,\n",
    "\n",
    "$$ a_0 = F_2(\\Delta x) - \\frac{F_2(\\Delta x)-F_2(\\Delta x/2)}{1- 1/4} \\equiv F_4(\\Delta x). $$\n",
    "\n",
    "As noted, we call this estimate $F_4(\\Delta x)$ and we can improve it by again applying Richardson extrapolation.  For center differencing we saw that our first estimate will have a residual error $\\mathcal{O}(\\Delta x^4)$.  Thus we can write it as\n",
    "\n",
    "$$ F_4(h) = F_2(\\Delta x) + a_4 \\Delta x^4. $$\n",
    "\n",
    "An estimate for $a_4$ is then given by\n",
    "\n",
    "$$ a_4 = F_4(\\Delta x) - \\frac{F_4(\\Delta x)-F_4(\\Delta x/2)}{1-1/16} \\equiv F_6(\\Delta x). $$\n",
    "\n",
    "We can then repeat the procedure on $F_6(\\Delta x)$, *etc*.  Notice that to calculate $F_6(\\Delta x)$ we need $F_4(\\Delta x/2)$, how do we calculate this?  This is just another case of the general result we have been using,\n",
    "\n",
    "$$ F_4(\\Delta x/2) = F_2(\\Delta x/2) - \\frac{F_2(\\Delta x/2)-F_2(\\Delta x/4)}{1-1/4}. $$\n",
    "\n",
    "Thus, even if we have a complicated algorithm (unlike center differencing which is very simple and quick to calculate), we can easily improve the accuracy of an estimate."
   ]
  },
  {
   "cell_type": "markdown",
   "metadata": {},
   "source": [
    "## Implementation\n",
    "\n",
    "Here is an implementation of Richardson extrapolation for center differencing.  It sacrifices a little in efficiency for readability."
   ]
  },
  {
   "cell_type": "code",
   "execution_count": 2,
   "metadata": {},
   "outputs": [],
   "source": [
    "def richardson_center (f, z, h, nsteps, args=()) :\n",
    "    \"\"\"Evaluate the first derivative of a function at z, that is f'(z),\n",
    "    using Richardson extrapolation and center differencing.\n",
    "\n",
    "    Returned is the full table of approximations, Fij for j <= i. The\n",
    "    values of Fij for j > i are set to zero.  The final value F[-1,-1]\n",
    "    should be the most accurate estimate.\n",
    "\n",
    "    Parameters\n",
    "    ----------\n",
    "    f : function\n",
    "        Vectorized Python function.\n",
    "        This is the function for which we are estimating the derivative.\n",
    "    z : number\n",
    "        Value at which to evaluate the derivative.\n",
    "    h : number\n",
    "        Initial stepsize.\n",
    "    nsteps : integer\n",
    "        Number of steps to perform.\n",
    "    args : tuple, optional\n",
    "        extra arguments to pass to the function, f.\n",
    "    \"\"\"\n",
    "    # Extra check to allow for args=(1) to be handled properly.  This is a\n",
    "    # technical detail that you do not need to worry about.\n",
    "    if not isinstance(args, (tuple, list, np.ndarray)) :\n",
    "        args = (args,)\n",
    "    # Create a zero filled table for our estimates\n",
    "    F = np.zeros((nsteps,nsteps))\n",
    "    # First column of F is the center differencing estimate.  We can fill this\n",
    "    # without a loop!\n",
    "    harr = h / 2.**np.arange(nsteps)\n",
    "    F[:,0] = (f(z+harr,*args) - f(z-harr,*args)) / (2.*harr)\n",
    "    # Now iterate, unfortunately we do need one loop.  We could\n",
    "    # get rid of the inner loop but the algorithm is a little easier to\n",
    "    # understand if we do not.\n",
    "    for i in range(1,nsteps) :\n",
    "        fact = 0.25\n",
    "        for j in range(1,i+1) :\n",
    "            F[i,j] = F[i-1,j-1] - (F[i-1,j-1] - F[i,j-1])/ (1-fact)\n",
    "            fact *= 0.25\n",
    "    return F"
   ]
  },
  {
   "cell_type": "markdown",
   "metadata": {},
   "source": [
    "## Example 1\n",
    "\n",
    "As a test case consider the function\n",
    "$$ f(x) = \\mathrm{e}^{-x} \\sin x$$\n",
    "which has the derivative\n",
    "$$ f'(x) = -f(x) + \\mathrm{e}^{-x} \\cos x.$$\n",
    "We will calculate the derivative at $x=1$ using a step $\\Delta x=0.9$."
   ]
  },
  {
   "cell_type": "code",
   "execution_count": 12,
   "metadata": {},
   "outputs": [],
   "source": [
    "# Define the function and its derivative\n",
    "def f(x) :\n",
    "    return np.exp(-x)*np.sin(x)\n",
    "\n",
    "def fderiv(x) :\n",
    "    return -f(x) + np.exp(-x)*np.cos(x)"
   ]
  },
  {
   "cell_type": "code",
   "execution_count": 4,
   "metadata": {},
   "outputs": [
    {
     "data": {
      "text/plain": [
       "array([[ 0.02844655,  0.        ,  0.        ,  0.        ,  0.        ,\n",
       "         0.        ],\n",
       "       [-0.07633703, -0.11126489,  0.        ,  0.        ,  0.        ,\n",
       "         0.        ],\n",
       "       [-0.1022064 , -0.11082953, -0.11080051,  0.        ,  0.        ,\n",
       "         0.        ],\n",
       "       [-0.10864868, -0.1107961 , -0.11079387, -0.11079376,  0.        ,\n",
       "         0.        ],\n",
       "       [-0.1102576 , -0.11079391, -0.11079377, -0.11079377, -0.11079377,\n",
       "         0.        ],\n",
       "       [-0.11065973, -0.11079377, -0.11079377, -0.11079377, -0.11079377,\n",
       "        -0.11079377]])"
      ]
     },
     "execution_count": 4,
     "metadata": {},
     "output_type": "execute_result"
    }
   ],
   "source": [
    "# Set up conditions and use Richardson extrapolation.\n",
    "z = 1.0\n",
    "# As always we calculate the stepsize as a number that can be\n",
    "# \"exactly\" represented numerically.\n",
    "h10 = 0.9\n",
    "h = h10 + z\n",
    "h -= z\n",
    "N = 6\n",
    "F = richardson_center(f, z, h, N)\n",
    "F"
   ]
  },
  {
   "cell_type": "markdown",
   "metadata": {},
   "source": [
    "Notice that the result comes back in a two dimensional array.  The first column constains the estimates from center differencing with step sizes halved in each row (\"step\"), and the diagonal the improved estimates from Richardson extrapolation at each step.  We can easily access these elements of the array using array slicing and the `diag` function.\n",
    "\n",
    "To more simply see the results we make a plot.  Notice that Richardson extrapolation happened to get very close to the true value on the second step, which corresponds to $F_4(\\Delta x)$."
   ]
  },
  {
   "cell_type": "code",
   "execution_count": 5,
   "metadata": {},
   "outputs": [
    {
     "data": {
      "image/png": "[encoded data removed]",
      "text/plain": [
       "<Figure size 432x288 with 1 Axes>"
      ]
     },
     "metadata": {
      "needs_background": "light"
     },
     "output_type": "display_data"
    }
   ],
   "source": [
    "nstep = np.arange(N)+1\n",
    "plt.plot(nstep, F[:,0], 'ko', ms=5, label='Center Differencing')\n",
    "plt.plot(nstep, np.diag(F), 'rs', ms=5, label='Richardson Extrapolation')\n",
    "plt.axhline(fderiv(z), color='k', label='True Value')\n",
    "plt.xlim(0.5, nstep[-1]+0.5)\n",
    "plt.legend(loc='best')\n",
    "plt.xlabel('Step')\n",
    "plt.ylabel('Derivative Estimate');"
   ]
  },
  {
   "cell_type": "markdown",
   "metadata": {},
   "source": [
    "### Fractional Errors\n",
    "\n",
    "From the above plot it is hard to gauge the improvements that Richardson extrapolation provide.  Below we plot the fractional errors in the estimates."
   ]
  },
  {
   "cell_type": "code",
   "execution_count": 6,
   "metadata": {},
   "outputs": [
    {
     "data": {
      "image/png": "[encoded data removed]",
      "text/plain": [
       "<Figure size 432x288 with 1 Axes>"
      ]
     },
     "metadata": {
      "needs_background": "light"
     },
     "output_type": "display_data"
    }
   ],
   "source": [
    "cd_err = np.abs(1-F[:,0]/fderiv(z))\n",
    "re_err = np.abs(1-np.diag(F)/fderiv(z))\n",
    "plt.semilogy(nstep, cd_err, 'ko', ms=5, label='Center Differencing')\n",
    "plt.semilogy(nstep, re_err, 'rs', ms=5, label='Richardson Extrapolation')\n",
    "plt.xlim(0.5, nstep[-1]+0.5)\n",
    "plt.legend()\n",
    "plt.xlabel('Step')\n",
    "plt.ylabel('Fractional Error');"
   ]
  },
  {
   "cell_type": "markdown",
   "metadata": {},
   "source": [
    "In general we see that Richardson extrapolation offers significant improvements! This is not always the case, but it is so simple to calculate that if we have gone through the trouble of calculating $F_1$ for various step sizes it would be silly to not combine them using Richardson extrapolation."
   ]
  }
 ],
 "metadata": {
  "anaconda-cloud": {},
  "kernelspec": {
   "display_name": "Python 3",
   "language": "python",
   "name": "python3"
  },
  "language_info": {
   "codemirror_mode": {
    "name": "ipython",
    "version": 3
   },
   "file_extension": ".py",
   "mimetype": "text/x-python",
   "name": "python",
   "nbconvert_exporter": "python",
   "pygments_lexer": "ipython3",
   "version": "3.7.0"
  }
 },
 "nbformat": 4,
 "nbformat_minor": 4
}
