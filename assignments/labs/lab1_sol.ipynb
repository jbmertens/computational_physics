{
 "cells": [
  {
   "cell_type": "markdown",
   "metadata": {},
   "source": [
    "# Lab 1 : An Introduction"
   ]
  },
  {
   "cell_type": "markdown",
   "metadata": {},
   "source": [
    "### Objectives\n",
    "\n",
    "The main purpose of this lab will be to get us working with the tools, working as a group, and ironing out all the details in the process. The same procedure will be used for all the labs! All group members must be able to use Jupyter and submit assignments on their own.  \n",
    "\n",
    "You should think about your work flow for completing assignments, including working with your group, submitting the lab, etc.\n"
   ]
  },
  {
   "cell_type": "markdown",
   "metadata": {},
   "source": [
    "## Structure Overview\n",
    "\n",
    "The labs and homeworks will be structured in a specific way.  There are text cells and code cells.\n",
    "The code cells may already contain code (such as the first code cell below).  You can run this cell as provided and add code as you wish.  In addition it may also contain the code\n",
    "```\n",
    "# YOUR CODE HERE\n",
    "raise NotImplementedError()\n",
    "```\n",
    "This is a placeholder that will raise an error.  You should delete these two lines and replace them with code you have written. You may also occasionally be asked to provide a text reply. In this case, you will need to edit an empty markdown cell, as below,\n"
   ]
  },
  {
   "cell_type": "markdown",
   "metadata": {},
   "source": []
  },
  {
   "cell_type": "markdown",
   "metadata": {},
   "source": [
    "## Good Coding Practices\n",
    "\n",
    "We should always explicitly load the modules we wish to use. Further, we should do this is a way that does not \"pollute the namespace\". We will always do that in this course!\n",
    "\n",
    "As one example of why this is important consider the cosine function. In standard Python the cosine function is not defined. Instead we need to load it from somewhere. There are at least three places would could get it from:\n",
    "\n",
    "1. Python math module: This only operates on single numbers. In our work we will usually want our functions to work on arrays.\n",
    "2. The numpy module: This is the one we want to use and the one that gets loaded automatically in various circumstances.\n",
    "3. The sympy module: This would be the one we wanted if we were doing symbolic manipulations (sadly we will not be doing so this semester).\n",
    "\n",
    "If we were to load all the functions in each of these modules into the default name space and tried to just call the cos function which one do we get? It will depend on which one was loaded most recently! Since we do not want the behavior of our code to depend on the load order of modules or the state of our kernel we should explicitly load the module we want and use the function from that module.\n"
   ]
  },
  {
   "cell_type": "markdown",
   "metadata": {},
   "source": [
    "### Boiler plate\n",
    "\n",
    "At the top of all of our documents we should load all the modules we want to use. This will become standard practice in labs from now on. One thing we will always want is the numpy module. It can be loaded as\n",
    "\n",
    "```\n",
    "import numpy as np\n",
    "```\n",
    "\n",
    "The import command loads a module for us. It creates a namespace with the same name as the module. Thus to access anything defined in the module we would need to prepend it with numpy. (notice there is a 'dot' after the numpy). For example, to access the cosine function we would use numpy.cos. This is a lot of typing. Fortunately we can give it a shorter name (an alias), which is what the as phrase does for us. Here we have renamed numpy to be np so that we can access the cosine function as np.cos.\n",
    "\n",
    "Though we can name our modules anything we want when we import them, there are some standard conventions that have evolved over the years. It is best to use the standard conventions whenever possible. Calling the numpy module np is quite standard, you will find it in almost any modern example online and is what you should always use.\n",
    "\n",
    "### Initialization\n",
    "\n",
    "Initialize your environment by importing all the required modules. For now just import the numpy module. In the future, there may be other modules we need. Those can be added as needed."
   ]
  },
  {
   "cell_type": "code",
   "execution_count": 1,
   "metadata": {},
   "outputs": [],
   "source": [
    "import numpy as np"
   ]
  },
  {
   "cell_type": "markdown",
   "metadata": {},
   "source": [
    "## Defining Functions\n",
    "\n",
    "Defining functions to perform calculations for variable inputs is an essential tool.  Here we will define a function to compute $x^a$ for arbitrary $x$ and $a$.  To begin we want our function to be created as\n",
    "\n",
    "    def mypow(x, a) :\n",
    "\n",
    "Complete the definition of this function by filling in the `Code` cell below.\n",
    "\n",
    "Notes:\n",
    "- Exponentiation is performed using `**`.\n",
    "- Do not forget to `return` your answer from the function.\n",
    "- As mentioned in Homework 1, do not forget to remove the lines\n",
    "```\n",
    "# YOUR CODE HERE\n",
    "raise NotImplementedError()\n",
    "```"
   ]
  },
  {
   "cell_type": "code",
   "execution_count": 2,
   "metadata": {},
   "outputs": [],
   "source": [
    "def mypow(x, a) :\n",
    "### BEGIN SOLUTION\n",
    "    return x**a\n",
    "### END SOLUTION"
   ]
  },
  {
   "cell_type": "markdown",
   "metadata": {},
   "source": [
    "Now that it is defined you should test it.  Run your function and verify it correctly calculates $2^2$, $2^3$, $3^2$, and any other cases you want to try.\n",
    "(You should try multiple cases, but only need to leave one of them in the cell below.)"
   ]
  },
  {
   "cell_type": "code",
   "execution_count": 3,
   "metadata": {},
   "outputs": [
    {
     "data": {
      "text/plain": [
       "8"
      ]
     },
     "execution_count": 3,
     "metadata": {},
     "output_type": "execute_result"
    }
   ],
   "source": [
    "### BEGIN SOLUTION\n",
    "mypow(2, 3)\n",
    "### END SOLUTION"
   ]
  },
  {
   "cell_type": "markdown",
   "metadata": {},
   "source": [
    "A function can have default values, that is, optional arguments that do not need to be specified when the function is called.  Suppose we *typically* want to calculate $x^2$.  In this case it would be tedious to constantly set $a$ to 2 every time we call `mypow`.  To avoid this, we can set a default value for $a$ when we define the function.  To do so below we modify the way we define the function.  Now we start with\n",
    "\n",
    "    def mypow(x, a=2) :\n",
    "    \n",
    "Redefine the `mypow` function using the default value for `a`.  Afterward add a new `Code` cell below the function definition and run a few tests.  You should run tests like `mypow(2)` and `mypow(2,3)`, *etc.* to see how they behave.\n",
    "\n",
    "Note: The code in the body of our function does **not change**.  Only how we create the function (the function signature) changes."
   ]
  },
  {
   "cell_type": "code",
   "execution_count": 4,
   "metadata": {},
   "outputs": [],
   "source": [
    "def mypow(x, a=2) :\n",
    "### BEGIN SOLUTION\n",
    "    return x**a\n",
    "### END SOLUTION"
   ]
  },
  {
   "cell_type": "markdown",
   "metadata": {},
   "source": [
    "The function you wrote works for more than just numbers.  We can also pass an array to it and it will do the \"right thing\" with no extra work required by us!  Let $x$ be an array of 10 values from 0 to 2.  Create this array and pass it to `mypow`. You should find it returns an array of the squares of all the values you passed in."
   ]
  },
  {
   "cell_type": "code",
   "execution_count": 5,
   "metadata": {},
   "outputs": [
    {
     "data": {
      "text/plain": [
       "array([0.        , 0.04938272, 0.19753086, 0.44444444, 0.79012346,\n",
       "       1.2345679 , 1.77777778, 2.41975309, 3.16049383, 4.        ])"
      ]
     },
     "execution_count": 5,
     "metadata": {},
     "output_type": "execute_result"
    }
   ],
   "source": [
    "### BEGIN SOLUTION\n",
    "x = np.linspace(0, 2, 10)\n",
    "mypow(x)\n",
    "### END SOLUTION"
   ]
  },
  {
   "cell_type": "markdown",
   "metadata": {},
   "source": [
    "This would also \"magically\" work if $x$ were a single number and $a$ were an array. (Feel free to test this yourself). Unfortunately, the function does not \"magically\" work if both $x$ and $a$ are arrays of different lengths.  (If they are the same length then the function would not produce an error.  Whether it produces something useful or not depends on your expectations!) For example, let $a$ be an array from 1 to 4 in steps of 1.  Using this $a$ and the $x$ array from the previous part try to run `mypow` and see what happens.  You should get an error."
   ]
  },
  {
   "cell_type": "code",
   "execution_count": 6,
   "metadata": {},
   "outputs": [
    {
     "ename": "ValueError",
     "evalue": "operands could not be broadcast together with shapes (10,) (4,) ",
     "output_type": "error",
     "traceback": [
      "\u001b[1;31m---------------------------------------------------------------------------\u001b[0m",
      "\u001b[1;31mValueError\u001b[0m                                Traceback (most recent call last)",
      "\u001b[1;32m<ipython-input-6-a183b059ba87>\u001b[0m in \u001b[0;36m<module>\u001b[1;34m()\u001b[0m\n\u001b[0;32m      1\u001b[0m \u001b[1;31m### BEGIN SOLUTION\u001b[0m\u001b[1;33m\u001b[0m\u001b[1;33m\u001b[0m\u001b[0m\n\u001b[0;32m      2\u001b[0m \u001b[0ma\u001b[0m \u001b[1;33m=\u001b[0m \u001b[0mnp\u001b[0m\u001b[1;33m.\u001b[0m\u001b[0marange\u001b[0m\u001b[1;33m(\u001b[0m\u001b[1;36m1\u001b[0m\u001b[1;33m,\u001b[0m\u001b[1;36m5\u001b[0m\u001b[1;33m)\u001b[0m\u001b[1;33m\u001b[0m\u001b[0m\n\u001b[1;32m----> 3\u001b[1;33m \u001b[0mmypow\u001b[0m\u001b[1;33m(\u001b[0m\u001b[0mx\u001b[0m\u001b[1;33m,\u001b[0m\u001b[0ma\u001b[0m\u001b[1;33m)\u001b[0m\u001b[1;33m\u001b[0m\u001b[0m\n\u001b[0m\u001b[0;32m      4\u001b[0m \u001b[1;31m### END SOLUTION\u001b[0m\u001b[1;33m\u001b[0m\u001b[1;33m\u001b[0m\u001b[0m\n",
      "\u001b[1;32m<ipython-input-4-e6440904e1fe>\u001b[0m in \u001b[0;36mmypow\u001b[1;34m(x, a)\u001b[0m\n\u001b[0;32m      1\u001b[0m \u001b[1;32mdef\u001b[0m \u001b[0mmypow\u001b[0m\u001b[1;33m(\u001b[0m\u001b[0mx\u001b[0m\u001b[1;33m,\u001b[0m \u001b[0ma\u001b[0m\u001b[1;33m=\u001b[0m\u001b[1;36m2\u001b[0m\u001b[1;33m)\u001b[0m \u001b[1;33m:\u001b[0m\u001b[1;33m\u001b[0m\u001b[0m\n\u001b[0;32m      2\u001b[0m \u001b[1;31m### BEGIN SOLUTION\u001b[0m\u001b[1;33m\u001b[0m\u001b[1;33m\u001b[0m\u001b[0m\n\u001b[1;32m----> 3\u001b[1;33m     \u001b[1;32mreturn\u001b[0m \u001b[0mx\u001b[0m\u001b[1;33m**\u001b[0m\u001b[0ma\u001b[0m\u001b[1;33m\u001b[0m\u001b[0m\n\u001b[0m\u001b[0;32m      4\u001b[0m \u001b[1;31m### END SOLUTION\u001b[0m\u001b[1;33m\u001b[0m\u001b[1;33m\u001b[0m\u001b[0m\n",
      "\u001b[1;31mValueError\u001b[0m: operands could not be broadcast together with shapes (10,) (4,) "
     ]
    }
   ],
   "source": [
    "### BEGIN SOLUTION\n",
    "a = np.arange(1,5)\n",
    "mypow(x,a)\n",
    "### END SOLUTION"
   ]
  },
  {
   "cell_type": "markdown",
   "metadata": {},
   "source": [
    "# Sensitivity to Choice of Algorithm\n",
    "\n",
    "Mathematically equivalent equations are **not** all equally good for numerical work.  In fact, the mathematical expressions we use for defining many quantities (derivatives, integrals, *etc.*) are often very poor for numerical work.  Here we will explore this using a simple example."
   ]
  },
  {
   "cell_type": "markdown",
   "metadata": {},
   "source": [
    "## Calculation of $1/3^n$\n",
    "\n",
    "There are many, many ways to calculate $1/3^n$.  Here we will explore two recursion relations. While a rather artificial example, this will help to demonstrate the difference a good algorithm can make!\n",
    "\n",
    "\n",
    "### An aside: division and forcing floating point numbers\n",
    "\n",
    "In Python 3 division of integers that should produce a floating point number will in fact produce a floating point number.  This may seem obvious to you, but it is **not the case in most other (older) languages** and even is not true in Python 2.  In other languages 1/4 = 0, not 0.25, since it is doing integer division and returned the closest integer by truncating the decimal places.  This behavior was changed in Python 3.\n",
    "\n",
    "This can lead to some problems and inconsistencies.  Take for example the code below, where we compute $1/3^n$ directly for a range of $n$."
   ]
  },
  {
   "cell_type": "code",
   "execution_count": 7,
   "metadata": {},
   "outputs": [],
   "source": [
    "N = 50\n",
    "n = np.arange(N+1)\n",
    "result = 1/3.**n"
   ]
  },
  {
   "cell_type": "markdown",
   "metadata": {},
   "source": [
    "Here floating point division is forced, and in fact the `3.**n` is a floating point one, due to the added decimal point. Why is this useful?  Let's check.  Suppose we did not force floating point, then we find the following."
   ]
  },
  {
   "cell_type": "code",
   "execution_count": 8,
   "metadata": {},
   "outputs": [
    {
     "data": {
      "text/plain": [
       "array([ 1.00000000e+00,  3.33333333e-01,  1.11111111e-01,  3.70370370e-02,\n",
       "        1.23456790e-02,  4.11522634e-03,  1.37174211e-03,  4.57247371e-04,\n",
       "        1.52415790e-04,  5.08052634e-05,  1.69350878e-05,  5.64502927e-06,\n",
       "        1.88167642e-06,  6.27225474e-07,  2.09075158e-07,  6.96917194e-08,\n",
       "        2.32305731e-08,  7.74352438e-09,  2.58117479e-09,  8.60391597e-10,\n",
       "       -1.23734368e-09,  5.34639676e-10,  7.59711850e-10, -2.88932427e-09,\n",
       "       -9.63108092e-10,  8.47420189e-10, -1.32483513e-09,  4.92481146e-10,\n",
       "        5.56595627e-10,  9.13290302e-10, -9.89960808e-10,  7.90798710e-10,\n",
       "       -1.99467661e-09, -6.64892204e-10, -4.60739691e-09, -1.53579897e-09,\n",
       "       -5.11932990e-10, -6.38906328e-10, -2.49652539e-09, -8.32175131e-10,\n",
       "        1.44936590e-09,  4.83121967e-10,  5.22290094e-10,  6.90146826e-10,\n",
       "        1.92552793e-08,  6.41842645e-09,  2.13947548e-09,  7.13158494e-10,\n",
       "       -1.13213400e-08, -3.77377999e-09, -1.25792666e-09])"
      ]
     },
     "execution_count": 8,
     "metadata": {},
     "output_type": "execute_result"
    }
   ],
   "source": [
    "1/3**n"
   ]
  },
  {
   "cell_type": "markdown",
   "metadata": {},
   "source": [
    "How can this be negative for large `n`?  If we compare this to `result` we see"
   ]
  },
  {
   "cell_type": "code",
   "execution_count": 9,
   "metadata": {},
   "outputs": [
    {
     "data": {
      "text/plain": [
       "array([1.00000000e+00, 3.33333333e-01, 1.11111111e-01, 3.70370370e-02,\n",
       "       1.23456790e-02, 4.11522634e-03, 1.37174211e-03, 4.57247371e-04,\n",
       "       1.52415790e-04, 5.08052634e-05, 1.69350878e-05, 5.64502927e-06,\n",
       "       1.88167642e-06, 6.27225474e-07, 2.09075158e-07, 6.96917194e-08,\n",
       "       2.32305731e-08, 7.74352438e-09, 2.58117479e-09, 8.60391597e-10,\n",
       "       2.86797199e-10, 9.55990664e-11, 3.18663555e-11, 1.06221185e-11,\n",
       "       3.54070616e-12, 1.18023539e-12, 3.93411796e-13, 1.31137265e-13,\n",
       "       4.37124217e-14, 1.45708072e-14, 4.85693575e-15, 1.61897858e-15,\n",
       "       5.39659528e-16, 1.79886509e-16, 5.99621697e-17, 1.99873899e-17,\n",
       "       6.66246331e-18, 2.22082110e-18, 7.40273701e-19, 2.46757900e-19,\n",
       "       8.22526334e-20, 2.74175445e-20, 9.13918149e-21, 3.04639383e-21,\n",
       "       1.01546461e-21, 3.38488203e-22, 1.12829401e-22, 3.76098004e-23,\n",
       "       1.25366001e-23, 4.17886671e-24, 1.39295557e-24])"
      ]
     },
     "execution_count": 9,
     "metadata": {},
     "output_type": "execute_result"
    }
   ],
   "source": [
    "result"
   ]
  },
  {
   "cell_type": "markdown",
   "metadata": {},
   "source": [
    "Notice this is perfectly well behaved, even for the largest value of `n`.  What went wrong?  The problem is again the finite number of digits that can be stored.  In this case, it is the fact that an integer also only can have a finite number of digits in it, if we try to calculate \"too large\" an integer it overflows, becoming negative.  In other words, we \"accidentally\" set the sign bit.  To check this consider the following."
   ]
  },
  {
   "cell_type": "code",
   "execution_count": 10,
   "metadata": {},
   "outputs": [
    {
     "data": {
      "text/plain": [
       "-794958903"
      ]
     },
     "execution_count": 10,
     "metadata": {},
     "output_type": "execute_result"
    }
   ],
   "source": [
    "3**n[-1]"
   ]
  },
  {
   "cell_type": "markdown",
   "metadata": {},
   "source": [
    "This is a negative number, hence the problem. (Disclaimer: this may not be the wrong sign for you, as some details have been changed in different python versions, but in any case it should be the wrong number!) If we force floating point on the other hand:"
   ]
  },
  {
   "cell_type": "code",
   "execution_count": 11,
   "metadata": {},
   "outputs": [
    {
     "data": {
      "text/plain": [
       "7.178979876918526e+23"
      ]
     },
     "execution_count": 11,
     "metadata": {},
     "output_type": "execute_result"
    }
   ],
   "source": [
    "3.**n[-1]"
   ]
  },
  {
   "cell_type": "markdown",
   "metadata": {},
   "source": [
    "We see it is now positive.  It is **not exact**.  We cannot store 19 digits so this value has been truncated.\n",
    "\n",
    "To further complicate things consider the following."
   ]
  },
  {
   "cell_type": "code",
   "execution_count": 3,
   "metadata": {
    "scrolled": true
   },
   "outputs": [
    {
     "ename": "NameError",
     "evalue": "name 'N' is not defined",
     "output_type": "error",
     "traceback": [
      "\u001b[1;31m---------------------------------------------------------------------------\u001b[0m",
      "\u001b[1;31mNameError\u001b[0m                                 Traceback (most recent call last)",
      "\u001b[1;32m<ipython-input-3-88b9173cdcc8>\u001b[0m in \u001b[0;36m<module>\u001b[1;34m()\u001b[0m\n\u001b[1;32m----> 1\u001b[1;33m \u001b[1;36m3\u001b[0m\u001b[1;33m**\u001b[0m\u001b[0mN\u001b[0m\u001b[1;33m\u001b[0m\u001b[0m\n\u001b[0m",
      "\u001b[1;31mNameError\u001b[0m: name 'N' is not defined"
     ]
    }
   ],
   "source": [
    "3**N"
   ]
  },
  {
   "cell_type": "markdown",
   "metadata": {},
   "source": [
    "This did **not overflow**.  It is positive and exact!  What is going on?  Well, there is no maximum for integers in Python 3, we can have arbitrarily large values.  So why did this not work above?  The reason is that we are using NumPy which passes off all calculations to compiled code with fixed sizes and precisions.  Since `n` is a NumPy array, we secretly forced Python to use NumPy routines for the calculation instead of its own.\n",
    "\n",
    "Why would we want to do this?  The NumPy routines are significantly faster and more powerful.  We can operate on arrays of values and by having fixed precision the algorithms can be much more efficient.  But this does show one of the many confusing things that can happen.\n",
    "\n",
    "#### Advice\n",
    "\n",
    "My advice is to always be explicit.  When you mean to use floating point numbers, force floating point numbers.  We will see this show up other times when working with NumPy arrays and algorithms.  Although most of the time things will work fine if we are not careful, when it does not work it can be very difficult to debug.  We can avoid that pain by being careful from the beginning."
   ]
  },
  {
   "cell_type": "markdown",
   "metadata": {},
   "source": [
    "## Calculation of $1/3^n$\n",
    "\n",
    "Now we are in a position to evaluate two recursion formulae for computing $1/n^3$. Mathematically, these will *exactly* calculate $1/3^n$.  We are interested in how they behave numerically.\n",
    "\n",
    "#### $p$-Recursion Formula\n",
    "\n",
    "Consider the following recursive algorithm:\n",
    "$$ p_0 = 1, \\quad p_1 = \\frac{1}{3},$$\n",
    "$$p_n = \\frac{5}{6} p_{n-1} - \\frac{1}{6} p_{n-2}, \\quad \\mbox{ for all }\\, n\\ge2.$$\n",
    "\n",
    "###### Question:\n",
    "\n",
    "Write a function that returns $p_n$ given $p_{n-1}$ and $p_{n-2}$. Use this function to populate an array full of $p_n$, from $n=0$ up to and including $n=50$.\n",
    "You will need to create an array with 51 elements, initialize the first two values in the array by hand, and use your function to compute subsequent elements. There are many ways to accomplish this, but for now you can use a `for` loop. Inspect the first several array entries to verify your function is producing expected results.\n",
    "\n",
    "*Hint: to print out the numbers 0 through 9, you can run this code:*\n",
    "```\n",
    "for i in range(0,10) :\n",
    "    print(i)\n",
    "```"
   ]
  },
  {
   "cell_type": "code",
   "execution_count": 13,
   "metadata": {},
   "outputs": [
    {
     "name": "stdout",
     "output_type": "stream",
     "text": [
      "[1.         0.33333333 0.11111111 0.03703704]\n"
     ]
    }
   ],
   "source": [
    "### BEGIN SOLUTION\n",
    "def pn_rec(pn1, pn2) :\n",
    "    \"\"\"Mostly stable recursion relation for 1/3^n.\n",
    "    Input: n1 : integer equal to 1/3^(n-1), n2 : integer equal to 1/3^(n-2).\n",
    "    Output: 1/3^n.\"\"\"\n",
    "    return 5./6*pn1 - 1./6*pn2\n",
    "\n",
    "p = np.zeros(N+1)\n",
    "p[0] = 1\n",
    "p[1] = 1./3\n",
    "for j in range(2,N+1) :\n",
    "    p[j] = pn_rec(p[j-1], p[j-2])\n",
    "\n",
    "print(p[:4])\n",
    "### END SOLUTION"
   ]
  },
  {
   "cell_type": "markdown",
   "metadata": {},
   "source": [
    "#### $q$-Recursion Formula\n",
    "\n",
    "Now consider the following recursive algorithm:\n",
    "$$ q_0 = 1, \\quad q_1 = \\frac{1}{3},$$\n",
    "$$q_n = \\frac{5}{3} q_{n-1} - \\frac{4}{9} q_{n-2}, \\quad \\mbox{ for all }\\, n\\ge2.$$\n",
    "\n",
    "###### Question:\n",
    "\n",
    "As above, write a function that returns $q_n$, but now using the above recursion formula. Again, populate an array full of $q_n$, from $n=0$ up to and including $n=50$."
   ]
  },
  {
   "cell_type": "code",
   "execution_count": 14,
   "metadata": {},
   "outputs": [
    {
     "name": "stdout",
     "output_type": "stream",
     "text": [
      "[1.         0.33333333 0.11111111 0.03703704]\n"
     ]
    }
   ],
   "source": [
    "### BEGIN SOLUTION\n",
    "def qn_rec(qn1, qn2) :\n",
    "    \"\"\"Mostly unstable recursion relation for 1/3^n.\n",
    "    Input: n1 : integer equal to 1/3^(n-1), n2 : integer equal to 1/3^(n-2).\n",
    "    Output: 1/3^n.\"\"\"\n",
    "    return 5./3*qn1 - 4./9*qn2\n",
    "\n",
    "q = np.zeros(N+1)\n",
    "q[0] = 1\n",
    "q[1] = 1./3\n",
    "for j in range(2,N+1) :\n",
    "    q[j] = qn_rec(q[j-1], q[j-2])\n",
    "\n",
    "print(q[:4])\n",
    "### END SOLUTION"
   ]
  },
  {
   "cell_type": "markdown",
   "metadata": {},
   "source": [
    "## Tests\n",
    "\n",
    "###### Question:\n",
    "\n",
    "We also know what values should be returned, so we can compare them to the \"expected\" values from the `result` array computed earlier.\n",
    "Compute the fractional difference between the arrays you generated, and the `result` array. Print out the entirety of the results you get."
   ]
  },
  {
   "cell_type": "code",
   "execution_count": 15,
   "metadata": {},
   "outputs": [
    {
     "name": "stdout",
     "output_type": "stream",
     "text": [
      "[0.00000000e+00 0.00000000e+00 2.22044605e-16 6.66133815e-16\n",
      " 1.77635684e-15 3.10862447e-15 5.77315973e-15 9.54791801e-15\n",
      " 1.55431223e-14 2.48689958e-14 3.88578059e-14 5.99520433e-14\n",
      " 9.17044218e-14 1.39666056e-13 2.12274642e-13 3.21076499e-13\n",
      " 4.84501328e-13 7.29194483e-13 1.09645626e-12 1.64734892e-12\n",
      " 2.47379894e-12 3.71347397e-12 5.57331958e-12 8.36308800e-12\n",
      " 1.25486288e-11 1.88269400e-11 2.82445178e-11 4.23712176e-11\n",
      " 6.35613784e-11 9.53470636e-11 1.43026035e-10 2.14544826e-10\n",
      " 3.21823235e-10 4.82740514e-10 7.24117211e-10 1.08618248e-09\n",
      " 1.62928049e-09 2.44392706e-09 3.66589759e-09 5.49885359e-09\n",
      " 8.24828805e-09 1.23724397e-08 1.85586677e-08 2.78380095e-08\n",
      " 4.17570225e-08 6.26355425e-08 9.39533225e-08 1.40929993e-07\n",
      " 2.11394999e-07 3.17092508e-07 4.75638772e-07]\n",
      "[0.00000000e+00 0.00000000e+00 4.44089210e-16 3.10862447e-15\n",
      " 1.35447209e-14 5.59552404e-14 2.27817765e-13 9.14379683e-13\n",
      " 3.66173758e-12 1.46525014e-11 5.86160009e-11 2.34470221e-10\n",
      " 9.37887989e-10 3.75155973e-09 1.50062471e-08 6.00249976e-08\n",
      " 2.40100000e-07 9.60400009e-07 3.84160005e-06 1.53664002e-05\n",
      " 6.14656008e-05 2.45862403e-04 9.83449612e-04 3.93379845e-03\n",
      " 1.57351938e-02 6.29407752e-02 2.51763101e-01 1.00705240e+00\n",
      " 4.02820961e+00 1.61128385e+01 6.44513538e+01 2.57805415e+02\n",
      " 1.03122166e+03 4.12488664e+03 1.64995466e+04 6.59981863e+04\n",
      " 2.63992745e+05 1.05597098e+06 4.22388392e+06 1.68955357e+07\n",
      " 6.75821428e+07 2.70328571e+08 1.08131428e+09 4.32525714e+09\n",
      " 1.73010285e+10 6.92041142e+10 2.76816457e+11 1.10726583e+12\n",
      " 4.42906331e+12 1.77162532e+13 7.08650129e+13]\n"
     ]
    }
   ],
   "source": [
    "### BEGIN SOLUTION\n",
    "perr = np.abs(1-p/result)\n",
    "qerr = np.abs(1-q/result)\n",
    "print(perr)\n",
    "print(qerr)\n",
    "### END SOLUTION"
   ]
  },
  {
   "cell_type": "markdown",
   "metadata": {},
   "source": [
    "Notice that the errors are not zero, so the values are not exact, but we do not expect them to be.  We expect them to be \"close\", for some definition of close.  In both cases the errors are rather small at first, but the errors for the $q$ recursion seem to be growing faster than for the $p$ recursion.  In fact, for the $q$ recursion the error becomes huge!  The recursion totally fails!  This despite the fact that both algorithms are mathematically exact."
   ]
  },
  {
   "cell_type": "markdown",
   "metadata": {},
   "source": [
    "## Plots of Errors\n",
    "\n",
    "Looking at lists of numbers is fine, but a plot is typically easier to read. Recall homework 1, and produce a plot of the fractional error as a function of $n$. You should do several things for this plot:\n",
    "\n",
    "1. Make the y-axis log scaled. (Hint: use `semilogy`.)\n",
    "2. Add a horizontal line indicating where the fractional error is equal to 1.\n",
    "3. Add a legend indicating which data are from which recursion algorithm.\n",
    "4. Make sure to label your axes, and title your figure!"
   ]
  },
  {
   "cell_type": "code",
   "execution_count": 16,
   "metadata": {},
   "outputs": [
    {
     "data": {
      "image/png": "[encoded data removed]",
      "text/plain": [
       "<Figure size 432x288 with 1 Axes>"
      ]
     },
     "metadata": {
      "needs_background": "light"
     },
     "output_type": "display_data"
    }
   ],
   "source": [
    "### BEGIN SOLUTION\n",
    "import matplotlib.pyplot as plt\n",
    "%matplotlib inline\n",
    "plt.semilogy(n, qerr, 'rs', label=r'$q$ recursion')\n",
    "plt.semilogy(n, perr, 'ko', label=r'$p$ recursion')\n",
    "plt.axhline(1, ls='--', color='k')\n",
    "plt.xlabel(r'$n$')\n",
    "plt.ylabel('Fractional Error')\n",
    "plt.title(r'Comparison of Algorithms for Computing $1/3^n$')\n",
    "plt.minorticks_on()\n",
    "plt.legend(loc='upper left')\n",
    "# Purely aesthetic changes:\n",
    "plt.xlim(0, 40)\n",
    "plt.tick_params(which='both', direction='in', right=True, top=True)\n",
    "### END SOLUTION"
   ]
  },
  {
   "cell_type": "markdown",
   "metadata": {},
   "source": [
    "From the plot we can clearly see that the errors in the $q$ recursion algorithm not only grow much more quickly than those from the $p$ recursion algorithm, but become absurdly large.  This algorithm is not usable for actual computations! "
   ]
  },
  {
   "cell_type": "markdown",
   "metadata": {},
   "source": [
    "## Turning in the Assignment\n",
    "\n",
    "Once everything is completed, the assignment should be submitted by uploading it via canvas.  For a group assignment, only one member of the group needs to submit the lab.  Just make sure somebody does it!"
   ]
  },
  {
   "cell_type": "markdown",
   "metadata": {},
   "source": [
    "## Member Participation\n",
    "\n",
    "In the following cell enter the name for each student in the group who partcipated in this lab.  This is not just a list of group members, we already know who is in each group.  Participation means having taken an active role in its development through discussions, coding, *etc.*  By being included in this list you are affirming that each student is justified in claiming this lab as their work.  If there are any questions or concerns regarding this, please contact the course instructor."
   ]
  },
  {
   "cell_type": "markdown",
   "metadata": {},
   "source": []
  }
 ],
 "metadata": {
  "kernelspec": {
   "display_name": "Python 3",
   "language": "python",
   "name": "python3"
  },
  "language_info": {
   "codemirror_mode": {
    "name": "ipython",
    "version": 3
   },
   "file_extension": ".py",
   "mimetype": "text/x-python",
   "name": "python",
   "nbconvert_exporter": "python",
   "pygments_lexer": "ipython3",
   "version": "3.7.0"
  }
 },
 "nbformat": 4,
 "nbformat_minor": 2
}
