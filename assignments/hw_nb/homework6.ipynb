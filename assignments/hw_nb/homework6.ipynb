{
 "cells": [
  {
   "cell_type": "markdown",
   "metadata": {},
   "source": [
    "# Homework 06 : Numerical Integration"
   ]
  },
  {
   "cell_type": "markdown",
   "metadata": {},
   "source": [
    "## Objectives\n",
    "\n",
    "The main objectives of this homework are as follows.\n",
    "\n",
    "- Learn about markup, in particular $\\LaTeX$ in notebooks, for good and elegant documentation.\n",
    "- Learn more about numerical integration, especially `scipy.integrate.quad`."
   ]
  },
  {
   "cell_type": "markdown",
   "metadata": {},
   "source": [
    "## Initialization\n",
    "\n",
    "As always you should add initialization to the top of your notebook."
   ]
  },
  {
   "cell_type": "code",
   "execution_count": null,
   "metadata": {
    "nbgrader": {
     "grade": true,
     "grade_id": "cell-5050b1852e504821",
     "locked": false,
     "points": 0,
     "schema_version": 3,
     "solution": true
    }
   },
   "outputs": [],
   "source": [
    "# YOUR CODE HERE\n",
    "raise NotImplementedError()"
   ]
  },
  {
   "cell_type": "markdown",
   "metadata": {},
   "source": [
    "## An aside: some basic $\\LaTeX$.\n",
    "\n",
    "Notebooks, such as this one, provide both code and documentation.  The documentation includes formatting through *Markdown* and equations using $\\LaTeX$.  We will become more familiar with some aspects of creating documentation througout the semester.\n",
    "\n",
    "If you are unfamiliar with $\\LaTeX$, it is one of the best systems available for typesetting documents, particularly those involving mathematics, and is a standard tool used in communicating results in the sciences (at least in physics).  It was written over 40 years ago by Donald Knuth in response to electronic proofs of a book he had written.  At the time, publishers were switching from hand typesetting to electronic typesetting of documents.  The proofs were so poorly typeset that he wrote his own system.  This includes tools for creating fonts and a complete set of fonts with all the needed mathematical symbols (something nonexistent at the time and only recently can you find complete sets of fonts which include mathematical symbols).\n",
    "\n",
    "Here we will get a brief introduction to typesetting simple mathematical expressions.  These can appear in the documentation in the notebook but also in figures.\n",
    "\n",
    "To typeset a formula we use $\\LaTeX$ in markdown cells.  There are many examples of this in notebooks. You can look at the unformatted text in any notebook by double clicking on the cell containing the text. To insert an equation, the dollar sign, `$`, is used to denote where the equation begins and ends.  In notebooks, you should wrap any latex code in dollar characters.\n",
    "\n",
    "#### A Basic Equation\n",
    "\n",
    "To get you warmed up try typing in a simple equation, such as $x + y = 3$ but pick your own for fun, surrounded by `$` signs.\n",
    "\n",
    "###### Your Equation:"
   ]
  },
  {
   "cell_type": "markdown",
   "metadata": {},
   "source": [
    "```### YOUR SOLUTION HERE```"
   ]
  },
  {
   "cell_type": "markdown",
   "metadata": {},
   "source": [
    "#### Superscripts and Subscripts\n",
    "\n",
    "Not every equation is so simple.   To create superscripts and subscripts characters use the caret character `^` and underscore `_`, respectively.  These will only raise the characters immediately after them, unless you wrap subsequent text in curly braces, such as `x^{1234}`.  To get an idea of how this works, try typing some superscripts or subscripts below.  Don't forget to include the `$` signs!\n",
    "\n",
    "Some examples:\n",
    "\n",
    "- `x^1` gives $ x^1 $\n",
    "- `x^12` gives $ x^12 $  (notice what happens if you do not use curly braces)\n",
    "- `x^{12}` gives $ x^{12} $\n",
    "\n",
    "###### Your Superscript/Subscript:"
   ]
  },
  {
   "cell_type": "markdown",
   "metadata": {},
   "source": [
    "```### YOUR SOLUTION HERE```"
   ]
  },
  {
   "cell_type": "markdown",
   "metadata": {},
   "source": [
    "#### Fractions\n",
    "\n",
    "Fractions are typeset using `\\frac{ numerator }{ denominator }`.  Try typing a fraction below.\n",
    "\n",
    "###### Fraction Example:"
   ]
  },
  {
   "cell_type": "markdown",
   "metadata": {},
   "source": [
    "```### YOUR SOLUTION HERE```"
   ]
  },
  {
   "cell_type": "markdown",
   "metadata": {},
   "source": [
    "## Romberg Integration\n",
    "\n",
    "Romberg integration of a function can be performed using `scipy.integrate.romberg`.  You should of course look up its documentation.  We will explore its use by considering the integral\n",
    "\n",
    "$$ \\int_0^\\phi \\sqrt{2-\\sin^2 x} \\,\\mathrm{d}x = \\sqrt{2} E\\!\\left( \\phi, \\frac12 \\right), $$\n",
    "\n",
    "where $E(\\phi,k)$ is the incomplete elliptic integral of the second kind.  It is available in SciPy as `scipy.special.ellipeinc`.\n",
    "\n",
    "To begin, evaluate this integral using Romberg integration for $\\phi=48$.  Print the resulting value, its fractional error, and the number of function evaluations required for the computation. [*Note:* Using `show=True` provides most of the required information.  It just gets printed instead of stored in a variable.  That is sufficient for our purposes.]"
   ]
  },
  {
   "cell_type": "code",
   "execution_count": null,
   "metadata": {
    "nbgrader": {
     "grade": true,
     "grade_id": "cell-2750d4f863fa5376",
     "locked": false,
     "points": 0.5,
     "schema_version": 3,
     "solution": true
    }
   },
   "outputs": [],
   "source": [
    "# YOUR CODE HERE\n",
    "raise NotImplementedError()"
   ]
  },
  {
   "cell_type": "markdown",
   "metadata": {},
   "source": [
    "Alhough the above works, it is not the most efficient way to calculate this integral.\n",
    "\n",
    "You will notice that the integrand is an oscilliatory function.  Determine the oscillation frequency of the integrand (this you can do analytically!), the number of complete oscillations of the integrand, and the remaining extra part of an incomplete period at the end of the integrals range.  Print these results. [*Note:* Here it is useful to employ `//` for integer division (or the `int()` function)  to get the integer part of a calculation and `%` for modular arithmetic.]"
   ]
  },
  {
   "cell_type": "code",
   "execution_count": null,
   "metadata": {
    "nbgrader": {
     "grade": true,
     "grade_id": "cell-227cfd06b4fa22a5",
     "locked": false,
     "points": 0.25,
     "schema_version": 3,
     "solution": true
    }
   },
   "outputs": [],
   "source": [
    "# YOUR CODE HERE\n",
    "raise NotImplementedError()"
   ]
  },
  {
   "cell_type": "markdown",
   "metadata": {},
   "source": [
    "It is more efficient to break up the complete integral into two: one integral over a period multiplied by the number of periods, and one integral over the remaining part of a period. Use Romberg integration to separately evaluate these two integrals and combine them to get the complete result.  Print the value of the total integral, its fractional error, and the total number of function evaluations required in this case."
   ]
  },
  {
   "cell_type": "code",
   "execution_count": null,
   "metadata": {
    "nbgrader": {
     "grade": true,
     "grade_id": "cell-e3ef113fa763258b",
     "locked": false,
     "points": 0.5,
     "schema_version": 3,
     "solution": true
    }
   },
   "outputs": [],
   "source": [
    "# YOUR CODE HERE\n",
    "raise NotImplementedError()"
   ]
  },
  {
   "cell_type": "markdown",
   "metadata": {},
   "source": [
    "You should find that far fewer function evaluations are required when we split the integral as compared to integrating over the full range.  When integrating over the full interval, it is this interval that gets subdivided, which means we are \"recalculating\" the integral over one period repeatedly, all with different levels of accuracy.  Thus a lot of work goes into recalculating the same thing, which is clearly not needed."
   ]
  },
  {
   "cell_type": "markdown",
   "metadata": {},
   "source": [
    "**Optional exercise:** Note that we could do even better.  By symmetry, as seen in your plot above, we could instead integrate over a half period instead of a full period.  Feel free to repeat the above now using a half period.  You should find even fewer function evaluations are required! This is not required. But will be included in the solutions."
   ]
  },
  {
   "cell_type": "code",
   "execution_count": null,
   "metadata": {
    "nbgrader": {
     "grade": true,
     "grade_id": "cell-63e2e3bf5c325a74",
     "locked": false,
     "points": 0,
     "schema_version": 3,
     "solution": true
    }
   },
   "outputs": [],
   "source": [
    "# YOUR CODE HERE\n",
    "raise NotImplementedError()"
   ]
  },
  {
   "cell_type": "markdown",
   "metadata": {},
   "source": [
    "## The Power of `quad`\n",
    "\n",
    "As noted in class, `scipy.integrate.quad` is an extremely powerful integration routine.  It can do so many things that it has its own function, `scipy.integrate.quad_explain`, to explain some of its more esoteric features.  Here we will study one set of features it provides without us even asking for it: the ability to handle divergences in the integrand at the end points of the integration range and integration over (semi-)infinite intervals."
   ]
  },
  {
   "cell_type": "markdown",
   "metadata": {},
   "source": [
    "### Divergent Integrand\n",
    "\n",
    "Consider the integral\n",
    "$$ \\int_0^1 \\frac{\\mathrm{d}x}{\\sqrt{x}}. $$\n",
    "You can perform this integral analytically.  Do so! We will use the result below.  \n",
    "\n",
    "As a first numerical test, try to perform this integral using Romberg integration and see what happens."
   ]
  },
  {
   "cell_type": "code",
   "execution_count": null,
   "metadata": {
    "nbgrader": {
     "grade": true,
     "grade_id": "cell-c800a746d042b2fe",
     "locked": false,
     "points": 0.25,
     "schema_version": 3,
     "solution": true
    }
   },
   "outputs": [],
   "source": [
    "# YOUR CODE HERE\n",
    "raise NotImplementedError()"
   ]
  },
  {
   "cell_type": "markdown",
   "metadata": {},
   "source": [
    "You should have found that Romberg integration cannot handle this integral since it tries to evaluate the integrand at $x=0$, which is clearly a problem.  Now do the same with `quad`.  Print the value of the integral and the fractional error in the result. You should find it handles the integral with no problem and produces a very accurate result!"
   ]
  },
  {
   "cell_type": "code",
   "execution_count": null,
   "metadata": {
    "nbgrader": {
     "grade": true,
     "grade_id": "cell-3638abb8e00408fb",
     "locked": false,
     "points": 0.5,
     "schema_version": 3,
     "solution": true
    }
   },
   "outputs": [],
   "source": [
    "# YOUR CODE HERE\n",
    "raise NotImplementedError()"
   ]
  },
  {
   "cell_type": "markdown",
   "metadata": {},
   "source": [
    "### Semi-infinite Integral Range\n",
    "\n",
    "Consider the integral\n",
    "\n",
    "$$ \\int_1^\\infty \\frac{\\mathrm{d}x}{x^2} . $$\n",
    "\n",
    "Once again we can perform this integral analytically.  Clearly this integral **cannot be performed** using a method like Romberg integration, since we cannot evaluate them over an infinite range.  Similar to the previous case, if we needed to perform these problematic integrals using those techniques we would need to transform the integral in some way.  For this case it is relatively easy to do.  If we let $y\\equiv 1/x$ then we can show\n",
    "\n",
    "$$ \\int_1^\\infty \\frac{\\mathrm{d}x}{x^2} = \\int_0^1 \\mathrm{d}y, $$\n",
    "\n",
    "a very simple integral to evaluate!\n",
    "\n",
    "This was a simple case, other integrands may be much more tedious to transform.  Once again `quad` can handle the semi-infinite range for us.  Use `quad` to perform the integral in its original, semi-infinite form.  Print the value of the integral and the fractional error in this value. You should find that `quad` does exceptionally well, almost as if it were using the transformation we just discussed, .... [*Note:* We can specify infinity in a few ways.  Here I am using `np.inf`, though there exists `np.infty`, `scipy.inf`, `scipy.infty`, and probably many other definitions of the same thing.  They are all equivalent and any of them can be used.]"
   ]
  },
  {
   "cell_type": "code",
   "execution_count": null,
   "metadata": {
    "nbgrader": {
     "grade": true,
     "grade_id": "cell-abd8af4a943a5bdc",
     "locked": false,
     "points": 0.5,
     "schema_version": 3,
     "solution": true
    }
   },
   "outputs": [],
   "source": [
    "# YOUR CODE HERE\n",
    "raise NotImplementedError()"
   ]
  },
  {
   "cell_type": "markdown",
   "metadata": {},
   "source": [
    "### Infinite Integral Range\n",
    "\n",
    "Finally, `quad` can also handle a completely infinite range.  Consider the normalization integral for the Gaussian distribution that we have seen in previous assignments,\n",
    "\n",
    "$$ \\frac1{\\sqrt{2\\pi}\\sigma} \\int_{-\\infty}^\\infty \\exp\\left[ -\\frac{(x-\\mu)^2}{2\\sigma^2} \\right] \\mathrm{d}x = 1. $$\n",
    "\n",
    "Again we could transform this to integrals over finite ranges.  In this case we could use various techniques, shift the integral to remove the mean, $\\mu$, from the integrand.  Then use symmetry to turn it into an integral over the semi-infinite range $(0,\\infty)$.  Next split this integral into two pieces, an integral from $0$ to $1$ and an integral from $1$ to $\\infty$.  Finally, this second integral can be handled by the transformation discussed in the semi-infinite case above.  Or, just let `quad` do it for us!\n",
    "\n",
    "Calculate this integral using `quad`.  Print its value and fractional error.  Note that this result holds for arbitrary mean, $\\mu$, and variance, $\\sigma$; for your own purposes you should try a few cases.  Once again you should find it works extremely well!"
   ]
  },
  {
   "cell_type": "code",
   "execution_count": null,
   "metadata": {
    "nbgrader": {
     "grade": true,
     "grade_id": "cell-401b1d2ef0c40c82",
     "locked": false,
     "points": 0.5,
     "schema_version": 3,
     "solution": true
    }
   },
   "outputs": [],
   "source": [
    "# YOUR CODE HERE\n",
    "raise NotImplementedError()"
   ]
  }
 ],
 "metadata": {
  "anaconda-cloud": {},
  "authors": [
   {
    "name": "Craig J Copi",
    "semester": "Spring 2019"
   }
  ],
  "celltoolbar": "Create Assignment",
  "kernelspec": {
   "display_name": "Python 3",
   "language": "python",
   "name": "python3"
  },
  "language_info": {
   "codemirror_mode": {
    "name": "ipython",
    "version": 3
   },
   "file_extension": ".py",
   "mimetype": "text/x-python",
   "name": "python",
   "nbconvert_exporter": "python",
   "pygments_lexer": "ipython3",
   "version": "3.7.0"
  }
 },
 "nbformat": 4,
 "nbformat_minor": 1
}
