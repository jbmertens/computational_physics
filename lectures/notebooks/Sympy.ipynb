{
 "cells": [
  {
   "cell_type": "markdown",
   "metadata": {
    "id": "m-as4N7kJxeV"
   },
   "source": [
    "# Symbolic Computing\n",
    "\n",
    "## Some introductory notions in SymPy\n",
    "\n",
    "The function init_printing() will enable LaTeX pretty printing in the notebook for SymPy expressions. It is recommended you call it at the top of any notebook that uses SymPy.\n",
    "\n",
    "We can import sympy as follows,\n"
   ]
  },
  {
   "cell_type": "code",
   "execution_count": 66,
   "metadata": {
    "executionInfo": {
     "elapsed": 286,
     "status": "ok",
     "timestamp": 1619206649677,
     "user": {
      "displayName": "James Mertens",
      "photoUrl": "",
      "userId": "17826959471466727036"
     },
     "user_tz": 300
    },
    "id": "j1q-RKUuJvxx"
   },
   "outputs": [],
   "source": [
    "import sympy as sym\n",
    "sym.init_printing()"
   ]
  },
  {
   "cell_type": "markdown",
   "metadata": {
    "id": "C4LLB2QiKl18"
   },
   "source": [
    "SymPy symbols are then created with the symbols() function. SymPy expressions are, in turn, built up from symbols, numbers, and SymPy functions. This is somewhat in contrast to Mathematica, where numbers and variables will be treated using an exact or symbolic representation."
   ]
  },
  {
   "cell_type": "code",
   "execution_count": 68,
   "metadata": {
    "executionInfo": {
     "elapsed": 268,
     "status": "ok",
     "timestamp": 1619206700714,
     "user": {
      "displayName": "James Mertens",
      "photoUrl": "",
      "userId": "17826959471466727036"
     },
     "user_tz": 300
    },
    "id": "6z-zwhtoPXPN"
   },
   "outputs": [],
   "source": [
    "?x"
   ]
  },
  {
   "cell_type": "code",
   "execution_count": 67,
   "metadata": {
    "colab": {
     "base_uri": "https://localhost:8080/",
     "height": 38
    },
    "executionInfo": {
     "elapsed": 680,
     "status": "ok",
     "timestamp": 1619206682631,
     "user": {
      "displayName": "James Mertens",
      "photoUrl": "",
      "userId": "17826959471466727036"
     },
     "user_tz": 300
    },
    "id": "ynCcOE17KmdI",
    "outputId": "d71a391f-ae5c-4008-ea1e-d537d8038bde"
   },
   "outputs": [
    {
     "data": {
      "image/png": "[encoded data removed]",
      "text/latex": [
       "$\\displaystyle \\left( \\alpha_{1}, \\  \\omega_{2}\\right)$"
      ],
      "text/plain": [
       "(α₁, ω₂)"
      ]
     },
     "execution_count": 67,
     "metadata": {
      "tags": []
     },
     "output_type": "execute_result"
    }
   ],
   "source": [
    "x, y, z = sym.symbols('x y z')\n",
    "alpha1, omega_2 = sym.symbols('alpha1 omega_2')\n",
    "(alpha1, omega_2)"
   ]
  },
  {
   "cell_type": "code",
   "execution_count": 9,
   "metadata": {
    "colab": {
     "base_uri": "https://localhost:8080/",
     "height": 38
    },
    "executionInfo": {
     "elapsed": 264,
     "status": "ok",
     "timestamp": 1619189557526,
     "user": {
      "displayName": "James Mertens",
      "photoUrl": "",
      "userId": "17826959471466727036"
     },
     "user_tz": 300
    },
    "id": "lzlkZUjMKoTs",
    "outputId": "154930df-f6eb-492b-cfcc-524dcabe0569"
   },
   "outputs": [
    {
     "data": {
      "image/png": "[encoded data removed]",
      "text/latex": [
       "$\\displaystyle \\sin{\\left(x + 1 \\right)} - \\cos{\\left(y \\right)}$"
      ],
      "text/plain": [
       "sin(x + 1) - cos(y)"
      ]
     },
     "execution_count": 9,
     "metadata": {
      "tags": []
     },
     "output_type": "execute_result"
    }
   ],
   "source": [
    "sym.sin(x + 1) - sym.cos(y)"
   ]
  },
  {
   "cell_type": "markdown",
   "metadata": {
    "id": "8vkQyzllNC0c"
   },
   "source": [
    "In sympy, we may have to initialize a symbolic representation of numeric values as well."
   ]
  },
  {
   "cell_type": "code",
   "execution_count": 69,
   "metadata": {
    "colab": {
     "base_uri": "https://localhost:8080/",
     "height": 37
    },
    "executionInfo": {
     "elapsed": 679,
     "status": "ok",
     "timestamp": 1619206884681,
     "user": {
      "displayName": "James Mertens",
      "photoUrl": "",
      "userId": "17826959471466727036"
     },
     "user_tz": 300
    },
    "id": "aJ8d-W_mONtu",
    "outputId": "c6333153-70ed-41fc-a3aa-1988ddc6b3b6"
   },
   "outputs": [
    {
     "data": {
      "image/png": "[encoded data removed]",
      "text/latex": [
       "$\\displaystyle 2$"
      ],
      "text/plain": [
       "2"
      ]
     },
     "execution_count": 69,
     "metadata": {
      "tags": []
     },
     "output_type": "execute_result"
    }
   ],
   "source": [
    "sym.S(2)"
   ]
  },
  {
   "cell_type": "code",
   "execution_count": 70,
   "metadata": {
    "colab": {
     "base_uri": "https://localhost:8080/",
     "height": 51
    },
    "executionInfo": {
     "elapsed": 295,
     "status": "ok",
     "timestamp": 1619206887590,
     "user": {
      "displayName": "James Mertens",
      "photoUrl": "",
      "userId": "17826959471466727036"
     },
     "user_tz": 300
    },
    "id": "OXIbNQ1aOFBF",
    "outputId": "12f38481-72c6-4838-b921-7806b633d6fd"
   },
   "outputs": [
    {
     "data": {
      "image/png": "[encoded data removed]",
      "text/latex": [
       "$\\displaystyle \\frac{1}{2}$"
      ],
      "text/plain": [
       "1/2"
      ]
     },
     "execution_count": 70,
     "metadata": {
      "tags": []
     },
     "output_type": "execute_result"
    }
   ],
   "source": [
    "sym.S(1)/2"
   ]
  },
  {
   "cell_type": "code",
   "execution_count": 14,
   "metadata": {
    "colab": {
     "base_uri": "https://localhost:8080/",
     "height": 51
    },
    "executionInfo": {
     "elapsed": 793,
     "status": "ok",
     "timestamp": 1619189614327,
     "user": {
      "displayName": "James Mertens",
      "photoUrl": "",
      "userId": "17826959471466727036"
     },
     "user_tz": 300
    },
    "id": "fXlORM2pOLY2",
    "outputId": "683c33f9-645e-4169-8848-7106f81970b5"
   },
   "outputs": [
    {
     "data": {
      "image/png": "[encoded data removed]",
      "text/latex": [
       "$\\displaystyle \\frac{1}{2}$"
      ],
      "text/plain": [
       "1/2"
      ]
     },
     "execution_count": 14,
     "metadata": {
      "tags": []
     },
     "output_type": "execute_result"
    }
   ],
   "source": [
    "sym.Rational(1, 2)"
   ]
  },
  {
   "cell_type": "markdown",
   "metadata": {
    "id": "GMwgKwaLOXpO"
   },
   "source": [
    "In both Mathematica and SymPy, we will need to request approximate decimal representations of exact quantities if the need arises."
   ]
  },
  {
   "cell_type": "code",
   "execution_count": 25,
   "metadata": {
    "colab": {
     "base_uri": "https://localhost:8080/",
     "height": 37
    },
    "executionInfo": {
     "elapsed": 286,
     "status": "ok",
     "timestamp": 1619189875179,
     "user": {
      "displayName": "James Mertens",
      "photoUrl": "",
      "userId": "17826959471466727036"
     },
     "user_tz": 300
    },
    "id": "-QzWrnaWOoAM",
    "outputId": "8a88536b-ec2b-4ae3-cbdd-2165746ac0a8"
   },
   "outputs": [
    {
     "data": {
      "image/png": "[encoded data removed]",
      "text/latex": [
       "$\\displaystyle 5.141592653589793238462643383279502884197169399375105820974944592307816406286208998628034825342117068$"
      ],
      "text/plain": [
       "5.1415926535897932384626433832795028841971693993751058209749445923078164062862\n",
       "08998628034825342117068"
      ]
     },
     "execution_count": 25,
     "metadata": {
      "tags": []
     },
     "output_type": "execute_result"
    }
   ],
   "source": [
    "a = x+2\n",
    "a = a.subs(x, sym.pi)\n",
    "a.evalf(100)"
   ]
  },
  {
   "cell_type": "markdown",
   "metadata": {
    "id": "JtUthRARLDX7"
   },
   "source": [
    "### Quick exercise:\n",
    "\n",
    "Write a symbolic expression for\n",
    "\n",
    "$$\n",
    "\\frac{1}{\\sqrt{2\\pi\\sigma^2}} e^{-\\frac{(x-\\mu)^2}{2\\sigma^2}}\n",
    "$$\n",
    " \n",
    "The function for exponentiation is `sym.exp`, and square root is is `sym.sqrt`. You will need to create symbols for sigma and mu. See if you can evaluate this expression numerically for $\\mu=0$, $x=1$, and $\\sigma = 2$.\n",
    "\n",
    "You should also type a similar expression into Mathematica and/or Wolfram Alpha, and see what happens there. Again, see if you can evaluate this expression numerically. Can you produce both a simplified analytic expression and an answer in a numerical (decimal) form?"
   ]
  },
  {
   "cell_type": "code",
   "execution_count": 72,
   "metadata": {
    "colab": {
     "base_uri": "https://localhost:8080/",
     "height": 37
    },
    "executionInfo": {
     "elapsed": 279,
     "status": "ok",
     "timestamp": 1619207400623,
     "user": {
      "displayName": "James Mertens",
      "photoUrl": "",
      "userId": "17826959471466727036"
     },
     "user_tz": 300
    },
    "id": "k7y0h6O-KweM",
    "outputId": "07cdebe0-74a4-4d49-b52d-c3ed28cc3ef8"
   },
   "outputs": [
    {
     "data": {
      "image/png": "[encoded data removed]",
      "text/latex": [
       "$\\displaystyle 0.1760326634$"
      ],
      "text/plain": [
       "0.1760326634"
      ]
     },
     "execution_count": 72,
     "metadata": {
      "tags": []
     },
     "output_type": "execute_result"
    }
   ],
   "source": [
    "s, m = sym.symbols('s, m')\n",
    "gaussian = 1/sym.sqrt(2*sym.pi*s**2) * sym.exp(-(x-m)**2/(2*s**2))\n",
    "gaussian.subs([(x, 1), (s, 2), (m, 0)]).evalf(10)"
   ]
  },
  {
   "cell_type": "markdown",
   "metadata": {
    "id": "B_4mzCq4QDUg"
   },
   "source": [
    "## Plotting in SymPy\n",
    "\n",
    "We can also create a basic plot in sympy. In the background, sympy will pass expressions to matplotlib, although different plotting backends can be specified."
   ]
  },
  {
   "cell_type": "code",
   "execution_count": 30,
   "metadata": {
    "colab": {
     "base_uri": "https://localhost:8080/",
     "height": 314
    },
    "executionInfo": {
     "elapsed": 590,
     "status": "ok",
     "timestamp": 1619190383355,
     "user": {
      "displayName": "James Mertens",
      "photoUrl": "",
      "userId": "17826959471466727036"
     },
     "user_tz": 300
    },
    "id": "M9-zbUMkQsTx",
    "outputId": "9290048a-b158-4aed-9354-f36028a44054"
   },
   "outputs": [
    {
     "data": {
      "image/png": "[encoded data removed]",
      "text/plain": [
       "<Figure size 432x288 with 1 Axes>"
      ]
     },
     "metadata": {
      "needs_background": "light",
      "tags": []
     },
     "output_type": "display_data"
    },
    {
     "data": {
      "text/plain": [
       "<sympy.plotting.plot.Plot at 0x7fbbc9cb1e10>"
      ]
     },
     "execution_count": 30,
     "metadata": {
      "tags": []
     },
     "output_type": "execute_result"
    }
   ],
   "source": [
    "from sympy.plotting import plot\n",
    "plot(x**2, x**3, (x, -3, 3))"
   ]
  },
  {
   "cell_type": "markdown",
   "metadata": {
    "id": "1QLWiLAESA5b"
   },
   "source": [
    "### Quick exercise:\n",
    "\n",
    "Can you produce a quick plot of the Gaussian function above, for $\\mu = 0$ and $\\sigma = 2$? Can you do so in Mathematica (or on WolframAlpha) as well?"
   ]
  },
  {
   "cell_type": "code",
   "execution_count": null,
   "metadata": {
    "id": "Zde-fbchQxGX"
   },
   "outputs": [],
   "source": []
  },
  {
   "cell_type": "markdown",
   "metadata": {
    "id": "ah1rvCVTSuKq"
   },
   "source": [
    "## Calculus\n",
    "\n",
    "We can also differentiate and integrate expressions. Differentiation is accomplished with `sym.diff`, and integration with `sym.integrate`, which supports both definite and indefinite integrals."
   ]
  },
  {
   "cell_type": "code",
   "execution_count": 31,
   "metadata": {
    "colab": {
     "base_uri": "https://localhost:8080/",
     "height": 38
    },
    "executionInfo": {
     "elapsed": 1200,
     "status": "ok",
     "timestamp": 1619190851130,
     "user": {
      "displayName": "James Mertens",
      "photoUrl": "",
      "userId": "17826959471466727036"
     },
     "user_tz": 300
    },
    "id": "9sf2PKwNSzu9",
    "outputId": "17b7a4ae-e2d1-45c9-f25a-26cdeb9145a0"
   },
   "outputs": [
    {
     "data": {
      "image/png": "[encoded data removed]",
      "text/latex": [
       "$\\displaystyle 2 x$"
      ],
      "text/plain": [
       "2⋅x"
      ]
     },
     "execution_count": 31,
     "metadata": {
      "tags": []
     },
     "output_type": "execute_result"
    }
   ],
   "source": [
    "sym.diff(x**2, x)"
   ]
  },
  {
   "cell_type": "code",
   "execution_count": 32,
   "metadata": {
    "colab": {
     "base_uri": "https://localhost:8080/",
     "height": 54
    },
    "executionInfo": {
     "elapsed": 330,
     "status": "ok",
     "timestamp": 1619190895489,
     "user": {
      "displayName": "James Mertens",
      "photoUrl": "",
      "userId": "17826959471466727036"
     },
     "user_tz": 300
    },
    "id": "1U_1YQ9OS6E-",
    "outputId": "d668d633-102f-4e6a-bf55-da5f621c7200"
   },
   "outputs": [
    {
     "data": {
      "image/png": "[encoded data removed]",
      "text/latex": [
       "$\\displaystyle \\frac{x^{3}}{3}$"
      ],
      "text/plain": [
       " 3\n",
       "x \n",
       "──\n",
       "3 "
      ]
     },
     "execution_count": 32,
     "metadata": {
      "tags": []
     },
     "output_type": "execute_result"
    }
   ],
   "source": [
    "sym.integrate(x**2, x)"
   ]
  },
  {
   "cell_type": "code",
   "execution_count": 34,
   "metadata": {
    "colab": {
     "base_uri": "https://localhost:8080/",
     "height": 37
    },
    "executionInfo": {
     "elapsed": 885,
     "status": "ok",
     "timestamp": 1619190923202,
     "user": {
      "displayName": "James Mertens",
      "photoUrl": "",
      "userId": "17826959471466727036"
     },
     "user_tz": 300
    },
    "id": "HbtIkCNiTFHn",
    "outputId": "1aef72a5-1c47-47d9-e153-eee0958d5f93"
   },
   "outputs": [
    {
     "data": {
      "image/png": "[encoded data removed]",
      "text/latex": [
       "$\\displaystyle 18$"
      ],
      "text/plain": [
       "18"
      ]
     },
     "execution_count": 34,
     "metadata": {
      "tags": []
     },
     "output_type": "execute_result"
    }
   ],
   "source": [
    "sym.integrate(x**2, (x,-3,3))"
   ]
  },
  {
   "cell_type": "markdown",
   "metadata": {
    "id": "imrITGN-WCya"
   },
   "source": [
    "But, it doesn't take too much to trip up SymPy."
   ]
  },
  {
   "cell_type": "code",
   "execution_count": 47,
   "metadata": {
    "colab": {
     "base_uri": "https://localhost:8080/",
     "height": 55
    },
    "executionInfo": {
     "elapsed": 25033,
     "status": "ok",
     "timestamp": 1619195545861,
     "user": {
      "displayName": "James Mertens",
      "photoUrl": "",
      "userId": "17826959471466727036"
     },
     "user_tz": 300
    },
    "id": "LQX3oNCqVozF",
    "outputId": "2b5d1eda-a3a1-4679-97b7-73c9f1fad90d"
   },
   "outputs": [
    {
     "data": {
      "image/png": "[encoded data removed]",
      "text/latex": [
       "$\\displaystyle \\int \\log{\\left(x \\right)}^{2} \\sin{\\left(x \\right)}\\, dx$"
      ],
      "text/plain": [
       "⌠                  \n",
       "⎮    2             \n",
       "⎮ log (x)⋅sin(x) dx\n",
       "⌡                  "
      ]
     },
     "execution_count": 47,
     "metadata": {
      "tags": []
     },
     "output_type": "execute_result"
    }
   ],
   "source": [
    "sym.integrate(sym.log(x)**2 * sym.sin(x) )"
   ]
  },
  {
   "cell_type": "markdown",
   "metadata": {
    "id": "1TKkDnEkTRlS"
   },
   "source": [
    "### Quick Exercise:\n",
    "\n",
    "Again using the Gaussian function, can you compute its derivative and indefinite integral? What about in Mathematica/WolframAlpha?\n",
    "\n",
    "Can you evaluate a definite integral for the choices of $\\mu=0$, $x=1$, $\\sigma=2$, obtaining both analytic and numerical expressions?\n",
    "\n",
    "How about the $\\log^2 \\sin$ integral above; can Mathematica/WolframAlpha integrate this?"
   ]
  },
  {
   "cell_type": "code",
   "execution_count": null,
   "metadata": {
    "id": "dkv6Z0NNULTZ"
   },
   "outputs": [],
   "source": []
  },
  {
   "cell_type": "markdown",
   "metadata": {
    "id": "tLE0ccu1U3qq"
   },
   "source": [
    "## Systems of equations\n",
    "\n",
    "### Algebraic equations\n",
    "\n",
    "We can also solve systems of algebraic and differential equations. Solutions to algebraic equations are fairly straightforward; we supply an expression equal to zero, and `solve` takes care of it when possible."
   ]
  },
  {
   "cell_type": "code",
   "execution_count": 50,
   "metadata": {
    "colab": {
     "base_uri": "https://localhost:8080/",
     "height": 59
    },
    "executionInfo": {
     "elapsed": 298,
     "status": "ok",
     "timestamp": 1619195712979,
     "user": {
      "displayName": "James Mertens",
      "photoUrl": "",
      "userId": "17826959471466727036"
     },
     "user_tz": 300
    },
    "id": "m--8on-4U5Na",
    "outputId": "cefe0b0d-44b2-4a61-854d-001cdbfe651c"
   },
   "outputs": [
    {
     "data": {
      "image/png": "[encoded data removed]",
      "text/latex": [
       "$\\displaystyle \\left[ \\left( \\frac{2}{5} - \\frac{\\sqrt{5 z - 1}}{5}, \\  \\frac{2 \\sqrt{5 z - 1}}{5} + \\frac{1}{5}\\right), \\  \\left( \\frac{\\sqrt{5 z - 1}}{5} + \\frac{2}{5}, \\  \\frac{1}{5} - \\frac{2 \\sqrt{5 z - 1}}{5}\\right)\\right]$"
      ],
      "text/plain": [
       "⎡⎛      _________      _________    ⎞  ⎛  _________              _________⎞⎤\n",
       "⎢⎜2   ╲╱ 5⋅z - 1   2⋅╲╱ 5⋅z - 1    1⎟  ⎜╲╱ 5⋅z - 1    2  1   2⋅╲╱ 5⋅z - 1 ⎟⎥\n",
       "⎢⎜─ - ───────────, ───────────── + ─⎟, ⎜─────────── + ─, ─ - ─────────────⎟⎥\n",
       "⎣⎝5        5             5         5⎠  ⎝     5        5  5         5      ⎠⎦"
      ]
     },
     "execution_count": 50,
     "metadata": {
      "tags": []
     },
     "output_type": "execute_result"
    }
   ],
   "source": [
    "eq1 = x**2 + y**2 - z  # circle of radius z\n",
    "eq2 = 2*x + y - 1  # straight line: y(x) = -2*x + 1\n",
    "sym.solve([eq1, eq2], [x, y])"
   ]
  },
  {
   "cell_type": "markdown",
   "metadata": {
    "id": "VvzF9edpU8JT"
   },
   "source": [
    "### Differential Equations\n",
    "\n",
    "For differential equations, we will need to define symbolic functions. This can be accomplished using `sym.Function`. Below is an example of using this to solve the harmonic oscillator equtaion. Two main functions exist (alongside many others useful for other purposes), `dsolve` and `pdsolve`.  Note that, in the solution obtained, the variable $c$ can be complex."
   ]
  },
  {
   "cell_type": "code",
   "execution_count": 62,
   "metadata": {
    "colab": {
     "base_uri": "https://localhost:8080/",
     "height": 38
    },
    "executionInfo": {
     "elapsed": 1043,
     "status": "ok",
     "timestamp": 1619203891840,
     "user": {
      "displayName": "James Mertens",
      "photoUrl": "",
      "userId": "17826959471466727036"
     },
     "user_tz": 300
    },
    "id": "jM_1FbOCU_RK",
    "outputId": "aa8a918e-1bf8-46e1-dd9b-8fe2431ad1a2"
   },
   "outputs": [
    {
     "data": {
      "image/png": "[encoded data removed]",
      "text/latex": [
       "$\\displaystyle f{\\left(x \\right)} = C_{1} e^{- c x} + C_{2} e^{c x}$"
      ],
      "text/plain": [
       "           -c⋅x       c⋅x\n",
       "f(x) = C₁⋅ℯ     + C₂⋅ℯ   "
      ]
     },
     "execution_count": 62,
     "metadata": {
      "tags": []
     },
     "output_type": "execute_result"
    }
   ],
   "source": [
    "f = sym.Function('f')\n",
    "c = sym.symbols('c')\n",
    "sym.dsolve(f(x).diff(x, 2) - c**2*f(x))"
   ]
  },
  {
   "cell_type": "markdown",
   "metadata": {
    "id": "VAX0oBiHDCum"
   },
   "source": [
    "Abstract functions can accept multiple arguments, which also allows us to solve certain types of PDEs where an analytic solution exists. Below is an example of this for the one-dimensional advection equation,\n",
    "\n",
    "$$\n",
    "\\partial_x f(x,t) - \\partial_t f(x, t) = 0\n",
    "$$\n"
   ]
  },
  {
   "cell_type": "code",
   "execution_count": 73,
   "metadata": {
    "colab": {
     "base_uri": "https://localhost:8080/",
     "height": 38
    },
    "executionInfo": {
     "elapsed": 332,
     "status": "ok",
     "timestamp": 1619209047679,
     "user": {
      "displayName": "James Mertens",
      "photoUrl": "",
      "userId": "17826959471466727036"
     },
     "user_tz": 300
    },
    "id": "IT8sj-2d2Kzz",
    "outputId": "afdf6966-4b85-47ca-8c15-22884913113a"
   },
   "outputs": [
    {
     "data": {
      "image/png": "[encoded data removed]",
      "text/latex": [
       "$\\displaystyle f{\\left(x,t \\right)} = F{\\left(- t + x \\right)}$"
      ],
      "text/plain": [
       "f(x, t) = F(-t + x)"
      ]
     },
     "execution_count": 73,
     "metadata": {
      "tags": []
     },
     "output_type": "execute_result"
    }
   ],
   "source": [
    "t = sym.symbols('t')\n",
    "sym.pdsolve(f(x,t).diff(x) + f(x,t).diff(t))"
   ]
  },
  {
   "cell_type": "markdown",
   "metadata": {
    "id": "gnAyuMP_FbZ9"
   },
   "source": [
    "### Quick Exercise\n",
    "\n",
    "Below, see if you can obtain a solution to the wave equtaion.\n",
    "\n",
    "$$\n",
    "\\partial_x^2 f(x,t) - \\partial_t^2 f(x, t) = 0\n",
    "$$\n",
    "\n",
    "Can you obtain one in Mathematica/WolframAlpha?\n"
   ]
  },
  {
   "cell_type": "code",
   "execution_count": null,
   "metadata": {
    "id": "Mu83rs9PGDUp"
   },
   "outputs": [],
   "source": []
  }
 ],
 "metadata": {
  "colab": {
   "authorship_tag": "ABX9TyOZInx7h/CXeBw5sgRPJy8X",
   "collapsed_sections": [],
   "name": "Sympy.ipynb",
   "provenance": []
  },
  "kernelspec": {
   "display_name": "Python 3",
   "language": "python",
   "name": "python3"
  },
  "language_info": {
   "codemirror_mode": {
    "name": "ipython",
    "version": 3
   },
   "file_extension": ".py",
   "mimetype": "text/x-python",
   "name": "python",
   "nbconvert_exporter": "python",
   "pygments_lexer": "ipython3",
   "version": "3.7.0"
  }
 },
 "nbformat": 4,
 "nbformat_minor": 1
}
