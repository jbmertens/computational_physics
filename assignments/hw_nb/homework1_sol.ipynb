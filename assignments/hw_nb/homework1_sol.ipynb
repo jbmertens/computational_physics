{
 "cells": [
  {
   "cell_type": "markdown",
   "metadata": {},
   "source": [
    "# Homework 1: An Introduction"
   ]
  },
  {
   "cell_type": "markdown",
   "metadata": {},
   "source": [
    "### Objectives\n",
    "\n",
    "This homework is intended to get you to begin working with the tools and ironing out details. The main objectives are:\n",
    "\n",
    "- Ensure that you have the working, correct version of Python and the Jupyter system installed.\n",
    "- Develop a work flow for submitting homeworks.\n",
    "- Learn some basics of plotting.\n",
    "- Learn some basic functions."
   ]
  },
  {
   "cell_type": "markdown",
   "metadata": {},
   "source": [
    "## Structure Overview\n",
    "\n",
    "The labs and homeworks will be structured in a specific way. Code cells may already contain code (such as the first code cell below).  You should run this cell as provided.  In addition it may also contain the code\n",
    "```\n",
    "# YOUR CODE HERE\n",
    "raise NotImplementedError()\n",
    "```\n",
    "This is a placeholder that will raise an error.  You should delete these two lines and replace them with code you have written."
   ]
  },
  {
   "cell_type": "markdown",
   "metadata": {},
   "source": [
    "## Versions\n",
    "\n",
    "As stated in class and on the course website, you **must** be using `Python` version 3.6 (or later) and `IPython` version 6.0 (or later).  If you are using the Anaconda distribution, as suggested on the course website, *and* you downloaded the correct version, you should be fine.\n",
    "\n",
    "Run the following cell to determine what versions of the software you are using.  If there are any errors or if you do not have the correct versions, this must be corrected before proceding."
   ]
  },
  {
   "cell_type": "code",
   "execution_count": 1,
   "metadata": {},
   "outputs": [
    {
     "name": "stdout",
     "output_type": "stream",
     "text": [
      "Python version: 3.7.0 (default, Jun 28 2018, 08:04:48) [MSC v.1912 64 bit (AMD64)]\n",
      "IPython version: 6.5.0\n",
      "NumPy version: 1.15.1\n",
      "SciPy version: 1.1.0\n",
      "Matplotlib version: 2.2.3\n"
     ]
    }
   ],
   "source": [
    "import sys\n",
    "import IPython\n",
    "import numpy\n",
    "import scipy\n",
    "import matplotlib\n",
    "\n",
    "print(\"Python version:\", sys.version)\n",
    "print(\"IPython version:\", IPython.__version__)\n",
    "print(\"NumPy version:\", numpy.__version__)\n",
    "print(\"SciPy version:\", scipy.__version__)\n",
    "print(\"Matplotlib version:\", matplotlib.__version__)"
   ]
  },
  {
   "cell_type": "markdown",
   "metadata": {},
   "source": [
    "## Down with pylab!\n",
    "\n",
    "As a warning, there is an old fashioned way of doing plotting using the so called `pylab` interface.  This is one of the original ways of creating plots and is heavily modelled after `Matlab`.  It is not a recommended interface and should **not be used**.  It can be invoked in a couple of ways.\n",
    "\n",
    "The things to watch out for are\n",
    "- `%pylab`\n",
    "- `from matplotlib.pyplot import *`\n"
   ]
  },
  {
   "cell_type": "markdown",
   "metadata": {},
   "source": [
    "## Plotting: Pyplot interface\n",
    "\n",
    "The simplest interface for \"quick plots\" is the `pyplot` interface, which is useful when we want to quickly look at things. We will learn much more about this throughout the semester. For now, run the following cell to set up the numerical python and plotting environment for us."
   ]
  },
  {
   "cell_type": "code",
   "execution_count": 2,
   "metadata": {},
   "outputs": [],
   "source": [
    "import numpy as np\n",
    "import matplotlib.pyplot as plt\n",
    "%matplotlib inline"
   ]
  },
  {
   "cell_type": "markdown",
   "metadata": {},
   "source": [
    "We are now ready to produce our first plot.  Here we will make a histogram of 10,000 Gaussian random values.  The code below does this for us.\n",
    "\n",
    "Run the following cell:"
   ]
  },
  {
   "cell_type": "code",
   "execution_count": 3,
   "metadata": {},
   "outputs": [
    {
     "data": {
      "text/plain": [
       "(array([ 1.,  0.,  0.,  0.,  0.,  0.,  1.,  0.,  0.,  0.,  0.,  1.,  0.,\n",
       "         0.,  0.,  0.,  0.,  0.,  0.,  0.,  0.,  0.,  0.,  0.,  0.,  0.,\n",
       "         0.,  0.,  0.,  0.,  0.,  0.,  0.,  2.,  1.,  0.,  0.,  0.,  0.,\n",
       "         0.,  0.,  1.,  0.,  0.,  0.,  0.,  0.,  1.,  0.,  0.,  0.,  1.,\n",
       "         0.,  0.,  0.,  0.,  0.,  1.,  1.,  0.,  0.,  1.,  0.,  0.,  0.,\n",
       "         0.,  0.,  0.,  0.,  0.,  0.,  1.,  0.,  0.,  1.,  0.,  2.,  0.,\n",
       "         0.,  0.,  1.,  0.,  1.,  1.,  0.,  0.,  0.,  0.,  0.,  0.,  2.,\n",
       "         0.,  0.,  1.,  0.,  0.,  0.,  0.,  1.,  0.,  1.,  0.,  0.,  0.,\n",
       "         0.,  1.,  0.,  0.,  0.,  0.,  1.,  1.,  0.,  1.,  0.,  1.,  0.,\n",
       "         0.,  2.,  1.,  0.,  0.,  1.,  1.,  0.,  0.,  0.,  1.,  0.,  2.,\n",
       "         1.,  1.,  2.,  2.,  1.,  1.,  0.,  1.,  3.,  0.,  2.,  1.,  6.,\n",
       "         0.,  1.,  1.,  1.,  1.,  1.,  1.,  0.,  2.,  2.,  1.,  1.,  2.,\n",
       "         0.,  4.,  0.,  2.,  1.,  4.,  3.,  1.,  1.,  3.,  3.,  2.,  5.,\n",
       "         0.,  3.,  2.,  0.,  0.,  3.,  1.,  4.,  0.,  3.,  3.,  2.,  1.,\n",
       "         4.,  1.,  3.,  2.,  4.,  3.,  5.,  4.,  2.,  4.,  3.,  2.,  2.,\n",
       "         4.,  3.,  2.,  6.,  6.,  4.,  3.,  2.,  7.,  2.,  4.,  0.,  6.,\n",
       "         3.,  2.,  6.,  1.,  8.,  2.,  4.,  5.,  5.,  2.,  2.,  8.,  1.,\n",
       "         4.,  6.,  4.,  4.,  1.,  8.,  3.,  6., 10.,  4.,  6.,  6.,  0.,\n",
       "         5.,  6.,  6.,  7.,  5.,  6.,  7.,  2.,  3.,  5.,  8.,  3., 10.,\n",
       "         6., 10.,  4.,  4.,  5.,  7., 10.,  9.,  7.,  6.,  9.,  4.,  5.,\n",
       "         5.,  2.,  7.,  5.,  5., 11.,  3.,  8., 13.,  3.,  6.,  9., 10.,\n",
       "         6.,  5.,  5.,  9., 11., 14., 11.,  7., 13.,  7.,  9., 10.,  6.,\n",
       "         7., 10.,  9.,  7., 12., 14.,  5., 10., 16., 14., 18., 15., 14.,\n",
       "        15.,  6.,  8., 11.,  9., 10., 13., 13., 16.,  7., 12., 18., 16.,\n",
       "        17., 20., 16., 13., 20., 23., 19., 14., 12., 16., 13., 16., 10.,\n",
       "        17., 11., 11., 15., 11.,  6., 13., 20., 13., 15., 19., 19., 11.,\n",
       "        15., 12., 12., 16., 24., 14., 16., 14., 16., 19., 16., 20., 23.,\n",
       "        20., 19., 22., 14., 19., 19., 28., 17., 23., 18., 21., 30., 22.,\n",
       "        21., 17., 12., 19., 18., 26., 18., 22., 17., 23., 27., 21., 25.,\n",
       "        25., 27., 18., 23., 17., 22., 17., 24., 19., 24., 18., 22., 31.,\n",
       "        23., 24., 20., 29., 16., 26., 27., 16., 30., 39., 22., 30., 18.,\n",
       "        19., 33., 22., 26., 23., 27., 35., 25., 28., 29., 19., 25., 27.,\n",
       "        26., 29., 26., 24., 28., 31., 29., 27., 27., 29., 27., 21., 27.,\n",
       "        20., 35., 35., 20., 31., 25., 33., 36., 24., 25., 23., 20., 39.,\n",
       "        34., 22., 32., 37., 24., 32., 33., 31., 23., 31., 17., 24., 22.,\n",
       "        27., 33., 28., 30., 30., 36., 27., 32., 29., 42., 19., 18., 35.,\n",
       "        24., 26., 27., 25., 26., 33., 29., 32., 25., 26., 24., 24., 26.,\n",
       "        25., 28., 34., 26., 32., 28., 29., 30., 31., 34., 21., 34., 32.,\n",
       "        20., 27., 32., 39., 35., 28., 29., 44., 31., 27., 29., 30., 26.,\n",
       "        35., 30., 45., 35., 31., 24., 31., 23., 25., 31., 24., 26., 31.,\n",
       "        33., 24., 28., 23., 27., 26., 28., 32., 24., 20., 38., 32., 33.,\n",
       "        28., 24., 33., 39., 27., 27., 28., 13., 22., 26., 35., 33., 29.,\n",
       "        32., 24., 34., 24., 28., 35., 20., 21., 36., 20., 32., 27., 16.,\n",
       "        28., 27., 25., 19., 19., 27., 29., 25., 30., 16., 29., 25., 26.,\n",
       "        27., 20., 32., 29., 23., 20., 27., 18., 19., 21., 27., 22., 23.,\n",
       "        18., 16., 29., 21., 21., 20., 20., 19., 23., 21., 15., 18., 25.,\n",
       "        18., 25., 20., 18., 17., 19., 20., 17., 12., 27., 23., 15., 24.,\n",
       "        19., 17., 18., 20., 20., 13., 22., 11., 16., 23., 16., 19., 17.,\n",
       "        16., 12., 18., 12., 11., 17., 18., 16., 13., 12., 19., 19., 19.,\n",
       "        17., 19.,  9., 13., 15., 17., 10., 17., 19., 18., 19., 11., 11.,\n",
       "        20., 15., 20., 17., 13.,  9., 19., 14., 16., 10.,  8., 13.,  4.,\n",
       "        14., 14., 11., 15., 14., 12., 15.,  6.,  8.,  8., 10., 13.,  8.,\n",
       "         4., 10., 19.,  7., 12., 14., 10., 17., 11., 10.,  9., 11.,  9.,\n",
       "        10.,  7.,  9., 10., 10.,  6.,  8., 11.,  6., 11.,  9., 11.,  5.,\n",
       "         6.,  8.,  6.,  7.,  7.,  8.,  8.,  7.,  3.,  8.,  8., 10.,  6.,\n",
       "         6.,  9.,  6.,  5.,  6.,  4.,  7.,  8., 12., 10.,  2.,  6.,  8.,\n",
       "         2.,  4.,  4.,  2.,  8.,  3.,  7.,  7.,  5.,  7.,  2.,  7.,  7.,\n",
       "         4.,  3.,  3.,  4.,  5.,  7.,  4.,  2.,  2.,  2.,  5.,  2.,  4.,\n",
       "         3.,  4.,  2.,  4.,  4.,  1.,  3.,  2.,  6.,  2.,  3.,  3.,  3.,\n",
       "         5.,  2.,  2.,  2.,  2.,  4.,  5.,  4.,  4.,  2.,  1.,  6.,  2.,\n",
       "         3.,  2.,  2.,  0.,  1.,  4.,  1.,  4.,  1.,  1.,  1.,  2.,  2.,\n",
       "         0.,  2.,  0.,  1.,  1.,  3.,  0.,  1.,  4.,  2.,  1.,  3.,  0.,\n",
       "         0.,  0.,  3.,  2.,  1.,  1.,  2.,  0.,  2.,  2.,  2.,  1.,  3.,\n",
       "         1.,  1.,  1.,  1.,  3.,  3.,  1.,  2.,  0.,  2.,  0.,  3.,  1.,\n",
       "         0.,  0.,  1.,  1.,  0.,  1.,  1.,  0.,  1.,  0.,  2.,  0.,  3.,\n",
       "         0.,  0.,  0.,  1.,  1.,  1.,  1.,  1.,  0.,  2.,  1.,  1.,  0.,\n",
       "         1.,  0.,  1.,  0.,  0.,  1.,  0.,  0.,  0.,  0.,  0.,  0.,  0.,\n",
       "         1.,  0.,  0.,  1.,  1.,  1.,  0.,  0.,  1.,  0.,  0.,  1.,  1.,\n",
       "         1.,  0.,  0.,  0.,  0.,  0.,  0.,  0.,  0.,  0.,  0.,  0.,  2.,\n",
       "         1.,  0.,  0.,  1.,  0.,  0.,  1.,  0.,  0.,  0.,  0.,  0.,  0.,\n",
       "         2.,  0.,  0.,  0.,  0.,  0.,  0.,  0.,  0.,  1.,  0.,  0.,  0.,\n",
       "         0.,  0.,  0.,  0.,  0.,  0.,  0.,  0.,  0.,  0.,  0.,  0.,  0.,\n",
       "         0.,  0.,  0.,  0.,  0.,  0.,  0.,  0.,  0.,  0.,  0.,  0.,  0.,\n",
       "         0.,  0.,  0.,  0.,  0.,  0.,  0.,  0.,  0.,  0.,  0.,  0.,  0.,\n",
       "         0.,  0.,  0.,  0.,  0.,  0.,  0.,  0.,  1.,  0.,  0.,  0.,  0.,\n",
       "         0.,  0.,  0.,  0.,  0.,  0.,  0.,  0.,  0.,  0.,  1.,  0.,  0.,\n",
       "         0.,  0.,  0.,  0.,  0.,  0.,  0.,  0.,  0.,  0.,  0.,  1.]),\n",
       " array([-3.6140714 , -3.60658652, -3.59910164, ...,  3.85583754,\n",
       "         3.86332242,  3.8708073 ]),\n",
       " <a list of 1000 Patch objects>)"
      ]
     },
     "execution_count": 3,
     "metadata": {},
     "output_type": "execute_result"
    },
    {
     "data": {
      "image/png": "[encoded data removed]",
      "text/plain": [
       "<Figure size 432x288 with 1 Axes>"
      ]
     },
     "metadata": {
      "needs_background": "light"
     },
     "output_type": "display_data"
    }
   ],
   "source": [
    "plt.hist(np.random.normal(size=10000), 1000)"
   ]
  },
  {
   "cell_type": "markdown",
   "metadata": {},
   "source": [
    "What *should* have happened is that a long list of numbers and some other information is printed and after this a figure with the histogram in it. The fact that the figure appears in the notebook is due to us using `inline` in our call to `%matplotlib` above. While this is good, printing all those numbers was not useful.\n",
    "\n",
    "To **not** get the output from a function (the long list of numbers above) we can use another feature of the notebook: a semicolon at the end of a line suppresses output.  Note that this is a feature of the notebook, not a feature of the `Python` language. Run the following cell."
   ]
  },
  {
   "cell_type": "code",
   "execution_count": 4,
   "metadata": {},
   "outputs": [
    {
     "data": {
      "image/png": "[encoded data removed]",
      "text/plain": [
       "<Figure size 432x288 with 1 Axes>"
      ]
     },
     "metadata": {
      "needs_background": "light"
     },
     "output_type": "display_data"
    }
   ],
   "source": [
    "plt.hist(np.random.normal(size=10000), 1000);"
   ]
  },
  {
   "cell_type": "markdown",
   "metadata": {},
   "source": [
    "## Some Available Functions\n",
    "\n",
    "For most things we want to do, there are existing functions that will make our life much easier.  For numerical work, `numpy` contains most of the basic utilities.  When we run\n",
    "```\n",
    "import numpy as np\n",
    "```\n",
    "we load the `numpy` module and give it the short name (alias) `np`.  We can access functions in the `numpy` namespace using `np`, which is shorter to type and a standard convention.  You will find most code that uses `numpy` written with this shortcut."
   ]
  },
  {
   "cell_type": "markdown",
   "metadata": {},
   "source": [
    "### `arange`\n",
    "\n",
    "The `arange` function, as the name suggests, is used to generate a range of numbers (as a `numpy` array, this fact will be more useful and meaningful in the future).  Here we will explore this function.  Recall that we need to access this function (and every other `numpy` function) by prepending `np`.  This means that we access this function as `np.arange`.\n",
    "\n",
    "Check the documentation for `arange`.  You should see that there are two optional arguments, `start` and `step` (this is what is meant when the arguments are listed in square brackets) and that `dtype` has a default value (which we will ignore for now)."
   ]
  },
  {
   "cell_type": "markdown",
   "metadata": {},
   "source": [
    "##### Testing:\n",
    "\n",
    "The best way to get used to a function is to play around with it a bit.  You should do that now.  For your own edification, see what happens when you run `arange(0)`, `arange(2,0)`, `arange(3,0,-1)`.  You should understand why these behave the way they do."
   ]
  },
  {
   "cell_type": "code",
   "execution_count": 5,
   "metadata": {
    "nbgrader": {
     "grade": true,
     "grade_id": "cell-5f14ce6cad82d450",
     "locked": false,
     "points": 0.5,
     "schema_version": 1,
     "solution": true
    }
   },
   "outputs": [
    {
     "data": {
      "text/plain": [
       "array([3, 2, 1])"
      ]
     },
     "execution_count": 5,
     "metadata": {},
     "output_type": "execute_result"
    }
   ],
   "source": [
    "### BEGIN SOLUTION\n",
    "# There are many tests to do.  Here is but one of the examples.\n",
    "np.arange(3, 0, -1)\n",
    "### END SOLUTION"
   ]
  },
  {
   "cell_type": "markdown",
   "metadata": {},
   "source": [
    "###### Question:\n",
    "\n",
    "Show how to use `arange` to generate a list of numbers from -4 to 4 in steps of 0.1."
   ]
  },
  {
   "cell_type": "code",
   "execution_count": 6,
   "metadata": {
    "nbgrader": {
     "grade": true,
     "grade_id": "cell-2930654011687055",
     "locked": false,
     "points": 0.5,
     "schema_version": 1,
     "solution": true
    }
   },
   "outputs": [
    {
     "data": {
      "text/plain": [
       "array([-4.00000000e+00, -3.90000000e+00, -3.80000000e+00, -3.70000000e+00,\n",
       "       -3.60000000e+00, -3.50000000e+00, -3.40000000e+00, -3.30000000e+00,\n",
       "       -3.20000000e+00, -3.10000000e+00, -3.00000000e+00, -2.90000000e+00,\n",
       "       -2.80000000e+00, -2.70000000e+00, -2.60000000e+00, -2.50000000e+00,\n",
       "       -2.40000000e+00, -2.30000000e+00, -2.20000000e+00, -2.10000000e+00,\n",
       "       -2.00000000e+00, -1.90000000e+00, -1.80000000e+00, -1.70000000e+00,\n",
       "       -1.60000000e+00, -1.50000000e+00, -1.40000000e+00, -1.30000000e+00,\n",
       "       -1.20000000e+00, -1.10000000e+00, -1.00000000e+00, -9.00000000e-01,\n",
       "       -8.00000000e-01, -7.00000000e-01, -6.00000000e-01, -5.00000000e-01,\n",
       "       -4.00000000e-01, -3.00000000e-01, -2.00000000e-01, -1.00000000e-01,\n",
       "        3.55271368e-15,  1.00000000e-01,  2.00000000e-01,  3.00000000e-01,\n",
       "        4.00000000e-01,  5.00000000e-01,  6.00000000e-01,  7.00000000e-01,\n",
       "        8.00000000e-01,  9.00000000e-01,  1.00000000e+00,  1.10000000e+00,\n",
       "        1.20000000e+00,  1.30000000e+00,  1.40000000e+00,  1.50000000e+00,\n",
       "        1.60000000e+00,  1.70000000e+00,  1.80000000e+00,  1.90000000e+00,\n",
       "        2.00000000e+00,  2.10000000e+00,  2.20000000e+00,  2.30000000e+00,\n",
       "        2.40000000e+00,  2.50000000e+00,  2.60000000e+00,  2.70000000e+00,\n",
       "        2.80000000e+00,  2.90000000e+00,  3.00000000e+00,  3.10000000e+00,\n",
       "        3.20000000e+00,  3.30000000e+00,  3.40000000e+00,  3.50000000e+00,\n",
       "        3.60000000e+00,  3.70000000e+00,  3.80000000e+00,  3.90000000e+00])"
      ]
     },
     "execution_count": 6,
     "metadata": {},
     "output_type": "execute_result"
    }
   ],
   "source": [
    "### BEGIN SOLUTION\n",
    "np.arange(-4, 4, 0.1)\n",
    "### END SOLUTION"
   ]
  },
  {
   "cell_type": "markdown",
   "metadata": {},
   "source": [
    "Did the generated range contain the endpoint, 4?  Should it have?  Sometimes we want it to, sometimes we do not.  By default `arange` **does not contain the endpoint**.\n",
    "\n",
    "##### Question:\n",
    "\n",
    "Modify your answer to the previous part to include the endpoint, 4."
   ]
  },
  {
   "cell_type": "code",
   "execution_count": 7,
   "metadata": {
    "nbgrader": {
     "grade": true,
     "grade_id": "cell-c99b0774c5cc2c0f",
     "locked": false,
     "points": 0.5,
     "schema_version": 1,
     "solution": true
    }
   },
   "outputs": [
    {
     "data": {
      "text/plain": [
       "array([-4.00000000e+00, -3.90000000e+00, -3.80000000e+00, -3.70000000e+00,\n",
       "       -3.60000000e+00, -3.50000000e+00, -3.40000000e+00, -3.30000000e+00,\n",
       "       -3.20000000e+00, -3.10000000e+00, -3.00000000e+00, -2.90000000e+00,\n",
       "       -2.80000000e+00, -2.70000000e+00, -2.60000000e+00, -2.50000000e+00,\n",
       "       -2.40000000e+00, -2.30000000e+00, -2.20000000e+00, -2.10000000e+00,\n",
       "       -2.00000000e+00, -1.90000000e+00, -1.80000000e+00, -1.70000000e+00,\n",
       "       -1.60000000e+00, -1.50000000e+00, -1.40000000e+00, -1.30000000e+00,\n",
       "       -1.20000000e+00, -1.10000000e+00, -1.00000000e+00, -9.00000000e-01,\n",
       "       -8.00000000e-01, -7.00000000e-01, -6.00000000e-01, -5.00000000e-01,\n",
       "       -4.00000000e-01, -3.00000000e-01, -2.00000000e-01, -1.00000000e-01,\n",
       "        3.55271368e-15,  1.00000000e-01,  2.00000000e-01,  3.00000000e-01,\n",
       "        4.00000000e-01,  5.00000000e-01,  6.00000000e-01,  7.00000000e-01,\n",
       "        8.00000000e-01,  9.00000000e-01,  1.00000000e+00,  1.10000000e+00,\n",
       "        1.20000000e+00,  1.30000000e+00,  1.40000000e+00,  1.50000000e+00,\n",
       "        1.60000000e+00,  1.70000000e+00,  1.80000000e+00,  1.90000000e+00,\n",
       "        2.00000000e+00,  2.10000000e+00,  2.20000000e+00,  2.30000000e+00,\n",
       "        2.40000000e+00,  2.50000000e+00,  2.60000000e+00,  2.70000000e+00,\n",
       "        2.80000000e+00,  2.90000000e+00,  3.00000000e+00,  3.10000000e+00,\n",
       "        3.20000000e+00,  3.30000000e+00,  3.40000000e+00,  3.50000000e+00,\n",
       "        3.60000000e+00,  3.70000000e+00,  3.80000000e+00,  3.90000000e+00,\n",
       "        4.00000000e+00])"
      ]
     },
     "execution_count": 7,
     "metadata": {},
     "output_type": "execute_result"
    }
   ],
   "source": [
    "### BEGIN SOLUTION\n",
    "# To include 4 we need a stop value larger than 4, but less than 4.1.\n",
    "# One example is\n",
    "np.arange(-4, 4.05, 0.1)\n",
    "### END SOLUTION"
   ]
  },
  {
   "cell_type": "markdown",
   "metadata": {},
   "source": [
    "### `linspace`\n",
    "\n",
    "Also as noted in the `arange` documentation, an alternative function that serves a similar purpose is `linspace`.  Look up the documentation for `linspace`.  (In fact, whenever we encounter an unknown function we should look up its documentation!)\n",
    "\n",
    "Briefly compare and contrast the `linspace` and `arange` functions. It is worthwhile to redo the previous exploration of `arange` now with `linspace`."
   ]
  },
  {
   "cell_type": "markdown",
   "metadata": {},
   "source": [
    "## A \"Real\" Plot\n",
    "\n",
    "We will now take the first step toward creating a real plot.  The default plots created by `matplotlib` are \"ok\", not great, but with a little effort we can make them very nice.  We will work on this more throughout the semester.\n",
    "\n",
    "As an example, we will improve the plot we made above.  The `random.normal` function is suppose to pick random values from a Gaussian distribution with zero mean and unit variance.  We will test this by plotting the histogram along with the expected curve for a Gaussian distribution.  To do so we will proceed as follows.  All code should be put in the cell at the end of this section.\n",
    "\n",
    "### Steps:\n",
    "\n",
    "1. Generate 10,000 random numbers using `np.random.normal`.  Store them in some variable (use whatever name you prefer).\n",
    "2. Find the minimum and maximum values from your array: find appropriate functions and use them.  Print the minimum and maximum values using the `print` function.  (Note: There are a number of ways to do this, you only need to find one.)\n",
    "3. We would also like to plot the *expected* Gaussian on top of the histogram.  A general Gaussian is given by\n",
    "$$ f(x,\\mu,\\sigma) = \\frac1{\\sqrt{2\\pi\\sigma^2}} \\exp\\!\\left[ -\\frac{(x-\\mu)^2}{2\\sigma^2} \\!\\right], $$\n",
    "where $\\mu$ is the mean and $\\sigma$ is the variance (width) of the Gaussian.  (What are the *expected* values for $\\mu$ and $\\sigma$ for the distribution used by `random.normal`?)  Unfortunately, if you plot this function on top of the histogram, they will not lie on top of each other correctly.  (You should try this!)  The problem is that this function is normalized, but our histogram was not.  This is easy to fix.  Once again look at the documentation for `hist` and notice that it has a `density` keyword.\n",
    "4. We are now ready to plot the Gaussian.  To do this use the `plot` function.  When you look up its documentation you will find it has many, many options.  It is good to play with some of them.  The most useful ones for now are those that allow us to change the color, style, and width of the line. (Hint: We also need to *calculate* the Gaussian.  This uses functions like exponentiation and square roots and a constant, $\\pi$.  Naturally there are functions defined to do these operations and the value of $\\pi$ is also available to us.  In what module that we have already loaded would you expect them to be in?  What do you expect them to be called?  Often things will work out as we expect.)\n",
    "5. If you have performed the steps given above you now have a plot, but not a very useful plot.  It contains a histogram and a line, but what are these things?  What are we suppose to learn from the plot?  There are a few things we should **always** do whenever we make a plot.  Here are a few things to do to get us started:\n",
    "  1. Label the axes.  What is on the $x$ and $y$ axes in the plot?  The labels on these axes should be descriptive so that at a quick glance we know what is being plotted.  (Hint: Look up `xlabel`.)\n",
    "  2. Title the figure.  For this course you must **always** add a title to your figures.  When a figure is included in a paper you write it has a caption so a title is not always necessary. \n",
    "  3. *Suggested:* Add minor tick marks.  By default only the major tick marks (with tick labels) are created.  A figure almost always looks better with smaller ticks in-between the larger ones.  These can be turned on using `minorticks_on()`.\n",
    "6. Finally, put all of this together into a single code cell below that prints the minimum and maximum values and also produces the required plot."
   ]
  },
  {
   "cell_type": "code",
   "execution_count": 8,
   "metadata": {
    "nbgrader": {
     "grade": true,
     "grade_id": "cell-17fa0d61fcfbcd7e",
     "locked": false,
     "points": 7,
     "schema_version": 1,
     "solution": true
    }
   },
   "outputs": [
    {
     "name": "stdout",
     "output_type": "stream",
     "text": [
      "Min = -3.9177176305297645, Max = 4.20247608693322\n"
     ]
    },
    {
     "data": {
      "image/png": "[encoded data removed]",
      "text/plain": [
       "<Figure size 432x288 with 1 Axes>"
      ]
     },
     "metadata": {
      "needs_background": "light"
     },
     "output_type": "display_data"
    }
   ],
   "source": [
    "### BEGIN SOLUTION\n",
    "x = np.random.normal(size=10000)\n",
    "xmin = x.min()\n",
    "xmax = x.max()\n",
    "print('Min = {}, Max = {}'.format(xmin, xmax))\n",
    "# Round, from numpy, is a clever way to get \"round\" numbers.\n",
    "# Here we just round to 1 digit.  This is overkill, just picking\n",
    "# reasonable numbers is fine.\n",
    "rxmin = np.round(xmin, 1)\n",
    "rxmax = np.round(xmax, 1)\n",
    "bins = np.arange(rxmin,rxmax+0.01,0.1)\n",
    "plt.hist(x, bins=bins, density=True, histtype='step')\n",
    "# Default values from the random, normal distribution\n",
    "(mu, sigma) = (0.0, 1.0)\n",
    "g = np.exp(-(bins-mu)**2/(2*sigma))/np.sqrt(2*np.pi)/sigma\n",
    "plt.plot(bins, g, 'r--', lw=2)\n",
    "plt.xlabel('Random Value')\n",
    "plt.ylabel('Counts (normalized)')\n",
    "plt.title('Gaussian Distribution')\n",
    "# Force the limits to be nice.\n",
    "plt.xlim(rxmin, rxmax)\n",
    "plt.minorticks_on()\n",
    "### END SOLUTION"
   ]
  },
  {
   "cell_type": "markdown",
   "metadata": {},
   "source": [
    "## Finishing Up\n",
    "\n",
    "We are **not** done yet!  The end result of all of this work should be a single document, this notebook, that contains all the required work, documentation, and code.  It should be a complete document that \"works\".  When working on problems, we often try little things in cells, delete them, *etc.*  Due to the way the notebook works, the backend kernel remembers all these intermediate steps (variables that were created/set, for example) even after we delete the cells containing the work.  Thus we should verify that our document is complete.  One way to do so is described below.\n",
    "\n",
    "### Warning:\n",
    "\n",
    "Performing the following operation will erase all output and remove everything defined in your running kernel.  If you do **not** have everything needed saved in cells in your current document then information will be lost.  However, these steps **will not destroy anything you have entered and saved in the notebook**, it only erases the output and clears the state of the kernel.\n",
    "\n",
    "### Operation: \n",
    "\n",
    "The simplest step is to use the *Kernel* pull-down menu and select *Restart & Run All*.  This will pop up a warning telling you want it is going to do.\n",
    "\n",
    "### Note:\n",
    "\n",
    "Your notebook **will be rerun before grading**.  Even if you had left all the correct results/plots in your notebook when you uploaded it, if your notebook does not run, then it is incorrect.  A notebook is a dynamical document, not a static one.  Everyone (with the right environment installed) should be able to run it themselves and reproduce your results."
   ]
  },
  {
   "cell_type": "markdown",
   "metadata": {},
   "source": [
    "## Turning in the Assignment\n",
    "\n",
    "Once everything is completed, the assignment should be submitted by uploading it via canvas.  For a group assignment, only one member of the group needs to submit the lab.  Just make sure somebody does it!"
   ]
  }
 ],
 "metadata": {
  "celltoolbar": "Create Assignment",
  "kernelspec": {
   "display_name": "Python 3",
   "language": "python",
   "name": "python3"
  },
  "language_info": {
   "codemirror_mode": {
    "name": "ipython",
    "version": 3
   },
   "file_extension": ".py",
   "mimetype": "text/x-python",
   "name": "python",
   "nbconvert_exporter": "python",
   "pygments_lexer": "ipython3",
   "version": "3.7.0"
  }
 },
 "nbformat": 4,
 "nbformat_minor": 4
}
