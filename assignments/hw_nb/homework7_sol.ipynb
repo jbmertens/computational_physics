{
 "cells": [
  {
   "cell_type": "code",
   "execution_count": 2,
   "metadata": {},
   "outputs": [],
   "source": [
    "import numpy as np\n",
    "import matplotlib.pyplot as plt"
   ]
  },
  {
   "cell_type": "code",
   "execution_count": 4,
   "metadata": {},
   "outputs": [
    {
     "data": {
      "text/plain": [
       "[<matplotlib.lines.Line2D at 0x2be28e6fb00>]"
      ]
     },
     "execution_count": 4,
     "metadata": {},
     "output_type": "execute_result"
    },
    {
     "data": {
      "image/png": "[encoded data removed]",
      "text/plain": [
       "<Figure size 432x288 with 1 Axes>"
      ]
     },
     "metadata": {
      "needs_background": "light"
     },
     "output_type": "display_data"
    }
   ],
   "source": [
    "def diffusive_step(f, c, dx, dt) :\n",
    "    \"\"\"\n",
    "    Function to compute the solution to the diffusion\n",
    "    equation at the next timestep using Euler's method\n",
    "    and a right-handed finite differencing scheme with\n",
    "    Dirichlet boundary conditions.\n",
    "    \n",
    "    Accepts parameters:\n",
    "    f: 1-d array containing function values\n",
    "    c: wave speed\n",
    "    dx: spacing between points of f\n",
    "    dt: size of timestep\n",
    "    \"\"\"\n",
    "    f_new = np.zeros_like(f)\n",
    "    \n",
    "    # Center-difference for laplacipn of f\n",
    "    f_lap = (f[2:] - 2*f[1:-1] + f[:-2]) / dx**2\n",
    "    \n",
    "    # Forward-Euler time step for all points except the boundaries\n",
    "    f_new[1:-1] = f[1:-1] + dt*c*f_lap\n",
    "    \n",
    "    # Apply boundary conditions\n",
    "    f_new[0] = f_new[-2]\n",
    "    f_new[-1] = f_new[1]\n",
    "    \n",
    "    return f_new\n",
    "\n",
    "# We can also take a larger number of timesteps.\n",
    "# We do not bother to store intermediate steps.\n",
    "\n",
    "xs = np.linspace(-100, 100, 1000)\n",
    "dx = xs[1] - xs[0]\n",
    "dt = dx/10.\n",
    "t_final = 120 # specify a final time.\n",
    "n_steps = int(t_final / dt)\n",
    "c = 1\n",
    "\n",
    "f_ini = np.exp(-xs**2/20**2)\n",
    "f = f_ini\n",
    "for n in range(n_steps) :\n",
    "    f = diffusive_step(f, c, dx, dt)\n",
    "    \n",
    "plt.plot(xs, f_ini)\n",
    "plt.plot(xs, f)"
   ]
  },
  {
   "cell_type": "markdown",
   "metadata": {},
   "source": [
    "If we change $c$ to be negative, we have an inverse diffusion problem. This problem is unstable, for the reason that small errors are amplified, as can be shown by a stability analysis.\n",
    "\n",
    "Physically, when $c$ is negative, this is equivalent to having a negative $\\Delta t$, so we are attempting to find a heat distribution that resulted in the one we have. This corresponds to interpreting small errors as originally having been larger, subsequently diffused away, so errors are amplified.\n",
    "\n",
    "The problem also becomes ill-posed in some cases. For example, if we set up a system with a delta-function temperature distribution (zero everywhere, and non-zero at one point), there is no diffusive process which could have produced this distribution, so it is unphysical to attempt to determine an earlier state of the system."
   ]
  }
 ],
 "metadata": {
  "kernelspec": {
   "display_name": "Python 3",
   "language": "python",
   "name": "python3"
  },
  "language_info": {
   "codemirror_mode": {
    "name": "ipython",
    "version": 3
   },
   "file_extension": ".py",
   "mimetype": "text/x-python",
   "name": "python",
   "nbconvert_exporter": "python",
   "pygments_lexer": "ipython3",
   "version": "3.7.0"
  }
 },
 "nbformat": 4,
 "nbformat_minor": 2
}
